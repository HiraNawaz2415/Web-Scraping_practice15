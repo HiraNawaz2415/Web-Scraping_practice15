{
 "metadata": {
  "language_info": {
   "codemirror_mode": {
    "name": "ipython",
    "version": 3
   },
   "file_extension": ".py",
   "mimetype": "text/x-python",
   "name": "python",
   "nbconvert_exporter": "python",
   "pygments_lexer": "ipython3",
   "version": "3.12.2-final"
  },
  "orig_nbformat": 2,
  "kernelspec": {
   "name": "python3",
   "display_name": "Python 3.12.2 64-bit",
   "metadata": {
    "interpreter": {
     "hash": "d6ca1284c7bd7ae5870c8ab738ede617c834b0c6d27e733d7d2a522b2e1e0f98"
    }
   }
  }
 },
 "nbformat": 4,
 "nbformat_minor": 2,
 "cells": [
  {
   "source": [
    "# Web Scraping"
   ],
   "cell_type": "markdown",
   "metadata": {}
  },
  {
   "source": [
    "<h2>web scraping extracts unerlying HTML code and , with it, data stored in a data base or csv file. Then scraping  the entire website content elsewhere.</h2>\n",
    "<h4>Web scraping is the process of extracting data from websites using automated scripts. Python provides several libraries to make this process easy.</h4>\n"
   ],
   "cell_type": "markdown",
   "metadata": {}
  },
  {
   "source": [
    "<h2>What is Web Scraping?</h2> Extracting structured data from websites.\n",
    "<h2>When to Use?</h2> Collecting data for research, automation, or analysis.\n",
    "<h2></h2> Always check the website’s robots.txt file before scraping.\n",
    "<h5>Example:</h5> Check robots.txt for Wikipedia\n",
    "URL: https://www.wikipedia.org/robots.txt     \n",
    "scraping is not illegal"
   ],
   "cell_type": "markdown",
   "metadata": {}
  },
  {
   "source": [
    "<h3>Required</b>\n",
    " Libraries</h3>\n",
    "<b>requests</b>\n",
    " – Parse HTML\n",
    "<b>pandas</b>\n",
    " – Store data in a structured format"
   ],
   "cell_type": "markdown",
   "metadata": {}
  },
  {
   "source": [
    "<h3>Web Crawler (Spider) 🕷️</h3>\n",
    "<p>A crawler is an automated program that systematically browses the web to collect URLs and content from multiple pages. It is mainly used for indexing websites (like search engines do).</p>"
   ],
   "cell_type": "markdown",
   "metadata": {}
  },
  {
   "source": [
    "<h3>How It Works?</h3>\n",
    "- Starts with a seed URL (e.g., example.com).\n",
    "- Extracts all links on the page.\n",
    "- Follows each link to discover new pages.\n",
    "- Repeats the process to build a massive database."
   ],
   "cell_type": "markdown",
   "metadata": {}
  },
  {
   "source": [
    "<b> Example:</b> Googlebot (Google’s crawler) scans the web to index sites for search results."
   ],
   "cell_type": "markdown",
   "metadata": {}
  },
  {
   "source": [
    "<h2>Web Scraper 🛠️</h2>\n",
    "<p>A scraper is a tool that extracts specific data from web pages instead of crawling multiple sites. It focuses on structured data extraction (e.g., product prices, news headlines, etc.).\n",
    "</p>\n",
    "<h3>How It Works?</h3>\n",
    "Fetches a webpage using requests or Selenium.\n",
    "Parses the HTML using BeautifulSoup or Scrapy.\n",
    "Extracts targeted information (e.g., names, prices, links).\n",
    "Saves data in CSV, Excel, or databases.\n",
    "<b> Example:</b> A scraper that extracts product prices from Amazon."
   ],
   "cell_type": "markdown",
   "metadata": {}
  },
  {
   "source": [
    "| Feature       | Web Crawler 🕷️         | Web Scraper 🛠️          |\n",
    "|--------------|----------------------|----------------------|\n",
    "| Purpose     | Finds and indexes webpages | Extracts specific data |\n",
    "| Works on    | Multiple sites/pages   | Single/multiple pages |\n",
    "| Example Use | Googlebot indexing sites | Scraping product prices |\n",
    "| Tools Used  | Scrapy, Selenium       | BeautifulSoup, Requests |\n"
   ],
   "cell_type": "markdown",
   "metadata": {}
  },
  {
   "source": [
    "## Example: Fetching Wikipedia's Homepage"
   ],
   "cell_type": "markdown",
   "metadata": {}
  },
  {
   "cell_type": "code",
   "execution_count": 5,
   "metadata": {},
   "outputs": [
    {
     "output_type": "stream",
     "name": "stdout",
     "text": [
      "200\n<!DOCTYPE html>\n<html lang=\"en\" class=\"no-js\">\n<head>\n<meta charset=\"utf-8\">\n<title>Wikipedia</title>\n<meta name=\"description\" content=\"Wikipedia is a free online encyclopedia, created and edited by volunteers around the world and hosted by the Wikimedia Foundation.\">\n<script>\ndocument.documentElement.className = document.documentElement.className.replace( /(^|\\s)no-js(\\s|$)/, \"$1js-enabled$2\" );\n</script>\n<meta name=\"viewport\" content=\"initial-scale=1,user-scalable=yes\">\n<link rel=\"apple-touch-icon\" href=\"/static/apple-touch/wikipedia.png\">\n<link rel=\"shortcut icon\" href=\"/static/favicon/wikipedia.ico\">\n<link rel=\"license\" href=\"//creativecommons.org/licenses/by-sa/4.0/\">\n<style>\n.sprite{background-image:linear-gradient(transparent,transparent),url(portal/wikipedia.org/assets/img/sprite-de847d1a.svg);background-repeat:no-repeat;display:inline-block;vertical-align:middle}.svg-Commons-logo_sister{background-position:0 0;width:47px;height:47px}.svg-MediaWiki-logo_sister{background-positi\n"
     ]
    }
   ],
   "source": [
    "import requests\n",
    "\n",
    "url = \"https://www.wikipedia.org/\"\n",
    "response = requests.get(url)\n",
    "\n",
    "print(response.status_code)  # 200 means success\n",
    "print(response.text[:1000])   # Print first 500 characters of HTML\n"
   ]
  },
  {
   "cell_type": "code",
   "execution_count": 6,
   "metadata": {},
   "outputs": [
    {
     "output_type": "stream",
     "name": "stdout",
     "text": [
      "<Response [200]>\n"
     ]
    }
   ],
   "source": [
    "import requests\n",
    "# get()  get provided url data \n",
    "web=requests.get(\"https://www.tutorialsfreak.com/\")\n",
    "print(web)"
   ]
  },
  {
   "cell_type": "code",
   "execution_count": 7,
   "metadata": {},
   "outputs": [
    {
     "output_type": "execute_result",
     "data": {
      "text/plain": [
       "'<!DOCTYPE html><html lang=\"en\"><head><meta charSet=\"utf-8\"/><title>Tutorials Freak: Free Online Tutorials to Learn &amp; Upskill</title><link rel=\"canonical\" href=\"https://www.tutorialsfreak.com/\"/><meta name=\"viewport\" content=\"initial-scale=1.0, width=device-width\"/><meta name=\"keyword\"/><meta name=\"description\" content=\"Tutorials Freak is your source for upskilling with free online tutorials on web development, coding, cyber security, digital marketing, technologies &amp; more.\"/><meta proper'"
      ]
     },
     "metadata": {},
     "execution_count": 7
    }
   ],
   "source": [
    "web.text[:500]"
   ]
  },
  {
   "cell_type": "code",
   "execution_count": 8,
   "metadata": {},
   "outputs": [
    {
     "output_type": "execute_result",
     "data": {
      "text/plain": [
       "bout Us</a><span class=\"me-2\"> | </span><a class=\"label-color-1 text-decoration-none\" href=\"/contact-us\">Contact Us</a></div></div><div class=\"col-lg-8\"><p class=\"fs-13 lh-24 label-color-1 mb-0 footer-content fw-500 text-center text-lg-end\">\\xc2\\xa9 <!-- --> Tutorials Freak . All Rights Reserved | Design By \\xc2\\xa0<a class=\"text-decoration-none label-color-1 fw-400\" href=\"https://www.wscubetech.com/\" title=\"WsCube Tech\" target=\"_blank\" rel=\"noreferrer\">WsCube Tech</a></p></div></div></div></footer><div class=\"scroll-top-home d-block scroll-back\"><div class=\"scroll-top-btn-2 d-flex position-fixed rounded-circle text-center align-items-center justify-content-center cursor-pointer\"><svg aria-hidden=\"true\" focusable=\"false\" data-prefix=\"fas\" data-icon=\"chevron-up\" class=\"svg-inline--fa fa-chevron-up \" role=\"img\" xmlns=\"http://www.w3.org/2000/svg\" viewBox=\"0 0 448 512\" width=\"16\" height=\"16\"><path fill=\"currentColor\" d=\"M416 352c-8.188 0-16.38-3.125-22.62-9.375L224 173.3l-169.4 169.4c-12.5 12.5-32.75 12.5-45.25 0s-12.5-32.75 0-45.25l192-192c12.5-12.5 32.75-12.5 45.25 0l192 192c12.5 12.5 12.5 32.75 0 45.25C432.4 348.9 424.2 352 416 352z\"></path></svg></div></div></div></div><script id=\"__NEXT_DATA__\" type=\"application/json\">{\"props\":{\"pageProps\":{\"homePageData\":{\"homePageContent\":{\"id\":1,\"banner_title\":\"High-Quality, Practical-based, Free Tutorials\",\"banner_description\":\"Kickstart effective learning with Tutorials Freak, with new content published every day.\",\"why_us_title\":\"Why Tutorials Freak?\",\"why_us_description\":\"Learning programming and technical things can be complex. We are here to make it easy with simple and interactive tutorials.\",\"why_us_sub_title1\":\"Verified \\\\u0026 Reliable Content\",\"why_us_sub_description1\":\"The entire content on the site is verified by pro developers and tech freaks.\",\"why_us_sub_title2\":\"Dual Learning Methods\",\"why_us_sub_description2\":\"Along with simplified tutorials, you get video content created by industry experts.\",\"why_us_sub_title3\":\"Self-Directed Learning\",\"why_us_sub_description3\":\"The entire content on the site is verified by pro developers and tech freaks. Enabling self-directed learning so that you can learn at your pace and shape your own path.\",\"why_us_sub_image1\":\"2cd6e0d7-4864-4837-a4a7-e0b120282e8d-1648197173.svg\",\"why_us_sub_image2\":\"7f47bf14-d748-40f4-b9a5-921b1bb4df3f-1648197078.svg\",\"why_us_sub_image3\":\"e5eb78ac-30fd-4443-8f23-63bd378c0c01-1645691302.svg\",\"our_course_title\":\"Most Popular Tutorials\",\"our_course_description\":null,\"explore_titile\":\"Explore wide range of categories\",\"explore_description\":\"Lorem ipsum dolor sit amet, consectetur adipiscing elit. Augue est volutpat mauris arcu sed mi ac nec. Nullam nec fringilla netus donec pellentesque.\",\"explore_sub_line1\":\"Quis justo sit vitae quam odio velit mattis.\",\"explore_sub_line2\":\"Sed aliquam amet mauris quisque.\",\"explore_sub_line3\":\"Neque viverra feugiat consectetur pulvinar dictum.\",\"explore_iamge\":\"850e679f-7f64-4dc0-9640-c336ad0daeb7-1655101171.svg\",\"account_title\":\"Create your free account now on Tutorials Freak and unlock the entire content!\",\"account_description\":\"With an account, you get access to premium content and courses at no cost.\",\"learning_app_title\":\"Get Tutorials Freak Mobile App to Learn on The Go!\",\"learning_app_description\":\"Download the app now to learn and practice hassle-free.\",\"learning_app_image\":\"3d2ca30d-f3bd-45b7-aae5-2c547e2a35a2-1690631574.webp\",\"interview_questions_title\":\"Land Your Dream Job By Preparing for Interview Questions\",\"interview_questions_tagline\":\"Explore the expert-curated interview questions with answers.\",\"quiz_title\":\"Challenge Yourself With Free Quizzes\",\"quiz_tagline\":\"Plenty of quizzes with time duration and skill assessment.\",\"example_title\":\"Programming Examples For Practice\",\"example_tagline\":\"Find coding examples with programs, output, easy explanations, and videos.\",\"banner_button\":null,\"why_us_button\":null,\"explore_button1\":null,\"explore_button2\":null,\"explore_button3\":null,\"explore_button4\":null,\"account_button1\":null,\"account_button2\":null,\"form_title\":\"Book Your Live Class, For Free!\",\"form_tagline\":\"Upskill yourself for high-paying career opportunities.\",\"form_left_title\":\"3 Easy Steps to Get Started!\",\"form_left_tagline\":null,\"step1_title\":\"Step 1\",\"step1_tagline\":\"Fill in the given registration form.\",\"step2_title\":\"Step 2\",\"step2_tagline\":\"Our team will connect with you to share class details.\",\"step3_title\":\"Step 3\",\"step3_tagline\":\"Join the live demo class and connect with your mentor.\",\"form_bottom_title\":\"Book Live Session Now!\",\"button_title\":\"Online Ethical Hacking Course\",\"button_link\":\"https://www.wscubetech.com/ethical-hacking-course\",\"button_name\":\"Apply Now\"}},\"metaContent\":{\"metaTag\":[{\"id\":1,\"meta_title\":\"Tutorials Freak: Free Online Tutorials to Learn \\\\u0026 Upskill\",\"meta_keywords\":null,\"meta_description\":\"Tutorials Freak is your source for upskilling with free online tutorials on web development, coding, cyber security, digital marketing, technologies \\\\u0026 more.\"}]},\"onlineCompilerList\":{\"compilers\":[{\"id\":7,\"name\":\"Online C Compiler (Free Editor for C Programs)\",\"file_extension\":\"c\",\"slug\":\"c\",\"programming_language\":\"c\",\"sub_heading\":\"Start Coding C\",\"image\":\"f60ffd71-5b88-42f8-8396-75ad661dd4e9-1664191180.svg\"},{\"id\":6,\"name\":\"Online CSS Compiler and Editor\",\"file_extension\":\"html\",\"slug\":\"css\",\"programming_language\":\"css\",\"sub_heading\":\"Start Coding CSS\",\"image\":\"b5be3eb0-8ae8-4e22-97c9-0cdcb2a250e4-1664191183.svg\"},{\"id\":5,\"name\":\"Online Compiler for HTML (HTML Editor \\\\u0026 Code Runner)\",\"file_extension\":\"html\",\"slug\":\"html\",\"programming_language\":\"html\",\"sub_heading\":\"Run HTML Code Online\",\"image\":\"329300da-2f51-419c-be8e-58262e91fac0-1664257495.svg\"},{\"id\":4,\"name\":\"Online jQuery Editor and Compiler\",\"file_extension\":\"html\",\"slug\":\"jquery\",\"programming_language\":\"jquery\",\"sub_heading\":\"Start Coding jQuery\",\"image\":\"da172d80-2fd9-4c25-a180-5c4d7ef1b13b-1663998203.svg\"},{\"id\":3,\"name\":\"C++ Compiler Online (Free Editor for C++ Programs)\",\"file_extension\":\"cpp\",\"slug\":\"cpp\",\"programming_language\":\"cpp\",\"sub_heading\":\"Start Coding C++\",\"image\":\"ac77b308-23fd-4c41-a26c-c5df53f7e1a0-1664257491.svg\"},{\"id\":2,\"name\":\"Online PHP Compiler (Free PHP Editor)\",\"file_extension\":\"php\",\"slug\":\"php\",\"programming_language\":\"php\",\"sub_heading\":\"Start Coding PHP\",\"image\":\"0348b25c-17b7-4ade-962b-d71fd3753814-1663998384.svg\"},{\"id\":1,\"name\":\"Online Python Compiler (Free Editor for Python Programs)\",\"file_extension\":\"py\",\"slug\":\"python\",\"programming_language\":\"python\",\"sub_heading\":\"Start Coding Python\",\"image\":\"6ead73cf-3385-44f1-a540-4f717fc7e467-1663998221.svg\"}]},\"homePageCategories\":[{\"id\":30,\"name\":\"Digital Marketing\",\"slug\":\"digital-marketing\",\"home_page_title\":\"Digital Marketing Tutorials\",\"short_discription\":\"Master the skills of SEO, Google Ads, Social Media, and much more.\",\"lcourses\":[{\"id\":18,\"slug\":\"seo-tutorial\",\"lcourse_content\":{\"id\":23,\"name\":\"SEO Tutorial\",\"short_description\":\"Master SEO skills to learn how to rank websites on the first page of Google.\",\"image\":\"2abdc9df-3185-46bb-8d15-48f957251183-1698927883.png\"}},{\"id\":28,\"slug\":\"google-analytics-tutorial\",\"lcourse_content\":{\"id\":33,\"name\":\"Google Analytics Tutorial\",\"short_description\":\"Master the art of using Google Analytics and gaining valuable web/app statistics.\",\"image\":\"777b9062-963f-41b9-b379-dbd7e45155ac-1647341118.png\"}},{\"id\":24,\"slug\":\"google-ads-tutorial\",\"lcourse_content\":{\"id\":29,\"name\":\"Google Ads Tutorial\",\"short_description\":\"Learn how to run effective and successful ad campaigns using Google Ads.\",\"image\":\"6809478b-e2d9-40c4-bd9b-49af619fe51d-1647341184.png\"}},{\"id\":27,\"slug\":\"facebook-marketing-tutorial\",\"lcourse_content\":{\"id\":32,\"name\":\"Facebook Marketing Tutorial\",\"short_description\":\"Learn the art of establishing an online presence with Facebook Marketing.\",\"image\":\"1610baff-f1d6-4798-b371-a08170430ef5-1647341141.png\"}}]},{\"id\":19,\"name\":\"Cybersecurity\",\"slug\":\"cybersecurity\",\"home_page_title\":\"Cyber Security Tutorials\",\"short_discription\":\"Learn ethical hacking, penetration testing, and numerous cyber security concepts with ease.\",\"lcourses\":[{\"id\":8,\"slug\":\"web-application-penetration-testing-tutorial\",\"lcourse_content\":{\"id\":10,\"name\":\"Web App Penetration Testing Tutorial\",\"short_description\":\"Acquire essential skills required to become a pro web penetration tester.\",\"image\":\"7fd6b3ae-d77a-4e80-80bc-02b5b47c32df-1647346507.png\"}},{\"id\":6,\"slug\":\"ethical-hacking-tutorial\",\"lcourse_content\":{\"id\":8,\"name\":\"Ethical Hacking Tutorial\",\"short_description\":\"Learn everything about ethical hacking, from basic to advanced concepts.\",\"image\":\"6866b1dd-63f8-4890-8575-b9694a0f2059-1647346542.png\"}},{\"id\":19,\"slug\":\"wi-fi-tutorial\",\"lcourse_content\":{\"id\":24,\"name\":\"Wi-Fi Tutorial\",\"short_description\":\"Easily learn basic to advanced concepts related to Wi-Fi technology.\",\"image\":\"b0e19544-404c-4fc9-98f7-dec86108f307-1647346477.png\"}},{\"id\":7,\"slug\":\"app-penetration-testing-tutorial\",\"lcourse_content\":{\"id\":9,\"name\":\"Android Penetration Testing Tutorial\",\"short_description\":\"Learn how to find bugs and security flaws in mobile apps with practicals.\",\"image\":\"1d92f6e0-6c73-4cfe-97af-6c1107cb3a81-1647346526.png\"}},{\"id\":23,\"slug\":\"nmap-tutorial\",\"lcourse_content\":{\"id\":28,\"name\":\"Nmap Tutorial\",\"short_description\":\"Master the use of the Nmap tool for scanning and mapping networks.\",\"image\":\"6f00770a-cf1d-44e6-b68b-a6cbce05d35c-1647341196.png\"}}]},{\"id\":32,\"name\":\"Web Technologies\",\"slug\":\"web-technologies\",\"home_page_title\":\"Web Technologies \\\\u0026 Programming Tutorials\",\"short_discription\":\"Find tutorials on top programming languages and trending web development technologies.\",\"lcourses\":[{\"id\":25,\"slug\":\"reactjs-tutorial\",\"lcourse_content\":{\"id\":30,\"name\":\"ReactJS Tutorial\",\"short_description\":\"Make yourself future-ready in web development by learning ReactJS.\",\"image\":\"6dee8d03-5667-4b32-b483-af2b62dcd8d3-1647338788.png\"}},{\"id\":56,\"slug\":\"html-tutorial\",\"lcourse_content\":{\"id\":83,\"name\":\"HTML Tutorial\",\"short_description\":\"Comprehensive tutorial to learn core concepts of HTML\",\"image\":\"1dfd57c3-0d4e-41e7-996e-8e5b523c207f-1693984113.png\"}},{\"id\":31,\"slug\":\"jquery-tutorial\",\"lcourse_content\":{\"id\":37,\"name\":\"jQuery Tutorial\",\"short_description\":\"The complete jQuery tutorial for beginners with examples \\\\u0026 videos.\",\"image\":\"861b734d-1200-4ef9-9f80-fdcbf2d5918b-1654781169.png\"}},{\"id\":34,\"slug\":\"git-tutorial\",\"lcourse_content\":{\"id\":40,\"name\":\"Git Tutorial\",\"short_description\":\"Learn everything about Git in this comprehensive tutorial for beginners.\",\"image\":\"28a317b0-5132-4aba-8a49-5ea970f23a49-1671862480.png\"}}]}],\"homePagecoursesExample\":[{\"id\":46,\"slug\":\"java-tutorial\",\"lcourse_content\":{\"id\":62,\"name\":\"Java Tutorials\",\"image\":\"a111d660-d0b6-404b-86e1-6b729fbdc179-1683633265.png\",\"example_menu_title\":\"Java Programs\"}},{\"id\":26,\"slug\":\"python-tutorial\",\"lcourse_content\":{\"id\":31,\"name\":\"Python Tutorial\",\"image\":\"bbbfd30a-e52d-4e03-ae5c-d76e95e7a22f-1647341152.png\",\"example_menu_title\":\"Python Programs\"}}],\"homePagecoursesQuiz\":[{\"id\":25,\"slug\":\"reactjs-tutorial\",\"lcourse_content\":{\"id\":30,\"name\":\"ReactJS Tutorial\",\"image\":\"6dee8d03-5667-4b32-b483-af2b62dcd8d3-1647338788.png\",\"quiz_menu_title\":\"ReactJS Quiz\"}},{\"id\":8,\"slug\":\"web-application-penetration-testing-tutorial\",\"lcourse_content\":{\"id\":10,\"name\":\"Web App Penetration Testing Tutorial\",\"image\":\"7fd6b3ae-d77a-4e80-80bc-02b5b47c32df-1647346507.png\",\"quiz_menu_title\":\"Web App Penetration Testing Quiz\"}},{\"id\":20,\"slug\":\"internet-of-things-iot-tutorial\",\"lcourse_content\":{\"id\":25,\"name\":\"Internet of Things (IoT) Tutorial\",\"image\":\"283eae7c-8974-49f2-a0a5-e0ac4c0e9215-1647338853.png\",\"quiz_menu_title\":\"IoT Quiz\"}},{\"id\":26,\"slug\":\"python-tutorial\",\"lcourse_content\":{\"id\":31,\"name\":\"Python Tutorial\",\"image\":\"bbbfd30a-e52d-4e03-ae5c-d76e95e7a22f-1647341152.png\",\"quiz_menu_title\":\"Python Quiz\"}},{\"id\":7,\"slug\":\"app-penetration-testing-tutorial\",\"lcourse_content\":{\"id\":9,\"name\":\"Android Penetration Testing Tutorial\",\"image\":\"1d92f6e0-6c73-4cfe-97af-6c1107cb3a81-1647346526.png\",\"quiz_menu_title\":\"Android Penetration Testing Quiz\"}},{\"id\":6,\"slug\":\"ethical-hacking-tutorial\",\"lcourse_content\":{\"id\":8,\"name\":\"Ethical Hacking Tutorial\",\"image\":\"6866b1dd-63f8-4890-8575-b9694a0f2059-1647346542.png\",\"quiz_menu_title\":\"Ethical Hacking Quiz\"}},{\"id\":18,\"slug\":\"seo-tutorial\",\"lcourse_content\":{\"id\":23,\"name\":\"SEO Tutorial\",\"image\":\"2abdc9df-3185-46bb-8d15-48f957251183-1698927883.png\",\"quiz_menu_title\":\"SEO Quiz\"}}],\"homePagecoursesInterviewQuestion\":[{\"id\":31,\"slug\":\"jquery-tutorial\",\"lcourse_content\":{\"id\":37,\"name\":\"jQuery Tutorial\",\"image\":\"861b734d-1200-4ef9-9f80-fdcbf2d5918b-1654781169.png\",\"interview_que_menu_title\":\"jQuery Interview Questions\"}},{\"id\":32,\"slug\":\"php-tutorial\",\"lcourse_content\":{\"id\":38,\"name\":\"PHP Tutorial\",\"image\":\"99334bcb-06ec-402d-8461-a1d886d97b8e-1654319072.png\",\"interview_que_menu_title\":\"PHP Interview Questions\"}},{\"id\":34,\"slug\":\"git-tutorial\",\"lcourse_content\":{\"id\":40,\"name\":\"Git Tutorial\",\"image\":\"28a317b0-5132-4aba-8a49-5ea970f23a49-1671862480.png\",\"interview_que_menu_title\":\"Git Interview Questions\"}},{\"id\":25,\"slug\":\"reactjs-tutorial\",\"lcourse_content\":{\"id\":30,\"name\":\"ReactJS Tutorial\",\"image\":\"6dee8d03-5667-4b32-b483-af2b62dcd8d3-1647338788.png\",\"interview_que_menu_title\":\"ReactJS Interview Questions\"}},{\"id\":8,\"slug\":\"web-application-penetration-testing-tutorial\",\"lcourse_content\":{\"id\":10,\"name\":\"Web App Penetration Testing Tutorial\",\"image\":\"7fd6b3ae-d77a-4e80-80bc-02b5b47c32df-1647346507.png\",\"interview_que_menu_title\":\"Web App Penetration Testing Interview Questions\"}},{\"id\":20,\"slug\":\"internet-of-things-iot-tutorial\",\"lcourse_content\":{\"id\":25,\"name\":\"Internet of Things (IoT) Tutorial\",\"image\":\"283eae7c-8974-49f2-a0a5-e0ac4c0e9215-1647338853.png\",\"interview_que_menu_title\":\"IoT Interview Questions\"}},{\"id\":28,\"slug\":\"google-analytics-tutorial\",\"lcourse_content\":{\"id\":33,\"name\":\"Google Analytics Tutorial\",\"image\":\"777b9062-963f-41b9-b379-dbd7e45155ac-1647341118.png\",\"interview_que_menu_title\":\"Google Analytics Interview Questions\"}},{\"id\":46,\"slug\":\"java-tutorial\",\"lcourse_content\":{\"id\":62,\"name\":\"Java Tutorials\",\"image\":\"a111d660-d0b6-404b-86e1-6b729fbdc179-1683633265.png\",\"interview_que_menu_title\":\"Java Interview Questions\"}},{\"id\":26,\"slug\":\"python-tutorial\",\"lcourse_content\":{\"id\":31,\"name\":\"Python Tutorial\",\"image\":\"bbbfd30a-e52d-4e03-ae5c-d76e95e7a22f-1647341152.png\",\"interview_que_menu_title\":\"Python Interview Questions\"}},{\"id\":7,\"slug\":\"app-penetration-testing-tutorial\",\"lcourse_content\":{\"id\":9,\"name\":\"Android Penetration Testing Tutorial\",\"image\":\"1d92f6e0-6c73-4cfe-97af-6c1107cb3a81-1647346526.png\",\"interview_que_menu_title\":\"Android Penetration Testing Interview Questions\"}},{\"id\":6,\"slug\":\"ethical-hacking-tutorial\",\"lcourse_content\":{\"id\":8,\"name\":\"Ethical Hacking Tutorial\",\"image\":\"6866b1dd-63f8-4890-8575-b9694a0f2059-1647346542.png\",\"interview_que_menu_title\":\"Ethical Hacking Interview Questions\"}},{\"id\":23,\"slug\":\"nmap-tutorial\",\"lcourse_content\":{\"id\":28,\"name\":\"Nmap Tutorial\",\"image\":\"6f00770a-cf1d-44e6-b68b-a6cbce05d35c-1647341196.png\",\"interview_que_menu_title\":\"Nmap Interview Questions\"}},{\"id\":24,\"slug\":\"google-ads-tutorial\",\"lcourse_content\":{\"id\":29,\"name\":\"Google Ads Tutorial\",\"image\":\"6809478b-e2d9-40c4-bd9b-49af619fe51d-1647341184.png\",\"interview_que_menu_title\":\"Google Ads Interview Questions\"}}],\"liveCourses\":{\"image_path\":\"https://d1iz2g3osnpxt2.cloudfront.net/uploads/images/live-course/\",\"courses\":[{\"id\":1,\"live_course_title\":\"Full Stack Web Development Course\",\"live_course_link\":\"https://bit.ly/web-developer-course-ws\",\"button_name\":\"Book Demo Class\",\"description\":\"\\\\u003c?xml encoding=\\\\\"utf-8\\\\\" ?\\\\u003e\\\\u003c!--?xml encoding=\\\\\"utf-8\\\\\" ?--\\\\u003e\\\\u003c!--?xml encoding=\\\\\"utf-8\\\\\" ?--\\\\u003e\\\\u003c!--?xml encoding=\\\\\"utf-8\\\\\" ?--\\\\u003e\\\\u003c!--?xml encoding=\\\\\"utf-8\\\\\" ?--\\\\u003e\\\\u003c!--?xml encoding=\\\\\"utf-8\\\\\" ?--\\\\u003e\\\\u003cul\\\\u003e\\\\r\\\\n\\\\u003cli\\\\u003eBuild High-Paying Career\\\\u003c/li\\\\u003e\\\\r\\\\n\\\\u003cli\\\\u003eWork on 10+ Projects\\\\u003c/li\\\\u003e\\\\r\\\\n\\\\u003cli\\\\u003eLive Training by Experts\\\\u003c/li\\\\u003e\\\\r\\\\n\\\\u003c/ul\\\\u003e\\\\n\",\"image\":\"efd015c2-41c7-4a6b-a070-0f703772b6b4-1706854302.jpg\",\"live_category\":{\"id\":1,\"name\":\"Web Development\"}},{\"id\":3,\"live_course_title\":\"Digital Marketing Course\",\"live_course_link\":\"https://bit.ly/digital-marketing-course-ws\",\"button_name\":\"Book Demo Class\",\"description\":\"\\\\u003c?xml encoding=\\\\\"utf-8\\\\\" ?\\\\u003e\\\\u003c!--?xml encoding=\\\\\"utf-8\\\\\" ?--\\\\u003e\\\\u003c!--?xml encoding=\\\\\"utf-8\\\\\" ?--\\\\u003e\\\\u003c!--?xml encoding=\\\\\"utf-8\\\\\" ?--\\\\u003e\\\\u003c!--?xml encoding=\\\\\"utf-8\\\\\" ?--\\\\u003e\\\\u003cul\\\\u003e\\\\r\\\\n\\\\u003cli\\\\u003e\\\\u0026#8377;10 Lakh Per Year Average Salary\\\\u003c/li\\\\u003e\\\\r\\\\n\\\\u003cli\\\\u003eLive Mentorship \\\\u0026amp; Guidance\\\\u003c/li\\\\u003e\\\\r\\\\n\\\\u003cli\\\\u003eHands-on Real Projects\\\\u003c/li\\\\u003e\\\\r\\\\n\\\\u003c/ul\\\\u003e\\\\n\",\"image\":\"15bc3a4a-e684-45b9-b22a-d156711f1505-1706854288.jpg\",\"live_category\":{\"id\":2,\"name\":\"Digital Marketing\"}},{\"id\":4,\"live_course_title\":\"SEO Course\",\"live_course_link\":\"https://bit.ly/seo-course-ws\",\"button_name\":\"Book Demo Class\",\"description\":\"\\\\u003c?xml encoding=\\\\\"utf-8\\\\\" ?\\\\u003e\\\\u003c!--?xml encoding=\\\\\"utf-8\\\\\" ?--\\\\u003e\\\\u003c!--?xml encoding=\\\\\"utf-8\\\\\" ?--\\\\u003e\\\\u003c!--?xml encoding=\\\\\"utf-8\\\\\" ?--\\\\u003e\\\\u003cul\\\\u003e\\\\r\\\\n\\\\u003cli\\\\u003eBecome Certified SEO Pro\\\\u003c/li\\\\u003e\\\\r\\\\n\\\\u003cli\\\\u003eLive Mentorship \\\\u0026amp; Guidance\\\\u003c/li\\\\u003e\\\\r\\\\n\\\\u003cli\\\\u003eFree Domain, Web Hosting, Projects\\\\u003c/li\\\\u003e\\\\r\\\\n\\\\u003c/ul\\\\u003e\\\\n\",\"image\":\"3bc94ced-cf7a-4d08-9a65-581c38fb14c2-1706854314.jpg\",\"live_category\":{\"id\":2,\"name\":\"Digital Marketing\"}},{\"id\":5,\"live_course_title\":\"Python Certification Course\",\"live_course_link\":\"https://www.wscubetech.com/online-python-certification-course-india.html?utm_source=TutorialsFreak\\\\u0026utm_medium=python-tutorial\\\\u0026utm_campaign=leads\",\"button_name\":\"Book Demo Class\",\"description\":\"\\\\u003c?xml encoding=\\\\\"utf-8\\\\\" ?\\\\u003e\\\\u003cul\\\\u003e\\\\r\\\\n\\\\u003cli\\\\u003e45-days training\\\\u003c/li\\\\u003e\\\\r\\\\n\\\\u003cli\\\\u003eHands-on projects\\\\u003c/li\\\\u003e\\\\r\\\\n\\\\u003cli\\\\u003eExpert mentorship\\\\u003c/li\\\\u003e\\\\r\\\\n\\\\u003c/ul\\\\u003e\\\\n\",\"image\":\"60d7ca0f-7dc9-4d96-a9b5-155fd32ebda8-1706854405.jpg\",\"live_category\":{\"id\":4,\"name\":\"Data Analytics\"}},{\"id\":6,\"live_course_title\":\"Data Analytics Course\",\"live_course_link\":\"https://www.wscubetech.com/online-data-analytics-course.html?utm_source=TutorialsFreak\\\\u0026utm_medium=ai-tutorial\\\\u0026utm_campaign=leads\",\"button_name\":\"Book Demo Class\",\"description\":\"\\\\u003c?xml encoding=\\\\\"utf-8\\\\\" ?\\\\u003e\\\\u003cul\\\\u003e\\\\r\\\\n\\\\u003cli\\\\u003eDevelop job-ready skills\\\\u003c/li\\\\u003e\\\\r\\\\n\\\\u003cli\\\\u003eProject-based approach\\\\u003c/li\\\\u003e\\\\r\\\\n\\\\u003cli\\\\u003eCertification \\\\u0026amp; mentorship\\\\u003c/li\\\\u003e\\\\r\\\\n\\\\u003c/ul\\\\u003e\\\\n\",\"image\":\"948a0a2c-3199-44b3-a1c2-be41e5c5c3e1-1706854606.jpg\",\"live_category\":{\"id\":4,\"name\":\"Data Analytics\"}},{\"id\":7,\"live_course_title\":\"Ethical Hacking Course\",\"live_course_link\":\"https://www.wscubetech.com/online-ethical-hacking-course.html?utm_source=TutorialsFreak\\\\u0026utm_medium=eh-tutorial\\\\u0026utm_campaign=leads\",\"button_name\":\"Book Demo Class\",\"description\":\"\\\\u003c?xml encoding=\\\\\"utf-8\\\\\" ?\\\\u003e\\\\u003cul\\\\u003e\\\\r\\\\n\\\\u003cli\\\\u003e2 months training\\\\u003c/li\\\\u003e\\\\r\\\\n\\\\u003cli\\\\u003e100% practical\\\\u003c/li\\\\u003e\\\\r\\\\n\\\\u003cli\\\\u003eGet certified\\\\u003c/li\\\\u003e\\\\r\\\\n\\\\u003c/ul\\\\u003e\\\\n\",\"image\":\"34497f12-312c-4827-8dae-7d7914314e74-1706854737.jpg\",\"live_category\":{\"id\":3,\"name\":\"Cyber Security\"}}]}},\"__N_SSP\":true},\"page\":\"/\",\"query\":{},\"buildId\":\"887JWZIhfehTF7sVinbyP\",\"isFallback\":false,\"dynamicIds\":[96732,63423,43765,30337,69808,9505,2410,13313,61054,72815,78669,81204,68194,37075,83062,66339],\"gssp\":true,\"scriptLoader\":[]}</script></body></html>'"
      ]
     },
     "metadata": {},
     "execution_count": 8
    }
   ],
   "source": [
    "web.content # provide website complete code that will be in rough format"
   ]
  },
  {
   "cell_type": "code",
   "execution_count": 9,
   "metadata": {},
   "outputs": [
    {
     "output_type": "execute_result",
     "data": {
      "text/plain": [
       "'https://www.tutorialsfreak.com/'"
      ]
     },
     "metadata": {},
     "execution_count": 9
    }
   ],
   "source": [
    "web.url"
   ]
  },
  {
   "cell_type": "code",
   "execution_count": 10,
   "metadata": {},
   "outputs": [
    {
     "output_type": "execute_result",
     "data": {
      "text/plain": [
       "200"
      ]
     },
     "metadata": {},
     "execution_count": 10
    }
   ],
   "source": [
    "web.status_code"
   ]
  },
  {
   "source": [
    "## Parsing the HTML in webpage "
   ],
   "cell_type": "markdown",
   "metadata": {}
  },
  {
   "cell_type": "code",
   "execution_count": 12,
   "metadata": {},
   "outputs": [],
   "source": [
    " import requests\n",
    " from bs4 import BeautifulSoup\n"
   ]
  },
  {
   "cell_type": "code",
   "execution_count": null,
   "metadata": {},
   "outputs": [],
   "source": [
    "web=requests.get(\"https://www.tutorialsfreak.com/\")"
   ]
  },
  {
   "cell_type": "code",
   "execution_count": 13,
   "metadata": {},
   "outputs": [],
   "source": [
    "soup=BeautifulSoup(web.content,\"html.parser\")"
   ]
  },
  {
   "cell_type": "code",
   "execution_count": 14,
   "metadata": {},
   "outputs": [
    {
     "output_type": "execute_result",
     "data": {
      "text/plain": [
       "bel-color-1 mb-0 footer-content fw-500 text-center text-lg-end\">\\n         ©\\n         <!-- -->\\n         Tutorials Freak . All Rights Reserved | Design By\\n         <a class=\"text-decoration-none label-color-1 fw-400\" href=\"https://www.wscubetech.com/\" rel=\"noreferrer\" target=\"_blank\" title=\"WsCube Tech\">\\n          WsCube Tech\\n         </a>\\n        </p>\\n       </div>\\n      </div>\\n     </div>\\n    </footer>\\n    <div class=\"scroll-top-home d-block scroll-back\">\\n     <div class=\"scroll-top-btn-2 d-flex position-fixed rounded-circle text-center align-items-center justify-content-center cursor-pointer\">\\n      <svg aria-hidden=\"true\" class=\"svg-inline--fa fa-chevron-up\" data-icon=\"chevron-up\" data-prefix=\"fas\" focusable=\"false\" height=\"16\" role=\"img\" viewbox=\"0 0 448 512\" width=\"16\" xmlns=\"http://www.w3.org/2000/svg\">\\n       <path d=\"M416 352c-8.188 0-16.38-3.125-22.62-9.375L224 173.3l-169.4 169.4c-12.5 12.5-32.75 12.5-45.25 0s-12.5-32.75 0-45.25l192-192c12.5-12.5 32.75-12.5 45.25 0l192 192c12.5 12.5 12.5 32.75 0 45.25C432.4 348.9 424.2 352 416 352z\" fill=\"currentColor\">\\n       </path>\\n      </svg>\\n     </div>\\n    </div>\\n   </div>\\n  </div>\\n  <script id=\"__NEXT_DATA__\" type=\"application/json\">\\n   {\"props\":{\"pageProps\":{\"homePageData\":{\"homePageContent\":{\"id\":1,\"banner_title\":\"High-Quality, Practical-based, Free Tutorials\",\"banner_description\":\"Kickstart effective learning with Tutorials Freak, with new content published every day.\",\"why_us_title\":\"Why Tutorials Freak?\",\"why_us_description\":\"Learning programming and technical things can be complex. We are here to make it easy with simple and interactive tutorials.\",\"why_us_sub_title1\":\"Verified \\\\u0026 Reliable Content\",\"why_us_sub_description1\":\"The entire content on the site is verified by pro developers and tech freaks.\",\"why_us_sub_title2\":\"Dual Learning Methods\",\"why_us_sub_description2\":\"Along with simplified tutorials, you get video content created by industry experts.\",\"why_us_sub_title3\":\"Self-Directed Learning\",\"why_us_sub_description3\":\"The entire content on the site is verified by pro developers and tech freaks. Enabling self-directed learning so that you can learn at your pace and shape your own path.\",\"why_us_sub_image1\":\"2cd6e0d7-4864-4837-a4a7-e0b120282e8d-1648197173.svg\",\"why_us_sub_image2\":\"7f47bf14-d748-40f4-b9a5-921b1bb4df3f-1648197078.svg\",\"why_us_sub_image3\":\"e5eb78ac-30fd-4443-8f23-63bd378c0c01-1645691302.svg\",\"our_course_title\":\"Most Popular Tutorials\",\"our_course_description\":null,\"explore_titile\":\"Explore wide range of categories\",\"explore_description\":\"Lorem ipsum dolor sit amet, consectetur adipiscing elit. Augue est volutpat mauris arcu sed mi ac nec. Nullam nec fringilla netus donec pellentesque.\",\"explore_sub_line1\":\"Quis justo sit vitae quam odio velit mattis.\",\"explore_sub_line2\":\"Sed aliquam amet mauris quisque.\",\"explore_sub_line3\":\"Neque viverra feugiat consectetur pulvinar dictum.\",\"explore_iamge\":\"850e679f-7f64-4dc0-9640-c336ad0daeb7-1655101171.svg\",\"account_title\":\"Create your free account now on Tutorials Freak and unlock the entire content!\",\"account_description\":\"With an account, you get access to premium content and courses at no cost.\",\"learning_app_title\":\"Get Tutorials Freak Mobile App to Learn on The Go!\",\"learning_app_description\":\"Download the app now to learn and practice hassle-free.\",\"learning_app_image\":\"3d2ca30d-f3bd-45b7-aae5-2c547e2a35a2-1690631574.webp\",\"interview_questions_title\":\"Land Your Dream Job By Preparing for Interview Questions\",\"interview_questions_tagline\":\"Explore the expert-curated interview questions with answers.\",\"quiz_title\":\"Challenge Yourself With Free Quizzes\",\"quiz_tagline\":\"Plenty of quizzes with time duration and skill assessment.\",\"example_title\":\"Programming Examples For Practice\",\"example_tagline\":\"Find coding examples with programs, output, easy explanations, and videos.\",\"banner_button\":null,\"why_us_button\":null,\"explore_button1\":null,\"explore_button2\":null,\"explore_button3\":null,\"explore_button4\":null,\"account_button1\":null,\"account_button2\":null,\"form_title\":\"Book Your Live Class, For Free!\",\"form_tagline\":\"Upskill yourself for high-paying career opportunities.\",\"form_left_title\":\"3 Easy Steps to Get Started!\",\"form_left_tagline\":null,\"step1_title\":\"Step 1\",\"step1_tagline\":\"Fill in the given registration form.\",\"step2_title\":\"Step 2\",\"step2_tagline\":\"Our team will connect with you to share class details.\",\"step3_title\":\"Step 3\",\"step3_tagline\":\"Join the live demo class and connect with your mentor.\",\"form_bottom_title\":\"Book Live Session Now!\",\"button_title\":\"Online Ethical Hacking Course\",\"button_link\":\"https://www.wscubetech.com/ethical-hacking-course\",\"button_name\":\"Apply Now\"}},\"metaContent\":{\"metaTag\":[{\"id\":1,\"meta_title\":\"Tutorials Freak: Free Online Tutorials to Learn \\\\u0026 Upskill\",\"meta_keywords\":null,\"meta_description\":\"Tutorials Freak is your source for upskilling with free online tutorials on web development, coding, cyber security, digital marketing, technologies \\\\u0026 more.\"}]},\"onlineCompilerList\":{\"compilers\":[{\"id\":7,\"name\":\"Online C Compiler (Free Editor for C Programs)\",\"file_extension\":\"c\",\"slug\":\"c\",\"programming_language\":\"c\",\"sub_heading\":\"Start Coding C\",\"image\":\"f60ffd71-5b88-42f8-8396-75ad661dd4e9-1664191180.svg\"},{\"id\":6,\"name\":\"Online CSS Compiler and Editor\",\"file_extension\":\"html\",\"slug\":\"css\",\"programming_language\":\"css\",\"sub_heading\":\"Start Coding CSS\",\"image\":\"b5be3eb0-8ae8-4e22-97c9-0cdcb2a250e4-1664191183.svg\"},{\"id\":5,\"name\":\"Online Compiler for HTML (HTML Editor \\\\u0026 Code Runner)\",\"file_extension\":\"html\",\"slug\":\"html\",\"programming_language\":\"html\",\"sub_heading\":\"Run HTML Code Online\",\"image\":\"329300da-2f51-419c-be8e-58262e91fac0-1664257495.svg\"},{\"id\":4,\"name\":\"Online jQuery Editor and Compiler\",\"file_extension\":\"html\",\"slug\":\"jquery\",\"programming_language\":\"jquery\",\"sub_heading\":\"Start Coding jQuery\",\"image\":\"da172d80-2fd9-4c25-a180-5c4d7ef1b13b-1663998203.svg\"},{\"id\":3,\"name\":\"C++ Compiler Online (Free Editor for C++ Programs)\",\"file_extension\":\"cpp\",\"slug\":\"cpp\",\"programming_language\":\"cpp\",\"sub_heading\":\"Start Coding C++\",\"image\":\"ac77b308-23fd-4c41-a26c-c5df53f7e1a0-1664257491.svg\"},{\"id\":2,\"name\":\"Online PHP Compiler (Free PHP Editor)\",\"file_extension\":\"php\",\"slug\":\"php\",\"programming_language\":\"php\",\"sub_heading\":\"Start Coding PHP\",\"image\":\"0348b25c-17b7-4ade-962b-d71fd3753814-1663998384.svg\"},{\"id\":1,\"name\":\"Online Python Compiler (Free Editor for Python Programs)\",\"file_extension\":\"py\",\"slug\":\"python\",\"programming_language\":\"python\",\"sub_heading\":\"Start Coding Python\",\"image\":\"6ead73cf-3385-44f1-a540-4f717fc7e467-1663998221.svg\"}]},\"homePageCategories\":[{\"id\":30,\"name\":\"Digital Marketing\",\"slug\":\"digital-marketing\",\"home_page_title\":\"Digital Marketing Tutorials\",\"short_discription\":\"Master the skills of SEO, Google Ads, Social Media, and much more.\",\"lcourses\":[{\"id\":18,\"slug\":\"seo-tutorial\",\"lcourse_content\":{\"id\":23,\"name\":\"SEO Tutorial\",\"short_description\":\"Master SEO skills to learn how to rank websites on the first page of Google.\",\"image\":\"2abdc9df-3185-46bb-8d15-48f957251183-1698927883.png\"}},{\"id\":28,\"slug\":\"google-analytics-tutorial\",\"lcourse_content\":{\"id\":33,\"name\":\"Google Analytics Tutorial\",\"short_description\":\"Master the art of using Google Analytics and gaining valuable web/app statistics.\",\"image\":\"777b9062-963f-41b9-b379-dbd7e45155ac-1647341118.png\"}},{\"id\":24,\"slug\":\"google-ads-tutorial\",\"lcourse_content\":{\"id\":29,\"name\":\"Google Ads Tutorial\",\"short_description\":\"Learn how to run effective and successful ad campaigns using Google Ads.\",\"image\":\"6809478b-e2d9-40c4-bd9b-49af619fe51d-1647341184.png\"}},{\"id\":27,\"slug\":\"facebook-marketing-tutorial\",\"lcourse_content\":{\"id\":32,\"name\":\"Facebook Marketing Tutorial\",\"short_description\":\"Learn the art of establishing an online presence with Facebook Marketing.\",\"image\":\"1610baff-f1d6-4798-b371-a08170430ef5-1647341141.png\"}}]},{\"id\":19,\"name\":\"Cybersecurity\",\"slug\":\"cybersecurity\",\"home_page_title\":\"Cyber Security Tutorials\",\"short_discription\":\"Learn ethical hacking, penetration testing, and numerous cyber security concepts with ease.\",\"lcourses\":[{\"id\":8,\"slug\":\"web-application-penetration-testing-tutorial\",\"lcourse_content\":{\"id\":10,\"name\":\"Web App Penetration Testing Tutorial\",\"short_description\":\"Acquire essential skills required to become a pro web penetration tester.\",\"image\":\"7fd6b3ae-d77a-4e80-80bc-02b5b47c32df-1647346507.png\"}},{\"id\":6,\"slug\":\"ethical-hacking-tutorial\",\"lcourse_content\":{\"id\":8,\"name\":\"Ethical Hacking Tutorial\",\"short_description\":\"Learn everything about ethical hacking, from basic to advanced concepts.\",\"image\":\"6866b1dd-63f8-4890-8575-b9694a0f2059-1647346542.png\"}},{\"id\":19,\"slug\":\"wi-fi-tutorial\",\"lcourse_content\":{\"id\":24,\"name\":\"Wi-Fi Tutorial\",\"short_description\":\"Easily learn basic to advanced concepts related to Wi-Fi technology.\",\"image\":\"b0e19544-404c-4fc9-98f7-dec86108f307-1647346477.png\"}},{\"id\":7,\"slug\":\"app-penetration-testing-tutorial\",\"lcourse_content\":{\"id\":9,\"name\":\"Android Penetration Testing Tutorial\",\"short_description\":\"Learn how to find bugs and security flaws in mobile apps with practicals.\",\"image\":\"1d92f6e0-6c73-4cfe-97af-6c1107cb3a81-1647346526.png\"}},{\"id\":23,\"slug\":\"nmap-tutorial\",\"lcourse_content\":{\"id\":28,\"name\":\"Nmap Tutorial\",\"short_description\":\"Master the use of the Nmap tool for scanning and mapping networks.\",\"image\":\"6f00770a-cf1d-44e6-b68b-a6cbce05d35c-1647341196.png\"}}]},{\"id\":32,\"name\":\"Web Technologies\",\"slug\":\"web-technologies\",\"home_page_title\":\"Web Technologies \\\\u0026 Programming Tutorials\",\"short_discription\":\"Find tutorials on top programming languages and trending web development technologies.\",\"lcourses\":[{\"id\":25,\"slug\":\"reactjs-tutorial\",\"lcourse_content\":{\"id\":30,\"name\":\"ReactJS Tutorial\",\"short_description\":\"Make yourself future-ready in web development by learning ReactJS.\",\"image\":\"6dee8d03-5667-4b32-b483-af2b62dcd8d3-1647338788.png\"}},{\"id\":56,\"slug\":\"html-tutorial\",\"lcourse_content\":{\"id\":83,\"name\":\"HTML Tutorial\",\"short_description\":\"Comprehensive tutorial to learn core concepts of HTML\",\"image\":\"1dfd57c3-0d4e-41e7-996e-8e5b523c207f-1693984113.png\"}},{\"id\":31,\"slug\":\"jquery-tutorial\",\"lcourse_content\":{\"id\":37,\"name\":\"jQuery Tutorial\",\"short_description\":\"The complete jQuery tutorial for beginners with examples \\\\u0026 videos.\",\"image\":\"861b734d-1200-4ef9-9f80-fdcbf2d5918b-1654781169.png\"}},{\"id\":34,\"slug\":\"git-tutorial\",\"lcourse_content\":{\"id\":40,\"name\":\"Git Tutorial\",\"short_description\":\"Learn everything about Git in this comprehensive tutorial for beginners.\",\"image\":\"28a317b0-5132-4aba-8a49-5ea970f23a49-1671862480.png\"}}]}],\"homePagecoursesExample\":[{\"id\":46,\"slug\":\"java-tutorial\",\"lcourse_content\":{\"id\":62,\"name\":\"Java Tutorials\",\"image\":\"a111d660-d0b6-404b-86e1-6b729fbdc179-1683633265.png\",\"example_menu_title\":\"Java Programs\"}},{\"id\":26,\"slug\":\"python-tutorial\",\"lcourse_content\":{\"id\":31,\"name\":\"Python Tutorial\",\"image\":\"bbbfd30a-e52d-4e03-ae5c-d76e95e7a22f-1647341152.png\",\"example_menu_title\":\"Python Programs\"}}],\"homePagecoursesQuiz\":[{\"id\":25,\"slug\":\"reactjs-tutorial\",\"lcourse_content\":{\"id\":30,\"name\":\"ReactJS Tutorial\",\"image\":\"6dee8d03-5667-4b32-b483-af2b62dcd8d3-1647338788.png\",\"quiz_menu_title\":\"ReactJS Quiz\"}},{\"id\":8,\"slug\":\"web-application-penetration-testing-tutorial\",\"lcourse_content\":{\"id\":10,\"name\":\"Web App Penetration Testing Tutorial\",\"image\":\"7fd6b3ae-d77a-4e80-80bc-02b5b47c32df-1647346507.png\",\"quiz_menu_title\":\"Web App Penetration Testing Quiz\"}},{\"id\":20,\"slug\":\"internet-of-things-iot-tutorial\",\"lcourse_content\":{\"id\":25,\"name\":\"Internet of Things (IoT) Tutorial\",\"image\":\"283eae7c-8974-49f2-a0a5-e0ac4c0e9215-1647338853.png\",\"quiz_menu_title\":\"IoT Quiz\"}},{\"id\":26,\"slug\":\"python-tutorial\",\"lcourse_content\":{\"id\":31,\"name\":\"Python Tutorial\",\"image\":\"bbbfd30a-e52d-4e03-ae5c-d76e95e7a22f-1647341152.png\",\"quiz_menu_title\":\"Python Quiz\"}},{\"id\":7,\"slug\":\"app-penetration-testing-tutorial\",\"lcourse_content\":{\"id\":9,\"name\":\"Android Penetration Testing Tutorial\",\"image\":\"1d92f6e0-6c73-4cfe-97af-6c1107cb3a81-1647346526.png\",\"quiz_menu_title\":\"Android Penetration Testing Quiz\"}},{\"id\":6,\"slug\":\"ethical-hacking-tutorial\",\"lcourse_content\":{\"id\":8,\"name\":\"Ethical Hacking Tutorial\",\"image\":\"6866b1dd-63f8-4890-8575-b9694a0f2059-1647346542.png\",\"quiz_menu_title\":\"Ethical Hacking Quiz\"}},{\"id\":18,\"slug\":\"seo-tutorial\",\"lcourse_content\":{\"id\":23,\"name\":\"SEO Tutorial\",\"image\":\"2abdc9df-3185-46bb-8d15-48f957251183-1698927883.png\",\"quiz_menu_title\":\"SEO Quiz\"}}],\"homePagecoursesInterviewQuestion\":[{\"id\":31,\"slug\":\"jquery-tutorial\",\"lcourse_content\":{\"id\":37,\"name\":\"jQuery Tutorial\",\"image\":\"861b734d-1200-4ef9-9f80-fdcbf2d5918b-1654781169.png\",\"interview_que_menu_title\":\"jQuery Interview Questions\"}},{\"id\":32,\"slug\":\"php-tutorial\",\"lcourse_content\":{\"id\":38,\"name\":\"PHP Tutorial\",\"image\":\"99334bcb-06ec-402d-8461-a1d886d97b8e-1654319072.png\",\"interview_que_menu_title\":\"PHP Interview Questions\"}},{\"id\":34,\"slug\":\"git-tutorial\",\"lcourse_content\":{\"id\":40,\"name\":\"Git Tutorial\",\"image\":\"28a317b0-5132-4aba-8a49-5ea970f23a49-1671862480.png\",\"interview_que_menu_title\":\"Git Interview Questions\"}},{\"id\":25,\"slug\":\"reactjs-tutorial\",\"lcourse_content\":{\"id\":30,\"name\":\"ReactJS Tutorial\",\"image\":\"6dee8d03-5667-4b32-b483-af2b62dcd8d3-1647338788.png\",\"interview_que_menu_title\":\"ReactJS Interview Questions\"}},{\"id\":8,\"slug\":\"web-application-penetration-testing-tutorial\",\"lcourse_content\":{\"id\":10,\"name\":\"Web App Penetration Testing Tutorial\",\"image\":\"7fd6b3ae-d77a-4e80-80bc-02b5b47c32df-1647346507.png\",\"interview_que_menu_title\":\"Web App Penetration Testing Interview Questions\"}},{\"id\":20,\"slug\":\"internet-of-things-iot-tutorial\",\"lcourse_content\":{\"id\":25,\"name\":\"Internet of Things (IoT) Tutorial\",\"image\":\"283eae7c-8974-49f2-a0a5-e0ac4c0e9215-1647338853.png\",\"interview_que_menu_title\":\"IoT Interview Questions\"}},{\"id\":28,\"slug\":\"google-analytics-tutorial\",\"lcourse_content\":{\"id\":33,\"name\":\"Google Analytics Tutorial\",\"image\":\"777b9062-963f-41b9-b379-dbd7e45155ac-1647341118.png\",\"interview_que_menu_title\":\"Google Analytics Interview Questions\"}},{\"id\":46,\"slug\":\"java-tutorial\",\"lcourse_content\":{\"id\":62,\"name\":\"Java Tutorials\",\"image\":\"a111d660-d0b6-404b-86e1-6b729fbdc179-1683633265.png\",\"interview_que_menu_title\":\"Java Interview Questions\"}},{\"id\":26,\"slug\":\"python-tutorial\",\"lcourse_content\":{\"id\":31,\"name\":\"Python Tutorial\",\"image\":\"bbbfd30a-e52d-4e03-ae5c-d76e95e7a22f-1647341152.png\",\"interview_que_menu_title\":\"Python Interview Questions\"}},{\"id\":7,\"slug\":\"app-penetration-testing-tutorial\",\"lcourse_content\":{\"id\":9,\"name\":\"Android Penetration Testing Tutorial\",\"image\":\"1d92f6e0-6c73-4cfe-97af-6c1107cb3a81-1647346526.png\",\"interview_que_menu_title\":\"Android Penetration Testing Interview Questions\"}},{\"id\":6,\"slug\":\"ethical-hacking-tutorial\",\"lcourse_content\":{\"id\":8,\"name\":\"Ethical Hacking Tutorial\",\"image\":\"6866b1dd-63f8-4890-8575-b9694a0f2059-1647346542.png\",\"interview_que_menu_title\":\"Ethical Hacking Interview Questions\"}},{\"id\":23,\"slug\":\"nmap-tutorial\",\"lcourse_content\":{\"id\":28,\"name\":\"Nmap Tutorial\",\"image\":\"6f00770a-cf1d-44e6-b68b-a6cbce05d35c-1647341196.png\",\"interview_que_menu_title\":\"Nmap Interview Questions\"}},{\"id\":24,\"slug\":\"google-ads-tutorial\",\"lcourse_content\":{\"id\":29,\"name\":\"Google Ads Tutorial\",\"image\":\"6809478b-e2d9-40c4-bd9b-49af619fe51d-1647341184.png\",\"interview_que_menu_title\":\"Google Ads Interview Questions\"}}],\"liveCourses\":{\"image_path\":\"https://d1iz2g3osnpxt2.cloudfront.net/uploads/images/live-course/\",\"courses\":[{\"id\":1,\"live_course_title\":\"Full Stack Web Development Course\",\"live_course_link\":\"https://bit.ly/web-developer-course-ws\",\"button_name\":\"Book Demo Class\",\"description\":\"\\\\u003c?xml encoding=\\\\\"utf-8\\\\\" ?\\\\u003e\\\\u003c!--?xml encoding=\\\\\"utf-8\\\\\" ?--\\\\u003e\\\\u003c!--?xml encoding=\\\\\"utf-8\\\\\" ?--\\\\u003e\\\\u003c!--?xml encoding=\\\\\"utf-8\\\\\" ?--\\\\u003e\\\\u003c!--?xml encoding=\\\\\"utf-8\\\\\" ?--\\\\u003e\\\\u003c!--?xml encoding=\\\\\"utf-8\\\\\" ?--\\\\u003e\\\\u003cul\\\\u003e\\\\r\\\\n\\\\u003cli\\\\u003eBuild High-Paying Career\\\\u003c/li\\\\u003e\\\\r\\\\n\\\\u003cli\\\\u003eWork on 10+ Projects\\\\u003c/li\\\\u003e\\\\r\\\\n\\\\u003cli\\\\u003eLive Training by Experts\\\\u003c/li\\\\u003e\\\\r\\\\n\\\\u003c/ul\\\\u003e\\\\n\",\"image\":\"efd015c2-41c7-4a6b-a070-0f703772b6b4-1706854302.jpg\",\"live_category\":{\"id\":1,\"name\":\"Web Development\"}},{\"id\":3,\"live_course_title\":\"Digital Marketing Course\",\"live_course_link\":\"https://bit.ly/digital-marketing-course-ws\",\"button_name\":\"Book Demo Class\",\"description\":\"\\\\u003c?xml encoding=\\\\\"utf-8\\\\\" ?\\\\u003e\\\\u003c!--?xml encoding=\\\\\"utf-8\\\\\" ?--\\\\u003e\\\\u003c!--?xml encoding=\\\\\"utf-8\\\\\" ?--\\\\u003e\\\\u003c!--?xml encoding=\\\\\"utf-8\\\\\" ?--\\\\u003e\\\\u003c!--?xml encoding=\\\\\"utf-8\\\\\" ?--\\\\u003e\\\\u003cul\\\\u003e\\\\r\\\\n\\\\u003cli\\\\u003e\\\\u0026#8377;10 Lakh Per Year Average Salary\\\\u003c/li\\\\u003e\\\\r\\\\n\\\\u003cli\\\\u003eLive Mentorship \\\\u0026amp; Guidance\\\\u003c/li\\\\u003e\\\\r\\\\n\\\\u003cli\\\\u003eHands-on Real Projects\\\\u003c/li\\\\u003e\\\\r\\\\n\\\\u003c/ul\\\\u003e\\\\n\",\"image\":\"15bc3a4a-e684-45b9-b22a-d156711f1505-1706854288.jpg\",\"live_category\":{\"id\":2,\"name\":\"Digital Marketing\"}},{\"id\":4,\"live_course_title\":\"SEO Course\",\"live_course_link\":\"https://bit.ly/seo-course-ws\",\"button_name\":\"Book Demo Class\",\"description\":\"\\\\u003c?xml encoding=\\\\\"utf-8\\\\\" ?\\\\u003e\\\\u003c!--?xml encoding=\\\\\"utf-8\\\\\" ?--\\\\u003e\\\\u003c!--?xml encoding=\\\\\"utf-8\\\\\" ?--\\\\u003e\\\\u003c!--?xml encoding=\\\\\"utf-8\\\\\" ?--\\\\u003e\\\\u003cul\\\\u003e\\\\r\\\\n\\\\u003cli\\\\u003eBecome Certified SEO Pro\\\\u003c/li\\\\u003e\\\\r\\\\n\\\\u003cli\\\\u003eLive Mentorship \\\\u0026amp; Guidance\\\\u003c/li\\\\u003e\\\\r\\\\n\\\\u003cli\\\\u003eFree Domain, Web Hosting, Projects\\\\u003c/li\\\\u003e\\\\r\\\\n\\\\u003c/ul\\\\u003e\\\\n\",\"image\":\"3bc94ced-cf7a-4d08-9a65-581c38fb14c2-1706854314.jpg\",\"live_category\":{\"id\":2,\"name\":\"Digital Marketing\"}},{\"id\":5,\"live_course_title\":\"Python Certification Course\",\"live_course_link\":\"https://www.wscubetech.com/online-python-certification-course-india.html?utm_source=TutorialsFreak\\\\u0026utm_medium=python-tutorial\\\\u0026utm_campaign=leads\",\"button_name\":\"Book Demo Class\",\"description\":\"\\\\u003c?xml encoding=\\\\\"utf-8\\\\\" ?\\\\u003e\\\\u003cul\\\\u003e\\\\r\\\\n\\\\u003cli\\\\u003e45-days training\\\\u003c/li\\\\u003e\\\\r\\\\n\\\\u003cli\\\\u003eHands-on projects\\\\u003c/li\\\\u003e\\\\r\\\\n\\\\u003cli\\\\u003eExpert mentorship\\\\u003c/li\\\\u003e\\\\r\\\\n\\\\u003c/ul\\\\u003e\\\\n\",\"image\":\"60d7ca0f-7dc9-4d96-a9b5-155fd32ebda8-1706854405.jpg\",\"live_category\":{\"id\":4,\"name\":\"Data Analytics\"}},{\"id\":6,\"live_course_title\":\"Data Analytics Course\",\"live_course_link\":\"https://www.wscubetech.com/online-data-analytics-course.html?utm_source=TutorialsFreak\\\\u0026utm_medium=ai-tutorial\\\\u0026utm_campaign=leads\",\"button_name\":\"Book Demo Class\",\"description\":\"\\\\u003c?xml encoding=\\\\\"utf-8\\\\\" ?\\\\u003e\\\\u003cul\\\\u003e\\\\r\\\\n\\\\u003cli\\\\u003eDevelop job-ready skills\\\\u003c/li\\\\u003e\\\\r\\\\n\\\\u003cli\\\\u003eProject-based approach\\\\u003c/li\\\\u003e\\\\r\\\\n\\\\u003cli\\\\u003eCertification \\\\u0026amp; mentorship\\\\u003c/li\\\\u003e\\\\r\\\\n\\\\u003c/ul\\\\u003e\\\\n\",\"image\":\"948a0a2c-3199-44b3-a1c2-be41e5c5c3e1-1706854606.jpg\",\"live_category\":{\"id\":4,\"name\":\"Data Analytics\"}},{\"id\":7,\"live_course_title\":\"Ethical Hacking Course\",\"live_course_link\":\"https://www.wscubetech.com/online-ethical-hacking-course.html?utm_source=TutorialsFreak\\\\u0026utm_medium=eh-tutorial\\\\u0026utm_campaign=leads\",\"button_name\":\"Book Demo Class\",\"description\":\"\\\\u003c?xml encoding=\\\\\"utf-8\\\\\" ?\\\\u003e\\\\u003cul\\\\u003e\\\\r\\\\n\\\\u003cli\\\\u003e2 months training\\\\u003c/li\\\\u003e\\\\r\\\\n\\\\u003cli\\\\u003e100% practical\\\\u003c/li\\\\u003e\\\\r\\\\n\\\\u003cli\\\\u003eGet certified\\\\u003c/li\\\\u003e\\\\r\\\\n\\\\u003c/ul\\\\u003e\\\\n\",\"image\":\"34497f12-312c-4827-8dae-7d7914314e74-1706854737.jpg\",\"live_category\":{\"id\":3,\"name\":\"Cyber Security\"}}]}},\"__N_SSP\":true},\"page\":\"/\",\"query\":{},\"buildId\":\"887JWZIhfehTF7sVinbyP\",\"isFallback\":false,\"dynamicIds\":[96732,63423,43765,30337,69808,9505,2410,13313,61054,72815,78669,81204,68194,37075,83062,66339],\"gssp\":true,\"scriptLoader\":[]}\\n  </script>\\n </body>\\n</html>\\n'"
      ]
     },
     "metadata": {},
     "execution_count": 14
    }
   ],
   "source": [
    "soup.prettify()# bring code into structure format"
   ]
  },
  {
   "source": [
    "### Scrap title of code"
   ],
   "cell_type": "markdown",
   "metadata": {}
  },
  {
   "cell_type": "code",
   "execution_count": 15,
   "metadata": {},
   "outputs": [
    {
     "output_type": "execute_result",
     "data": {
      "text/plain": [
       "<title>Tutorials Freak: Free Online Tutorials to Learn &amp; Upskill</title>"
      ]
     },
     "metadata": {},
     "execution_count": 15
    }
   ],
   "source": [
    "soup.title"
   ]
  },
  {
   "cell_type": "code",
   "execution_count": 16,
   "metadata": {},
   "outputs": [
    {
     "output_type": "execute_result",
     "data": {
      "text/plain": [
       "'title'"
      ]
     },
     "metadata": {},
     "execution_count": 16
    }
   ],
   "source": [
    "soup.title.name"
   ]
  },
  {
   "cell_type": "code",
   "execution_count": 35,
   "metadata": {},
   "outputs": [
    {
     "output_type": "execute_result",
     "data": {
      "text/plain": [
       "[<h2 class=\"section-heading my-2\">Most Popular Tutorials</h2>,\n",
       " <h2 class=\"section-heading\">Online Compilers for Seamless Practice</h2>,\n",
       " <h2 class=\"section-heading my-2\">Land Your Dream Job By Preparing for Interview Questions</h2>,\n",
       " <h2 class=\"section-heading my-2\">Challenge Yourself With Free Quizzes</h2>,\n",
       " <h2 class=\"section-heading my-2\">Programming Examples For Practice</h2>,\n",
       " <h2 class=\"section-heading my-2 text-capitalize\">UpSkill With Live online courses</h2>,\n",
       " <h2 class=\"section-heading mb-md-3\">Create your free account now on Tutorials Freak and unlock the entire content!</h2>,\n",
       " <h2 class=\"section-heading\">Get Tutorials Freak Mobile App to Learn on The Go!</h2>]"
      ]
     },
     "metadata": {},
     "execution_count": 35
    }
   ],
   "source": [
    "soup.find_all(\"h2\")"
   ]
  },
  {
   "source": [
    "## extract 1st paragraph"
   ],
   "cell_type": "markdown",
   "metadata": {}
  },
  {
   "cell_type": "code",
   "execution_count": 17,
   "metadata": {},
   "outputs": [
    {
     "output_type": "execute_result",
     "data": {
      "text/plain": [
       "<p class=\"section-subheading\">Kickstart effective learning with Tutorials Freak, with new content published every day.</p>"
      ]
     },
     "metadata": {},
     "execution_count": 17
    }
   ],
   "source": [
    "soup.p"
   ]
  },
  {
   "cell_type": "code",
   "execution_count": 18,
   "metadata": {},
   "outputs": [
    {
     "output_type": "execute_result",
     "data": {
      "text/plain": [
       "<a class=\"header-logo-wrapper\" href=\"/\"><span class=\"me-lg-5 navbar-brand\"><span style=\"box-sizing:border-box;display:inline-block;overflow:hidden;width:initial;height:initial;background:none;opacity:1;border:0;margin:0;padding:0;position:relative;max-width:100%\"><span style=\"box-sizing:border-box;display:block;width:initial;height:initial;background:none;opacity:1;border:0;margin:0;padding:0;max-width:100%\"><img alt=\"\" aria-hidden=\"true\" src=\"data:image/svg+xml,%3csvg%20xmlns=%27http://www.w3.org/2000/svg%27%20version=%271.1%27%20width=%27192%27%20height=%2756%27/%3e\" style=\"display:block;max-width:100%;width:initial;height:initial;background:none;opacity:1;border:0;margin:0;padding:0\"/></span><img alt=\"Logo-Img\" class=\"img-fluid\" data-nimg=\"intrinsic\" decoding=\"async\" src=\"data:image/gif;base64,R0lGODlhAQABAIAAAAAAAP///yH5BAEAAAAALAAAAAABAAEAAAIBRAA7\" style=\"position:absolute;top:0;left:0;bottom:0;right:0;box-sizing:border-box;padding:0;border:none;margin:auto;display:block;width:0;height:0;min-width:100%;max-width:100%;min-height:100%;max-height:100%\"/><noscript><img alt=\"Logo-Img\" class=\"img-fluid\" data-nimg=\"intrinsic\" decoding=\"async\" loading=\"lazy\" src=\"/images/tutorials-freak-logo.svg\" srcset=\"/images/tutorials-freak-logo.svg 1x, /images/tutorials-freak-logo.svg 2x\" style=\"position:absolute;top:0;left:0;bottom:0;right:0;box-sizing:border-box;padding:0;border:none;margin:auto;display:block;width:0;height:0;min-width:100%;max-width:100%;min-height:100%;max-height:100%\"/></noscript></span></span></a>"
      ]
     },
     "metadata": {},
     "execution_count": 18
    }
   ],
   "source": [
    "soup.a"
   ]
  },
  {
   "source": [
    "## Extracting the header"
   ],
   "cell_type": "markdown",
   "metadata": {}
  },
  {
   "cell_type": "code",
   "execution_count": 20,
   "metadata": {},
   "outputs": [
    {
     "output_type": "execute_result",
     "data": {
      "text/plain": [
       "<h1 class=\"main-heading my-3\">High-Quality, Practical-based, Free Tutorials</h1>"
      ]
     },
     "metadata": {},
     "execution_count": 20
    }
   ],
   "source": [
    "soup.h1"
   ]
  },
  {
   "source": [
    "<h1>BeautifulSoup Object<h1>\n",
    "The main entry point that represents the entire HTML document.\n",
    "Created using BeautifulSoup(html, \"html.parser\")."
   ],
   "cell_type": "markdown",
   "metadata": {}
  },
  {
   "cell_type": "code",
   "execution_count": 27,
   "metadata": {
    "tags": [
     "outputPrepend"
    ]
   },
   "outputs": [
    {
     "output_type": "stream",
     "name": "stdout",
     "text": [
      " </a>\n         <span class=\"me-2\">\n          |\n         </span>\n         <a class=\"label-color-1 text-decoration-none\" href=\"/contact-us\">\n          Contact Us\n         </a>\n        </div>\n       </div>\n       <div class=\"col-lg-8\">\n        <p class=\"fs-13 lh-24 label-color-1 mb-0 footer-content fw-500 text-center text-lg-end\">\n         ©\n         <!-- -->\n         Tutorials Freak . All Rights Reserved | Design By\n         <a class=\"text-decoration-none label-color-1 fw-400\" href=\"https://www.wscubetech.com/\" rel=\"noreferrer\" target=\"_blank\" title=\"WsCube Tech\">\n          WsCube Tech\n         </a>\n        </p>\n       </div>\n      </div>\n     </div>\n    </footer>\n    <div class=\"scroll-top-home d-block scroll-back\">\n     <div class=\"scroll-top-btn-2 d-flex position-fixed rounded-circle text-center align-items-center justify-content-center cursor-pointer\">\n      <svg aria-hidden=\"true\" class=\"svg-inline--fa fa-chevron-up\" data-icon=\"chevron-up\" data-prefix=\"fas\" focusable=\"false\" height=\"16\" role=\"img\" viewbox=\"0 0 448 512\" width=\"16\" xmlns=\"http://www.w3.org/2000/svg\">\n       <path d=\"M416 352c-8.188 0-16.38-3.125-22.62-9.375L224 173.3l-169.4 169.4c-12.5 12.5-32.75 12.5-45.25 0s-12.5-32.75 0-45.25l192-192c12.5-12.5 32.75-12.5 45.25 0l192 192c12.5 12.5 12.5 32.75 0 45.25C432.4 348.9 424.2 352 416 352z\" fill=\"currentColor\">\n       </path>\n      </svg>\n     </div>\n    </div>\n   </div>\n  </div>\n  <script id=\"__NEXT_DATA__\" type=\"application/json\">\n   {\"props\":{\"pageProps\":{\"homePageData\":{\"homePageContent\":{\"id\":1,\"banner_title\":\"High-Quality, Practical-based, Free Tutorials\",\"banner_description\":\"Kickstart effective learning with Tutorials Freak, with new content published every day.\",\"why_us_title\":\"Why Tutorials Freak?\",\"why_us_description\":\"Learning programming and technical things can be complex. We are here to make it easy with simple and interactive tutorials.\",\"why_us_sub_title1\":\"Verified \\u0026 Reliable Content\",\"why_us_sub_description1\":\"The entire content on the site is verified by pro developers and tech freaks.\",\"why_us_sub_title2\":\"Dual Learning Methods\",\"why_us_sub_description2\":\"Along with simplified tutorials, you get video content created by industry experts.\",\"why_us_sub_title3\":\"Self-Directed Learning\",\"why_us_sub_description3\":\"The entire content on the site is verified by pro developers and tech freaks. Enabling self-directed learning so that you can learn at your pace and shape your own path.\",\"why_us_sub_image1\":\"2cd6e0d7-4864-4837-a4a7-e0b120282e8d-1648197173.svg\",\"why_us_sub_image2\":\"7f47bf14-d748-40f4-b9a5-921b1bb4df3f-1648197078.svg\",\"why_us_sub_image3\":\"e5eb78ac-30fd-4443-8f23-63bd378c0c01-1645691302.svg\",\"our_course_title\":\"Most Popular Tutorials\",\"our_course_description\":null,\"explore_titile\":\"Explore wide range of categories\",\"explore_description\":\"Lorem ipsum dolor sit amet, consectetur adipiscing elit. Augue est volutpat mauris arcu sed mi ac nec. Nullam nec fringilla netus donec pellentesque.\",\"explore_sub_line1\":\"Quis justo sit vitae quam odio velit mattis.\",\"explore_sub_line2\":\"Sed aliquam amet mauris quisque.\",\"explore_sub_line3\":\"Neque viverra feugiat consectetur pulvinar dictum.\",\"explore_iamge\":\"850e679f-7f64-4dc0-9640-c336ad0daeb7-1655101171.svg\",\"account_title\":\"Create your free account now on Tutorials Freak and unlock the entire content!\",\"account_description\":\"With an account, you get access to premium content and courses at no cost.\",\"learning_app_title\":\"Get Tutorials Freak Mobile App to Learn on The Go!\",\"learning_app_description\":\"Download the app now to learn and practice hassle-free.\",\"learning_app_image\":\"3d2ca30d-f3bd-45b7-aae5-2c547e2a35a2-1690631574.webp\",\"interview_questions_title\":\"Land Your Dream Job By Preparing for Interview Questions\",\"interview_questions_tagline\":\"Explore the expert-curated interview questions with answers.\",\"quiz_title\":\"Challenge Yourself With Free Quizzes\",\"quiz_tagline\":\"Plenty of quizzes with time duration and skill assessment.\",\"example_title\":\"Programming Examples For Practice\",\"example_tagline\":\"Find coding examples with programs, output, easy explanations, and videos.\",\"banner_button\":null,\"why_us_button\":null,\"explore_button1\":null,\"explore_button2\":null,\"explore_button3\":null,\"explore_button4\":null,\"account_button1\":null,\"account_button2\":null,\"form_title\":\"Book Your Live Class, For Free!\",\"form_tagline\":\"Upskill yourself for high-paying career opportunities.\",\"form_left_title\":\"3 Easy Steps to Get Started!\",\"form_left_tagline\":null,\"step1_title\":\"Step 1\",\"step1_tagline\":\"Fill in the given registration form.\",\"step2_title\":\"Step 2\",\"step2_tagline\":\"Our team will connect with you to share class details.\",\"step3_title\":\"Step 3\",\"step3_tagline\":\"Join the live demo class and connect with your mentor.\",\"form_bottom_title\":\"Book Live Session Now!\",\"button_title\":\"Online Ethical Hacking Course\",\"button_link\":\"https://www.wscubetech.com/ethical-hacking-course\",\"button_name\":\"Apply Now\"}},\"metaContent\":{\"metaTag\":[{\"id\":1,\"meta_title\":\"Tutorials Freak: Free Online Tutorials to Learn \\u0026 Upskill\",\"meta_keywords\":null,\"meta_description\":\"Tutorials Freak is your source for upskilling with free online tutorials on web development, coding, cyber security, digital marketing, technologies \\u0026 more.\"}]},\"onlineCompilerList\":{\"compilers\":[{\"id\":7,\"name\":\"Online C Compiler (Free Editor for C Programs)\",\"file_extension\":\"c\",\"slug\":\"c\",\"programming_language\":\"c\",\"sub_heading\":\"Start Coding C\",\"image\":\"f60ffd71-5b88-42f8-8396-75ad661dd4e9-1664191180.svg\"},{\"id\":6,\"name\":\"Online CSS Compiler and Editor\",\"file_extension\":\"html\",\"slug\":\"css\",\"programming_language\":\"css\",\"sub_heading\":\"Start Coding CSS\",\"image\":\"b5be3eb0-8ae8-4e22-97c9-0cdcb2a250e4-1664191183.svg\"},{\"id\":5,\"name\":\"Online Compiler for HTML (HTML Editor \\u0026 Code Runner)\",\"file_extension\":\"html\",\"slug\":\"html\",\"programming_language\":\"html\",\"sub_heading\":\"Run HTML Code Online\",\"image\":\"329300da-2f51-419c-be8e-58262e91fac0-1664257495.svg\"},{\"id\":4,\"name\":\"Online jQuery Editor and Compiler\",\"file_extension\":\"html\",\"slug\":\"jquery\",\"programming_language\":\"jquery\",\"sub_heading\":\"Start Coding jQuery\",\"image\":\"da172d80-2fd9-4c25-a180-5c4d7ef1b13b-1663998203.svg\"},{\"id\":3,\"name\":\"C++ Compiler Online (Free Editor for C++ Programs)\",\"file_extension\":\"cpp\",\"slug\":\"cpp\",\"programming_language\":\"cpp\",\"sub_heading\":\"Start Coding C++\",\"image\":\"ac77b308-23fd-4c41-a26c-c5df53f7e1a0-1664257491.svg\"},{\"id\":2,\"name\":\"Online PHP Compiler (Free PHP Editor)\",\"file_extension\":\"php\",\"slug\":\"php\",\"programming_language\":\"php\",\"sub_heading\":\"Start Coding PHP\",\"image\":\"0348b25c-17b7-4ade-962b-d71fd3753814-1663998384.svg\"},{\"id\":1,\"name\":\"Online Python Compiler (Free Editor for Python Programs)\",\"file_extension\":\"py\",\"slug\":\"python\",\"programming_language\":\"python\",\"sub_heading\":\"Start Coding Python\",\"image\":\"6ead73cf-3385-44f1-a540-4f717fc7e467-1663998221.svg\"}]},\"homePageCategories\":[{\"id\":30,\"name\":\"Digital Marketing\",\"slug\":\"digital-marketing\",\"home_page_title\":\"Digital Marketing Tutorials\",\"short_discription\":\"Master the skills of SEO, Google Ads, Social Media, and much more.\",\"lcourses\":[{\"id\":18,\"slug\":\"seo-tutorial\",\"lcourse_content\":{\"id\":23,\"name\":\"SEO Tutorial\",\"short_description\":\"Master SEO skills to learn how to rank websites on the first page of Google.\",\"image\":\"2abdc9df-3185-46bb-8d15-48f957251183-1698927883.png\"}},{\"id\":28,\"slug\":\"google-analytics-tutorial\",\"lcourse_content\":{\"id\":33,\"name\":\"Google Analytics Tutorial\",\"short_description\":\"Master the art of using Google Analytics and gaining valuable web/app statistics.\",\"image\":\"777b9062-963f-41b9-b379-dbd7e45155ac-1647341118.png\"}},{\"id\":24,\"slug\":\"google-ads-tutorial\",\"lcourse_content\":{\"id\":29,\"name\":\"Google Ads Tutorial\",\"short_description\":\"Learn how to run effective and successful ad campaigns using Google Ads.\",\"image\":\"6809478b-e2d9-40c4-bd9b-49af619fe51d-1647341184.png\"}},{\"id\":27,\"slug\":\"facebook-marketing-tutorial\",\"lcourse_content\":{\"id\":32,\"name\":\"Facebook Marketing Tutorial\",\"short_description\":\"Learn the art of establishing an online presence with Facebook Marketing.\",\"image\":\"1610baff-f1d6-4798-b371-a08170430ef5-1647341141.png\"}}]},{\"id\":19,\"name\":\"Cybersecurity\",\"slug\":\"cybersecurity\",\"home_page_title\":\"Cyber Security Tutorials\",\"short_discription\":\"Learn ethical hacking, penetration testing, and numerous cyber security concepts with ease.\",\"lcourses\":[{\"id\":8,\"slug\":\"web-application-penetration-testing-tutorial\",\"lcourse_content\":{\"id\":10,\"name\":\"Web App Penetration Testing Tutorial\",\"short_description\":\"Acquire essential skills required to become a pro web penetration tester.\",\"image\":\"7fd6b3ae-d77a-4e80-80bc-02b5b47c32df-1647346507.png\"}},{\"id\":6,\"slug\":\"ethical-hacking-tutorial\",\"lcourse_content\":{\"id\":8,\"name\":\"Ethical Hacking Tutorial\",\"short_description\":\"Learn everything about ethical hacking, from basic to advanced concepts.\",\"image\":\"6866b1dd-63f8-4890-8575-b9694a0f2059-1647346542.png\"}},{\"id\":19,\"slug\":\"wi-fi-tutorial\",\"lcourse_content\":{\"id\":24,\"name\":\"Wi-Fi Tutorial\",\"short_description\":\"Easily learn basic to advanced concepts related to Wi-Fi technology.\",\"image\":\"b0e19544-404c-4fc9-98f7-dec86108f307-1647346477.png\"}},{\"id\":7,\"slug\":\"app-penetration-testing-tutorial\",\"lcourse_content\":{\"id\":9,\"name\":\"Android Penetration Testing Tutorial\",\"short_description\":\"Learn how to find bugs and security flaws in mobile apps with practicals.\",\"image\":\"1d92f6e0-6c73-4cfe-97af-6c1107cb3a81-1647346526.png\"}},{\"id\":23,\"slug\":\"nmap-tutorial\",\"lcourse_content\":{\"id\":28,\"name\":\"Nmap Tutorial\",\"short_description\":\"Master the use of the Nmap tool for scanning and mapping networks.\",\"image\":\"6f00770a-cf1d-44e6-b68b-a6cbce05d35c-1647341196.png\"}}]},{\"id\":32,\"name\":\"Web Technologies\",\"slug\":\"web-technologies\",\"home_page_title\":\"Web Technologies \\u0026 Programming Tutorials\",\"short_discription\":\"Find tutorials on top programming languages and trending web development technologies.\",\"lcourses\":[{\"id\":25,\"slug\":\"reactjs-tutorial\",\"lcourse_content\":{\"id\":30,\"name\":\"ReactJS Tutorial\",\"short_description\":\"Make yourself future-ready in web development by learning ReactJS.\",\"image\":\"6dee8d03-5667-4b32-b483-af2b62dcd8d3-1647338788.png\"}},{\"id\":56,\"slug\":\"html-tutorial\",\"lcourse_content\":{\"id\":83,\"name\":\"HTML Tutorial\",\"short_description\":\"Comprehensive tutorial to learn core concepts of HTML\",\"image\":\"1dfd57c3-0d4e-41e7-996e-8e5b523c207f-1693984113.png\"}},{\"id\":31,\"slug\":\"jquery-tutorial\",\"lcourse_content\":{\"id\":37,\"name\":\"jQuery Tutorial\",\"short_description\":\"The complete jQuery tutorial for beginners with examples \\u0026 videos.\",\"image\":\"861b734d-1200-4ef9-9f80-fdcbf2d5918b-1654781169.png\"}},{\"id\":34,\"slug\":\"git-tutorial\",\"lcourse_content\":{\"id\":40,\"name\":\"Git Tutorial\",\"short_description\":\"Learn everything about Git in this comprehensive tutorial for beginners.\",\"image\":\"28a317b0-5132-4aba-8a49-5ea970f23a49-1671862480.png\"}}]}],\"homePagecoursesExample\":[{\"id\":46,\"slug\":\"java-tutorial\",\"lcourse_content\":{\"id\":62,\"name\":\"Java Tutorials\",\"image\":\"a111d660-d0b6-404b-86e1-6b729fbdc179-1683633265.png\",\"example_menu_title\":\"Java Programs\"}},{\"id\":26,\"slug\":\"python-tutorial\",\"lcourse_content\":{\"id\":31,\"name\":\"Python Tutorial\",\"image\":\"bbbfd30a-e52d-4e03-ae5c-d76e95e7a22f-1647341152.png\",\"example_menu_title\":\"Python Programs\"}}],\"homePagecoursesQuiz\":[{\"id\":25,\"slug\":\"reactjs-tutorial\",\"lcourse_content\":{\"id\":30,\"name\":\"ReactJS Tutorial\",\"image\":\"6dee8d03-5667-4b32-b483-af2b62dcd8d3-1647338788.png\",\"quiz_menu_title\":\"ReactJS Quiz\"}},{\"id\":8,\"slug\":\"web-application-penetration-testing-tutorial\",\"lcourse_content\":{\"id\":10,\"name\":\"Web App Penetration Testing Tutorial\",\"image\":\"7fd6b3ae-d77a-4e80-80bc-02b5b47c32df-1647346507.png\",\"quiz_menu_title\":\"Web App Penetration Testing Quiz\"}},{\"id\":20,\"slug\":\"internet-of-things-iot-tutorial\",\"lcourse_content\":{\"id\":25,\"name\":\"Internet of Things (IoT) Tutorial\",\"image\":\"283eae7c-8974-49f2-a0a5-e0ac4c0e9215-1647338853.png\",\"quiz_menu_title\":\"IoT Quiz\"}},{\"id\":26,\"slug\":\"python-tutorial\",\"lcourse_content\":{\"id\":31,\"name\":\"Python Tutorial\",\"image\":\"bbbfd30a-e52d-4e03-ae5c-d76e95e7a22f-1647341152.png\",\"quiz_menu_title\":\"Python Quiz\"}},{\"id\":7,\"slug\":\"app-penetration-testing-tutorial\",\"lcourse_content\":{\"id\":9,\"name\":\"Android Penetration Testing Tutorial\",\"image\":\"1d92f6e0-6c73-4cfe-97af-6c1107cb3a81-1647346526.png\",\"quiz_menu_title\":\"Android Penetration Testing Quiz\"}},{\"id\":6,\"slug\":\"ethical-hacking-tutorial\",\"lcourse_content\":{\"id\":8,\"name\":\"Ethical Hacking Tutorial\",\"image\":\"6866b1dd-63f8-4890-8575-b9694a0f2059-1647346542.png\",\"quiz_menu_title\":\"Ethical Hacking Quiz\"}},{\"id\":18,\"slug\":\"seo-tutorial\",\"lcourse_content\":{\"id\":23,\"name\":\"SEO Tutorial\",\"image\":\"2abdc9df-3185-46bb-8d15-48f957251183-1698927883.png\",\"quiz_menu_title\":\"SEO Quiz\"}}],\"homePagecoursesInterviewQuestion\":[{\"id\":31,\"slug\":\"jquery-tutorial\",\"lcourse_content\":{\"id\":37,\"name\":\"jQuery Tutorial\",\"image\":\"861b734d-1200-4ef9-9f80-fdcbf2d5918b-1654781169.png\",\"interview_que_menu_title\":\"jQuery Interview Questions\"}},{\"id\":32,\"slug\":\"php-tutorial\",\"lcourse_content\":{\"id\":38,\"name\":\"PHP Tutorial\",\"image\":\"99334bcb-06ec-402d-8461-a1d886d97b8e-1654319072.png\",\"interview_que_menu_title\":\"PHP Interview Questions\"}},{\"id\":34,\"slug\":\"git-tutorial\",\"lcourse_content\":{\"id\":40,\"name\":\"Git Tutorial\",\"image\":\"28a317b0-5132-4aba-8a49-5ea970f23a49-1671862480.png\",\"interview_que_menu_title\":\"Git Interview Questions\"}},{\"id\":25,\"slug\":\"reactjs-tutorial\",\"lcourse_content\":{\"id\":30,\"name\":\"ReactJS Tutorial\",\"image\":\"6dee8d03-5667-4b32-b483-af2b62dcd8d3-1647338788.png\",\"interview_que_menu_title\":\"ReactJS Interview Questions\"}},{\"id\":8,\"slug\":\"web-application-penetration-testing-tutorial\",\"lcourse_content\":{\"id\":10,\"name\":\"Web App Penetration Testing Tutorial\",\"image\":\"7fd6b3ae-d77a-4e80-80bc-02b5b47c32df-1647346507.png\",\"interview_que_menu_title\":\"Web App Penetration Testing Interview Questions\"}},{\"id\":20,\"slug\":\"internet-of-things-iot-tutorial\",\"lcourse_content\":{\"id\":25,\"name\":\"Internet of Things (IoT) Tutorial\",\"image\":\"283eae7c-8974-49f2-a0a5-e0ac4c0e9215-1647338853.png\",\"interview_que_menu_title\":\"IoT Interview Questions\"}},{\"id\":28,\"slug\":\"google-analytics-tutorial\",\"lcourse_content\":{\"id\":33,\"name\":\"Google Analytics Tutorial\",\"image\":\"777b9062-963f-41b9-b379-dbd7e45155ac-1647341118.png\",\"interview_que_menu_title\":\"Google Analytics Interview Questions\"}},{\"id\":46,\"slug\":\"java-tutorial\",\"lcourse_content\":{\"id\":62,\"name\":\"Java Tutorials\",\"image\":\"a111d660-d0b6-404b-86e1-6b729fbdc179-1683633265.png\",\"interview_que_menu_title\":\"Java Interview Questions\"}},{\"id\":26,\"slug\":\"python-tutorial\",\"lcourse_content\":{\"id\":31,\"name\":\"Python Tutorial\",\"image\":\"bbbfd30a-e52d-4e03-ae5c-d76e95e7a22f-1647341152.png\",\"interview_que_menu_title\":\"Python Interview Questions\"}},{\"id\":7,\"slug\":\"app-penetration-testing-tutorial\",\"lcourse_content\":{\"id\":9,\"name\":\"Android Penetration Testing Tutorial\",\"image\":\"1d92f6e0-6c73-4cfe-97af-6c1107cb3a81-1647346526.png\",\"interview_que_menu_title\":\"Android Penetration Testing Interview Questions\"}},{\"id\":6,\"slug\":\"ethical-hacking-tutorial\",\"lcourse_content\":{\"id\":8,\"name\":\"Ethical Hacking Tutorial\",\"image\":\"6866b1dd-63f8-4890-8575-b9694a0f2059-1647346542.png\",\"interview_que_menu_title\":\"Ethical Hacking Interview Questions\"}},{\"id\":23,\"slug\":\"nmap-tutorial\",\"lcourse_content\":{\"id\":28,\"name\":\"Nmap Tutorial\",\"image\":\"6f00770a-cf1d-44e6-b68b-a6cbce05d35c-1647341196.png\",\"interview_que_menu_title\":\"Nmap Interview Questions\"}},{\"id\":24,\"slug\":\"google-ads-tutorial\",\"lcourse_content\":{\"id\":29,\"name\":\"Google Ads Tutorial\",\"image\":\"6809478b-e2d9-40c4-bd9b-49af619fe51d-1647341184.png\",\"interview_que_menu_title\":\"Google Ads Interview Questions\"}}],\"liveCourses\":{\"image_path\":\"https://d1iz2g3osnpxt2.cloudfront.net/uploads/images/live-course/\",\"courses\":[{\"id\":1,\"live_course_title\":\"Full Stack Web Development Course\",\"live_course_link\":\"https://bit.ly/web-developer-course-ws\",\"button_name\":\"Book Demo Class\",\"description\":\"\\u003c?xml encoding=\\\"utf-8\\\" ?\\u003e\\u003c!--?xml encoding=\\\"utf-8\\\" ?--\\u003e\\u003c!--?xml encoding=\\\"utf-8\\\" ?--\\u003e\\u003c!--?xml encoding=\\\"utf-8\\\" ?--\\u003e\\u003c!--?xml encoding=\\\"utf-8\\\" ?--\\u003e\\u003c!--?xml encoding=\\\"utf-8\\\" ?--\\u003e\\u003cul\\u003e\\r\\n\\u003cli\\u003eBuild High-Paying Career\\u003c/li\\u003e\\r\\n\\u003cli\\u003eWork on 10+ Projects\\u003c/li\\u003e\\r\\n\\u003cli\\u003eLive Training by Experts\\u003c/li\\u003e\\r\\n\\u003c/ul\\u003e\\n\",\"image\":\"efd015c2-41c7-4a6b-a070-0f703772b6b4-1706854302.jpg\",\"live_category\":{\"id\":1,\"name\":\"Web Development\"}},{\"id\":3,\"live_course_title\":\"Digital Marketing Course\",\"live_course_link\":\"https://bit.ly/digital-marketing-course-ws\",\"button_name\":\"Book Demo Class\",\"description\":\"\\u003c?xml encoding=\\\"utf-8\\\" ?\\u003e\\u003c!--?xml encoding=\\\"utf-8\\\" ?--\\u003e\\u003c!--?xml encoding=\\\"utf-8\\\" ?--\\u003e\\u003c!--?xml encoding=\\\"utf-8\\\" ?--\\u003e\\u003c!--?xml encoding=\\\"utf-8\\\" ?--\\u003e\\u003cul\\u003e\\r\\n\\u003cli\\u003e\\u0026#8377;10 Lakh Per Year Average Salary\\u003c/li\\u003e\\r\\n\\u003cli\\u003eLive Mentorship \\u0026amp; Guidance\\u003c/li\\u003e\\r\\n\\u003cli\\u003eHands-on Real Projects\\u003c/li\\u003e\\r\\n\\u003c/ul\\u003e\\n\",\"image\":\"15bc3a4a-e684-45b9-b22a-d156711f1505-1706854288.jpg\",\"live_category\":{\"id\":2,\"name\":\"Digital Marketing\"}},{\"id\":4,\"live_course_title\":\"SEO Course\",\"live_course_link\":\"https://bit.ly/seo-course-ws\",\"button_name\":\"Book Demo Class\",\"description\":\"\\u003c?xml encoding=\\\"utf-8\\\" ?\\u003e\\u003c!--?xml encoding=\\\"utf-8\\\" ?--\\u003e\\u003c!--?xml encoding=\\\"utf-8\\\" ?--\\u003e\\u003c!--?xml encoding=\\\"utf-8\\\" ?--\\u003e\\u003cul\\u003e\\r\\n\\u003cli\\u003eBecome Certified SEO Pro\\u003c/li\\u003e\\r\\n\\u003cli\\u003eLive Mentorship \\u0026amp; Guidance\\u003c/li\\u003e\\r\\n\\u003cli\\u003eFree Domain, Web Hosting, Projects\\u003c/li\\u003e\\r\\n\\u003c/ul\\u003e\\n\",\"image\":\"3bc94ced-cf7a-4d08-9a65-581c38fb14c2-1706854314.jpg\",\"live_category\":{\"id\":2,\"name\":\"Digital Marketing\"}},{\"id\":5,\"live_course_title\":\"Python Certification Course\",\"live_course_link\":\"https://www.wscubetech.com/online-python-certification-course-india.html?utm_source=TutorialsFreak\\u0026utm_medium=python-tutorial\\u0026utm_campaign=leads\",\"button_name\":\"Book Demo Class\",\"description\":\"\\u003c?xml encoding=\\\"utf-8\\\" ?\\u003e\\u003cul\\u003e\\r\\n\\u003cli\\u003e45-days training\\u003c/li\\u003e\\r\\n\\u003cli\\u003eHands-on projects\\u003c/li\\u003e\\r\\n\\u003cli\\u003eExpert mentorship\\u003c/li\\u003e\\r\\n\\u003c/ul\\u003e\\n\",\"image\":\"60d7ca0f-7dc9-4d96-a9b5-155fd32ebda8-1706854405.jpg\",\"live_category\":{\"id\":4,\"name\":\"Data Analytics\"}},{\"id\":6,\"live_course_title\":\"Data Analytics Course\",\"live_course_link\":\"https://www.wscubetech.com/online-data-analytics-course.html?utm_source=TutorialsFreak\\u0026utm_medium=ai-tutorial\\u0026utm_campaign=leads\",\"button_name\":\"Book Demo Class\",\"description\":\"\\u003c?xml encoding=\\\"utf-8\\\" ?\\u003e\\u003cul\\u003e\\r\\n\\u003cli\\u003eDevelop job-ready skills\\u003c/li\\u003e\\r\\n\\u003cli\\u003eProject-based approach\\u003c/li\\u003e\\r\\n\\u003cli\\u003eCertification \\u0026amp; mentorship\\u003c/li\\u003e\\r\\n\\u003c/ul\\u003e\\n\",\"image\":\"948a0a2c-3199-44b3-a1c2-be41e5c5c3e1-1706854606.jpg\",\"live_category\":{\"id\":4,\"name\":\"Data Analytics\"}},{\"id\":7,\"live_course_title\":\"Ethical Hacking Course\",\"live_course_link\":\"https://www.wscubetech.com/online-ethical-hacking-course.html?utm_source=TutorialsFreak\\u0026utm_medium=eh-tutorial\\u0026utm_campaign=leads\",\"button_name\":\"Book Demo Class\",\"description\":\"\\u003c?xml encoding=\\\"utf-8\\\" ?\\u003e\\u003cul\\u003e\\r\\n\\u003cli\\u003e2 months training\\u003c/li\\u003e\\r\\n\\u003cli\\u003e100% practical\\u003c/li\\u003e\\r\\n\\u003cli\\u003eGet certified\\u003c/li\\u003e\\r\\n\\u003c/ul\\u003e\\n\",\"image\":\"34497f12-312c-4827-8dae-7d7914314e74-1706854737.jpg\",\"live_category\":{\"id\":3,\"name\":\"Cyber Security\"}}]}},\"__N_SSP\":true},\"page\":\"/\",\"query\":{},\"buildId\":\"887JWZIhfehTF7sVinbyP\",\"isFallback\":false,\"dynamicIds\":[96732,63423,43765,30337,69808,9505,2410,13313,61054,72815,78669,81204,68194,37075,83062,66339],\"gssp\":true,\"scriptLoader\":[]}\n  </script>\n </body>\n</html>\n\n"
     ]
    }
   ],
   "source": [
    "from bs4 import BeautifulSoup\n",
    "\n",
    "url = \"https://www.tutorialsfreak.com/\"\n",
    "web=requests.get(url)\n",
    "soup = BeautifulSoup(web.content, \"html.parser\")\n",
    "print(type(soup))  # <class 'bs4.BeautifulSoup'>\n",
    "print(soup.prettify())  # Nicely formatted HTML\n"
   ]
  },
  {
   "source": [
    " <h3>Tag Object</h3>\n",
    "Represents an individual HTML/XML tag.\n",
    "Used to extract elements like <title>, <p>, <div>, etc."
   ],
   "cell_type": "markdown",
   "metadata": {}
  },
  {
   "cell_type": "code",
   "execution_count": 28,
   "metadata": {},
   "outputs": [
    {
     "output_type": "stream",
     "name": "stdout",
     "text": [
      "<title>Tutorials Freak: Free Online Tutorials to Learn &amp; Upskill</title>\ntitle\nTutorials Freak: Free Online Tutorials to Learn & Upskill\n"
     ]
    }
   ],
   "source": [
    "print(soup.title)        # <title>My Page</title>\n",
    "print(soup.title.name)   # title\n",
    "print(soup.title.string) # My Page\n"
   ]
  },
  {
   "source": [
    "<h3> NavigableString Object</h3>\n",
    "Represents text inside a tag."
   ],
   "cell_type": "markdown",
   "metadata": {}
  },
  {
   "cell_type": "code",
   "execution_count": 29,
   "metadata": {},
   "outputs": [
    {
     "output_type": "stream",
     "name": "stdout",
     "text": [
      "Tutorials Freak: Free Online Tutorials to Learn & Upskill\n<class 'bs4.element.NavigableString'>\n"
     ]
    }
   ],
   "source": [
    "title_tag = soup.title\n",
    "print(title_tag.string)       # My Page\n",
    "print(type(title_tag.string)) # <class 'bs4.element.NavigableString'>\n"
   ]
  },
  {
   "source": [
    "<h3>Comment Object </h3>\n",
    "Used to extract HTML comments from a page."
   ],
   "cell_type": "markdown",
   "metadata": {}
  },
  {
   "cell_type": "code",
   "execution_count": 30,
   "metadata": {},
   "outputs": [
    {
     "output_type": "stream",
     "name": "stdout",
     "text": [
      "Kickstart effective learning with Tutorials Freak, with new content published every day.\n<class 'bs4.element.NavigableString'>\n"
     ]
    }
   ],
   "source": [
    "comment = soup.p.string\n",
    "print(comment)         # This is a comment\n",
    "print(type(comment))   # <class 'bs4.element.Comment'>"
   ]
  },
  {
   "source": [
    " <h2>ResultSet Object </h2>\n",
    "A list-like collection returned by find_all() when searching for multiple tags."
   ],
   "cell_type": "markdown",
   "metadata": {}
  },
  {
   "cell_type": "code",
   "execution_count": 32,
   "metadata": {},
   "outputs": [
    {
     "output_type": "stream",
     "name": "stdout",
     "text": [
      "[<p class=\"section-subheading\">Kickstart effective learning with Tutorials Freak, with new content published every day.</p>, <p class=\"fs-16 fw-400 lh-24 label-color-1 card-text\">The entire content on the site is verified by pro developers and tech freaks.</p>, <p class=\"fs-16 fw-400 lh-24 label-color-1 card-text\">The entire content on the site is verified by pro developers and tech freaks. Enabling self-directed learning so that you can learn at your pace and shape your own path.</p>, <p class=\"fs-16 fw-400 lh-24 label-color-1 card-text\">Along with simplified tutorials, you get video content created by industry experts.</p>, <p class=\"fw-400 fs-20 lh-30 label-color-2 mb-lg-5\">Learning programming and technical things can be complex. We are here to make it easy with simple and interactive tutorials.</p>, <p class=\"section-subheading mb-0\">Learning programming and technical things can be complex. We are here to make it easy with simple and interactive tutorials.</p>, <p class=\"section-subheading mb-0\">Explore the expert-curated interview questions with answers.</p>, <p class=\"section-subheading mb-0\">Plenty of quizzes with time duration and skill assessment.</p>, <p class=\"section-subheading mb-0\">Find coding examples with programs, output, easy explanations, and videos.</p>, <p class=\"section-subheading mb-0\"><img class=\"img-fluid\" height=\"40\" src=\"/images/ws-cube-tech-logo.svg\" width=\"210\"/></p>, <p class=\"section-subheading pb-lg-5\">With an account, you get access to premium content and courses at no cost.</p>, <p class=\"section-subheading pe-md-5\">Download the app now to learn and practice hassle-free.</p>, <p class=\"fs-13 lh-24 label-color-1 mb-0 footer-content fw-500 text-center text-lg-end\">© <!-- --> Tutorials Freak . All Rights Reserved | Design By  <a class=\"text-decoration-none label-color-1 fw-400\" href=\"https://www.wscubetech.com/\" rel=\"noreferrer\" target=\"_blank\" title=\"WsCube Tech\">WsCube Tech</a></p>]\n<class 'bs4.element.ResultSet'>\n"
     ]
    }
   ],
   "source": [
    "paragraphs = soup.find_all(\"p\")\n",
    "print(paragraphs)  # [<p>First</p>, <p>Second</p>]\n",
    "print(type(paragraphs))  # <class 'bs4.element.ResultSet'>"
   ]
  },
  {
   "source": [
    "<h2>Attribute Object </h2>\n",
    "Used to access tag attributes (like href, class, id)."
   ],
   "cell_type": "markdown",
   "metadata": {}
  },
  {
   "cell_type": "code",
   "execution_count": 33,
   "metadata": {},
   "outputs": [
    {
     "output_type": "stream",
     "name": "stdout",
     "text": [
      "/\n['header-logo-wrapper']\n"
     ]
    }
   ],
   "source": [
    "link = soup.a\n",
    "print(link['href'])  # https://example.com\n",
    "print(link['class']) # ['link']"
   ]
  },
  {
   "cell_type": "code",
   "execution_count": 34,
   "metadata": {},
   "outputs": [
    {
     "output_type": "stream",
     "name": "stdout",
     "text": [
      "/\n/search\n/\n/\n/\n/\n/\n/\n/\n/\n/compiler/c\n/compiler/css\n/compiler/html\n/compiler/jquery\n/compiler/cpp\n/compiler/php\n/compiler/python\nhttps://bit.ly/web-developer-course-ws\nhttps://bit.ly/web-developer-course-ws\nhttps://bit.ly/digital-marketing-course-ws\nhttps://bit.ly/digital-marketing-course-ws\nhttps://bit.ly/seo-course-ws\nhttps://bit.ly/seo-course-ws\nhttps://www.wscubetech.com/online-python-certification-course-india.html?utm_source=TutorialsFreak&utm_medium=python-tutorial&utm_campaign=leads\nhttps://www.wscubetech.com/online-python-certification-course-india.html?utm_source=TutorialsFreak&utm_medium=python-tutorial&utm_campaign=leads\nhttps://www.wscubetech.com/online-data-analytics-course.html?utm_source=TutorialsFreak&utm_medium=ai-tutorial&utm_campaign=leads\nhttps://www.wscubetech.com/online-data-analytics-course.html?utm_source=TutorialsFreak&utm_medium=ai-tutorial&utm_campaign=leads\nhttps://www.wscubetech.com/online-ethical-hacking-course.html?utm_source=TutorialsFreak&utm_medium=eh-tutorial&utm_campaign=leads\nhttps://www.wscubetech.com/online-ethical-hacking-course.html?utm_source=TutorialsFreak&utm_medium=eh-tutorial&utm_campaign=leads\nhttps://play.google.com/store/apps/details?id=com.tutorialsfreak\n/\nhttps://www.facebook.com/tutorialsfreak\nhttps://twitter.com/TutorialsFreak\nhttps://www.instagram.com/tutorials_freak/\nhttps://www.linkedin.com/company/tutorialsfreak/\n/terms-conditons\n/privacy-policy\n/about-us\n/contact-us\nhttps://www.wscubetech.com/\n"
     ]
    }
   ],
   "source": [
    "# Extract and print all links\n",
    "for a in soup.find_all(\"a\", href=True):\n",
    "    print(a[\"href\"])"
   ]
  },
  {
   "cell_type": "code",
   "execution_count": 36,
   "metadata": {},
   "outputs": [
    {
     "output_type": "execute_result",
     "data": {
      "text/plain": [
       "[<h2 class=\"section-heading my-2\">Most Popular Tutorials</h2>,\n",
       " <h2 class=\"section-heading\">Online Compilers for Seamless Practice</h2>,\n",
       " <h2 class=\"section-heading my-2\">Land Your Dream Job By Preparing for Interview Questions</h2>,\n",
       " <h2 class=\"section-heading my-2\">Challenge Yourself With Free Quizzes</h2>,\n",
       " <h2 class=\"section-heading my-2\">Programming Examples For Practice</h2>,\n",
       " <h2 class=\"section-heading my-2 text-capitalize\">UpSkill With Live online courses</h2>,\n",
       " <h2 class=\"section-heading mb-md-3\">Create your free account now on Tutorials Freak and unlock the entire content!</h2>,\n",
       " <h2 class=\"section-heading\">Get Tutorials Freak Mobile App to Learn on The Go!</h2>]"
      ]
     },
     "metadata": {},
     "execution_count": 36
    }
   ],
   "source": [
    "soup.find_all(\"h2\")"
   ]
  },
  {
   "cell_type": "code",
   "execution_count": 40,
   "metadata": {},
   "outputs": [],
   "source": [
    "class_data=soup.find(\"div\",class_=\"app_container\")"
   ]
  },
  {
   "cell_type": "code",
   "execution_count": 44,
   "metadata": {},
   "outputs": [
    {
     "output_type": "stream",
     "name": "stdout",
     "text": [
      "No matching <div class='content'> found!\n"
     ]
    }
   ],
   "source": [
    "if class_data:\n",
    "    paragraphs = class_data.find_all(\"p\")\n",
    "    for p in paragraphs:\n",
    "        print(p.text)\n",
    "else:\n",
    "    print(\"No matching <div class='content'> found!\")\n"
   ]
  },
  {
   "cell_type": "code",
   "execution_count": 49,
   "metadata": {
    "tags": [
     "outputPrepend"
    ]
   },
   "outputs": [
    {
     "output_type": "stream",
     "name": "stdout",
     "text": [
      "  |\n         </span>\n         <a class=\"label-color-1 text-decoration-none\" href=\"/contact-us\">\n          Contact Us\n         </a>\n        </div>\n       </div>\n       <div class=\"col-lg-8\">\n        <p class=\"fs-13 lh-24 label-color-1 mb-0 footer-content fw-500 text-center text-lg-end\">\n         ©\n         <!-- -->\n         Tutorials Freak . All Rights Reserved | Design By\n         <a class=\"text-decoration-none label-color-1 fw-400\" href=\"https://www.wscubetech.com/\" rel=\"noreferrer\" target=\"_blank\" title=\"WsCube Tech\">\n          WsCube Tech\n         </a>\n        </p>\n       </div>\n      </div>\n     </div>\n    </footer>\n    <div class=\"scroll-top-home d-block scroll-back\">\n     <div class=\"scroll-top-btn-2 d-flex position-fixed rounded-circle text-center align-items-center justify-content-center cursor-pointer\">\n      <svg aria-hidden=\"true\" class=\"svg-inline--fa fa-chevron-up\" data-icon=\"chevron-up\" data-prefix=\"fas\" focusable=\"false\" height=\"16\" role=\"img\" viewbox=\"0 0 448 512\" width=\"16\" xmlns=\"http://www.w3.org/2000/svg\">\n       <path d=\"M416 352c-8.188 0-16.38-3.125-22.62-9.375L224 173.3l-169.4 169.4c-12.5 12.5-32.75 12.5-45.25 0s-12.5-32.75 0-45.25l192-192c12.5-12.5 32.75-12.5 45.25 0l192 192c12.5 12.5 12.5 32.75 0 45.25C432.4 348.9 424.2 352 416 352z\" fill=\"currentColor\">\n       </path>\n      </svg>\n     </div>\n    </div>\n   </div>\n  </div>\n  <script id=\"__NEXT_DATA__\" type=\"application/json\">\n   {\"props\":{\"pageProps\":{\"homePageData\":{\"homePageContent\":{\"id\":1,\"banner_title\":\"High-Quality, Practical-based, Free Tutorials\",\"banner_description\":\"Kickstart effective learning with Tutorials Freak, with new content published every day.\",\"why_us_title\":\"Why Tutorials Freak?\",\"why_us_description\":\"Learning programming and technical things can be complex. We are here to make it easy with simple and interactive tutorials.\",\"why_us_sub_title1\":\"Verified \\u0026 Reliable Content\",\"why_us_sub_description1\":\"The entire content on the site is verified by pro developers and tech freaks.\",\"why_us_sub_title2\":\"Dual Learning Methods\",\"why_us_sub_description2\":\"Along with simplified tutorials, you get video content created by industry experts.\",\"why_us_sub_title3\":\"Self-Directed Learning\",\"why_us_sub_description3\":\"The entire content on the site is verified by pro developers and tech freaks. Enabling self-directed learning so that you can learn at your pace and shape your own path.\",\"why_us_sub_image1\":\"2cd6e0d7-4864-4837-a4a7-e0b120282e8d-1648197173.svg\",\"why_us_sub_image2\":\"7f47bf14-d748-40f4-b9a5-921b1bb4df3f-1648197078.svg\",\"why_us_sub_image3\":\"e5eb78ac-30fd-4443-8f23-63bd378c0c01-1645691302.svg\",\"our_course_title\":\"Most Popular Tutorials\",\"our_course_description\":null,\"explore_titile\":\"Explore wide range of categories\",\"explore_description\":\"Lorem ipsum dolor sit amet, consectetur adipiscing elit. Augue est volutpat mauris arcu sed mi ac nec. Nullam nec fringilla netus donec pellentesque.\",\"explore_sub_line1\":\"Quis justo sit vitae quam odio velit mattis.\",\"explore_sub_line2\":\"Sed aliquam amet mauris quisque.\",\"explore_sub_line3\":\"Neque viverra feugiat consectetur pulvinar dictum.\",\"explore_iamge\":\"850e679f-7f64-4dc0-9640-c336ad0daeb7-1655101171.svg\",\"account_title\":\"Create your free account now on Tutorials Freak and unlock the entire content!\",\"account_description\":\"With an account, you get access to premium content and courses at no cost.\",\"learning_app_title\":\"Get Tutorials Freak Mobile App to Learn on The Go!\",\"learning_app_description\":\"Download the app now to learn and practice hassle-free.\",\"learning_app_image\":\"3d2ca30d-f3bd-45b7-aae5-2c547e2a35a2-1690631574.webp\",\"interview_questions_title\":\"Land Your Dream Job By Preparing for Interview Questions\",\"interview_questions_tagline\":\"Explore the expert-curated interview questions with answers.\",\"quiz_title\":\"Challenge Yourself With Free Quizzes\",\"quiz_tagline\":\"Plenty of quizzes with time duration and skill assessment.\",\"example_title\":\"Programming Examples For Practice\",\"example_tagline\":\"Find coding examples with programs, output, easy explanations, and videos.\",\"banner_button\":null,\"why_us_button\":null,\"explore_button1\":null,\"explore_button2\":null,\"explore_button3\":null,\"explore_button4\":null,\"account_button1\":null,\"account_button2\":null,\"form_title\":\"Book Your Live Class, For Free!\",\"form_tagline\":\"Upskill yourself for high-paying career opportunities.\",\"form_left_title\":\"3 Easy Steps to Get Started!\",\"form_left_tagline\":null,\"step1_title\":\"Step 1\",\"step1_tagline\":\"Fill in the given registration form.\",\"step2_title\":\"Step 2\",\"step2_tagline\":\"Our team will connect with you to share class details.\",\"step3_title\":\"Step 3\",\"step3_tagline\":\"Join the live demo class and connect with your mentor.\",\"form_bottom_title\":\"Book Live Session Now!\",\"button_title\":\"Online Ethical Hacking Course\",\"button_link\":\"https://www.wscubetech.com/ethical-hacking-course\",\"button_name\":\"Apply Now\"}},\"metaContent\":{\"metaTag\":[{\"id\":1,\"meta_title\":\"Tutorials Freak: Free Online Tutorials to Learn \\u0026 Upskill\",\"meta_keywords\":null,\"meta_description\":\"Tutorials Freak is your source for upskilling with free online tutorials on web development, coding, cyber security, digital marketing, technologies \\u0026 more.\"}]},\"onlineCompilerList\":{\"compilers\":[{\"id\":7,\"name\":\"Online C Compiler (Free Editor for C Programs)\",\"file_extension\":\"c\",\"slug\":\"c\",\"programming_language\":\"c\",\"sub_heading\":\"Start Coding C\",\"image\":\"f60ffd71-5b88-42f8-8396-75ad661dd4e9-1664191180.svg\"},{\"id\":6,\"name\":\"Online CSS Compiler and Editor\",\"file_extension\":\"html\",\"slug\":\"css\",\"programming_language\":\"css\",\"sub_heading\":\"Start Coding CSS\",\"image\":\"b5be3eb0-8ae8-4e22-97c9-0cdcb2a250e4-1664191183.svg\"},{\"id\":5,\"name\":\"Online Compiler for HTML (HTML Editor \\u0026 Code Runner)\",\"file_extension\":\"html\",\"slug\":\"html\",\"programming_language\":\"html\",\"sub_heading\":\"Run HTML Code Online\",\"image\":\"329300da-2f51-419c-be8e-58262e91fac0-1664257495.svg\"},{\"id\":4,\"name\":\"Online jQuery Editor and Compiler\",\"file_extension\":\"html\",\"slug\":\"jquery\",\"programming_language\":\"jquery\",\"sub_heading\":\"Start Coding jQuery\",\"image\":\"da172d80-2fd9-4c25-a180-5c4d7ef1b13b-1663998203.svg\"},{\"id\":3,\"name\":\"C++ Compiler Online (Free Editor for C++ Programs)\",\"file_extension\":\"cpp\",\"slug\":\"cpp\",\"programming_language\":\"cpp\",\"sub_heading\":\"Start Coding C++\",\"image\":\"ac77b308-23fd-4c41-a26c-c5df53f7e1a0-1664257491.svg\"},{\"id\":2,\"name\":\"Online PHP Compiler (Free PHP Editor)\",\"file_extension\":\"php\",\"slug\":\"php\",\"programming_language\":\"php\",\"sub_heading\":\"Start Coding PHP\",\"image\":\"0348b25c-17b7-4ade-962b-d71fd3753814-1663998384.svg\"},{\"id\":1,\"name\":\"Online Python Compiler (Free Editor for Python Programs)\",\"file_extension\":\"py\",\"slug\":\"python\",\"programming_language\":\"python\",\"sub_heading\":\"Start Coding Python\",\"image\":\"6ead73cf-3385-44f1-a540-4f717fc7e467-1663998221.svg\"}]},\"homePageCategories\":[{\"id\":30,\"name\":\"Digital Marketing\",\"slug\":\"digital-marketing\",\"home_page_title\":\"Digital Marketing Tutorials\",\"short_discription\":\"Master the skills of SEO, Google Ads, Social Media, and much more.\",\"lcourses\":[{\"id\":18,\"slug\":\"seo-tutorial\",\"lcourse_content\":{\"id\":23,\"name\":\"SEO Tutorial\",\"short_description\":\"Master SEO skills to learn how to rank websites on the first page of Google.\",\"image\":\"2abdc9df-3185-46bb-8d15-48f957251183-1698927883.png\"}},{\"id\":28,\"slug\":\"google-analytics-tutorial\",\"lcourse_content\":{\"id\":33,\"name\":\"Google Analytics Tutorial\",\"short_description\":\"Master the art of using Google Analytics and gaining valuable web/app statistics.\",\"image\":\"777b9062-963f-41b9-b379-dbd7e45155ac-1647341118.png\"}},{\"id\":24,\"slug\":\"google-ads-tutorial\",\"lcourse_content\":{\"id\":29,\"name\":\"Google Ads Tutorial\",\"short_description\":\"Learn how to run effective and successful ad campaigns using Google Ads.\",\"image\":\"6809478b-e2d9-40c4-bd9b-49af619fe51d-1647341184.png\"}},{\"id\":27,\"slug\":\"facebook-marketing-tutorial\",\"lcourse_content\":{\"id\":32,\"name\":\"Facebook Marketing Tutorial\",\"short_description\":\"Learn the art of establishing an online presence with Facebook Marketing.\",\"image\":\"1610baff-f1d6-4798-b371-a08170430ef5-1647341141.png\"}}]},{\"id\":19,\"name\":\"Cybersecurity\",\"slug\":\"cybersecurity\",\"home_page_title\":\"Cyber Security Tutorials\",\"short_discription\":\"Learn ethical hacking, penetration testing, and numerous cyber security concepts with ease.\",\"lcourses\":[{\"id\":8,\"slug\":\"web-application-penetration-testing-tutorial\",\"lcourse_content\":{\"id\":10,\"name\":\"Web App Penetration Testing Tutorial\",\"short_description\":\"Acquire essential skills required to become a pro web penetration tester.\",\"image\":\"7fd6b3ae-d77a-4e80-80bc-02b5b47c32df-1647346507.png\"}},{\"id\":6,\"slug\":\"ethical-hacking-tutorial\",\"lcourse_content\":{\"id\":8,\"name\":\"Ethical Hacking Tutorial\",\"short_description\":\"Learn everything about ethical hacking, from basic to advanced concepts.\",\"image\":\"6866b1dd-63f8-4890-8575-b9694a0f2059-1647346542.png\"}},{\"id\":19,\"slug\":\"wi-fi-tutorial\",\"lcourse_content\":{\"id\":24,\"name\":\"Wi-Fi Tutorial\",\"short_description\":\"Easily learn basic to advanced concepts related to Wi-Fi technology.\",\"image\":\"b0e19544-404c-4fc9-98f7-dec86108f307-1647346477.png\"}},{\"id\":7,\"slug\":\"app-penetration-testing-tutorial\",\"lcourse_content\":{\"id\":9,\"name\":\"Android Penetration Testing Tutorial\",\"short_description\":\"Learn how to find bugs and security flaws in mobile apps with practicals.\",\"image\":\"1d92f6e0-6c73-4cfe-97af-6c1107cb3a81-1647346526.png\"}},{\"id\":23,\"slug\":\"nmap-tutorial\",\"lcourse_content\":{\"id\":28,\"name\":\"Nmap Tutorial\",\"short_description\":\"Master the use of the Nmap tool for scanning and mapping networks.\",\"image\":\"6f00770a-cf1d-44e6-b68b-a6cbce05d35c-1647341196.png\"}}]},{\"id\":32,\"name\":\"Web Technologies\",\"slug\":\"web-technologies\",\"home_page_title\":\"Web Technologies \\u0026 Programming Tutorials\",\"short_discription\":\"Find tutorials on top programming languages and trending web development technologies.\",\"lcourses\":[{\"id\":25,\"slug\":\"reactjs-tutorial\",\"lcourse_content\":{\"id\":30,\"name\":\"ReactJS Tutorial\",\"short_description\":\"Make yourself future-ready in web development by learning ReactJS.\",\"image\":\"6dee8d03-5667-4b32-b483-af2b62dcd8d3-1647338788.png\"}},{\"id\":56,\"slug\":\"html-tutorial\",\"lcourse_content\":{\"id\":83,\"name\":\"HTML Tutorial\",\"short_description\":\"Comprehensive tutorial to learn core concepts of HTML\",\"image\":\"1dfd57c3-0d4e-41e7-996e-8e5b523c207f-1693984113.png\"}},{\"id\":31,\"slug\":\"jquery-tutorial\",\"lcourse_content\":{\"id\":37,\"name\":\"jQuery Tutorial\",\"short_description\":\"The complete jQuery tutorial for beginners with examples \\u0026 videos.\",\"image\":\"861b734d-1200-4ef9-9f80-fdcbf2d5918b-1654781169.png\"}},{\"id\":34,\"slug\":\"git-tutorial\",\"lcourse_content\":{\"id\":40,\"name\":\"Git Tutorial\",\"short_description\":\"Learn everything about Git in this comprehensive tutorial for beginners.\",\"image\":\"28a317b0-5132-4aba-8a49-5ea970f23a49-1671862480.png\"}}]}],\"homePagecoursesExample\":[{\"id\":46,\"slug\":\"java-tutorial\",\"lcourse_content\":{\"id\":62,\"name\":\"Java Tutorials\",\"image\":\"a111d660-d0b6-404b-86e1-6b729fbdc179-1683633265.png\",\"example_menu_title\":\"Java Programs\"}},{\"id\":26,\"slug\":\"python-tutorial\",\"lcourse_content\":{\"id\":31,\"name\":\"Python Tutorial\",\"image\":\"bbbfd30a-e52d-4e03-ae5c-d76e95e7a22f-1647341152.png\",\"example_menu_title\":\"Python Programs\"}}],\"homePagecoursesQuiz\":[{\"id\":25,\"slug\":\"reactjs-tutorial\",\"lcourse_content\":{\"id\":30,\"name\":\"ReactJS Tutorial\",\"image\":\"6dee8d03-5667-4b32-b483-af2b62dcd8d3-1647338788.png\",\"quiz_menu_title\":\"ReactJS Quiz\"}},{\"id\":8,\"slug\":\"web-application-penetration-testing-tutorial\",\"lcourse_content\":{\"id\":10,\"name\":\"Web App Penetration Testing Tutorial\",\"image\":\"7fd6b3ae-d77a-4e80-80bc-02b5b47c32df-1647346507.png\",\"quiz_menu_title\":\"Web App Penetration Testing Quiz\"}},{\"id\":20,\"slug\":\"internet-of-things-iot-tutorial\",\"lcourse_content\":{\"id\":25,\"name\":\"Internet of Things (IoT) Tutorial\",\"image\":\"283eae7c-8974-49f2-a0a5-e0ac4c0e9215-1647338853.png\",\"quiz_menu_title\":\"IoT Quiz\"}},{\"id\":26,\"slug\":\"python-tutorial\",\"lcourse_content\":{\"id\":31,\"name\":\"Python Tutorial\",\"image\":\"bbbfd30a-e52d-4e03-ae5c-d76e95e7a22f-1647341152.png\",\"quiz_menu_title\":\"Python Quiz\"}},{\"id\":7,\"slug\":\"app-penetration-testing-tutorial\",\"lcourse_content\":{\"id\":9,\"name\":\"Android Penetration Testing Tutorial\",\"image\":\"1d92f6e0-6c73-4cfe-97af-6c1107cb3a81-1647346526.png\",\"quiz_menu_title\":\"Android Penetration Testing Quiz\"}},{\"id\":6,\"slug\":\"ethical-hacking-tutorial\",\"lcourse_content\":{\"id\":8,\"name\":\"Ethical Hacking Tutorial\",\"image\":\"6866b1dd-63f8-4890-8575-b9694a0f2059-1647346542.png\",\"quiz_menu_title\":\"Ethical Hacking Quiz\"}},{\"id\":18,\"slug\":\"seo-tutorial\",\"lcourse_content\":{\"id\":23,\"name\":\"SEO Tutorial\",\"image\":\"2abdc9df-3185-46bb-8d15-48f957251183-1698927883.png\",\"quiz_menu_title\":\"SEO Quiz\"}}],\"homePagecoursesInterviewQuestion\":[{\"id\":31,\"slug\":\"jquery-tutorial\",\"lcourse_content\":{\"id\":37,\"name\":\"jQuery Tutorial\",\"image\":\"861b734d-1200-4ef9-9f80-fdcbf2d5918b-1654781169.png\",\"interview_que_menu_title\":\"jQuery Interview Questions\"}},{\"id\":32,\"slug\":\"php-tutorial\",\"lcourse_content\":{\"id\":38,\"name\":\"PHP Tutorial\",\"image\":\"99334bcb-06ec-402d-8461-a1d886d97b8e-1654319072.png\",\"interview_que_menu_title\":\"PHP Interview Questions\"}},{\"id\":34,\"slug\":\"git-tutorial\",\"lcourse_content\":{\"id\":40,\"name\":\"Git Tutorial\",\"image\":\"28a317b0-5132-4aba-8a49-5ea970f23a49-1671862480.png\",\"interview_que_menu_title\":\"Git Interview Questions\"}},{\"id\":25,\"slug\":\"reactjs-tutorial\",\"lcourse_content\":{\"id\":30,\"name\":\"ReactJS Tutorial\",\"image\":\"6dee8d03-5667-4b32-b483-af2b62dcd8d3-1647338788.png\",\"interview_que_menu_title\":\"ReactJS Interview Questions\"}},{\"id\":8,\"slug\":\"web-application-penetration-testing-tutorial\",\"lcourse_content\":{\"id\":10,\"name\":\"Web App Penetration Testing Tutorial\",\"image\":\"7fd6b3ae-d77a-4e80-80bc-02b5b47c32df-1647346507.png\",\"interview_que_menu_title\":\"Web App Penetration Testing Interview Questions\"}},{\"id\":20,\"slug\":\"internet-of-things-iot-tutorial\",\"lcourse_content\":{\"id\":25,\"name\":\"Internet of Things (IoT) Tutorial\",\"image\":\"283eae7c-8974-49f2-a0a5-e0ac4c0e9215-1647338853.png\",\"interview_que_menu_title\":\"IoT Interview Questions\"}},{\"id\":28,\"slug\":\"google-analytics-tutorial\",\"lcourse_content\":{\"id\":33,\"name\":\"Google Analytics Tutorial\",\"image\":\"777b9062-963f-41b9-b379-dbd7e45155ac-1647341118.png\",\"interview_que_menu_title\":\"Google Analytics Interview Questions\"}},{\"id\":46,\"slug\":\"java-tutorial\",\"lcourse_content\":{\"id\":62,\"name\":\"Java Tutorials\",\"image\":\"a111d660-d0b6-404b-86e1-6b729fbdc179-1683633265.png\",\"interview_que_menu_title\":\"Java Interview Questions\"}},{\"id\":26,\"slug\":\"python-tutorial\",\"lcourse_content\":{\"id\":31,\"name\":\"Python Tutorial\",\"image\":\"bbbfd30a-e52d-4e03-ae5c-d76e95e7a22f-1647341152.png\",\"interview_que_menu_title\":\"Python Interview Questions\"}},{\"id\":7,\"slug\":\"app-penetration-testing-tutorial\",\"lcourse_content\":{\"id\":9,\"name\":\"Android Penetration Testing Tutorial\",\"image\":\"1d92f6e0-6c73-4cfe-97af-6c1107cb3a81-1647346526.png\",\"interview_que_menu_title\":\"Android Penetration Testing Interview Questions\"}},{\"id\":6,\"slug\":\"ethical-hacking-tutorial\",\"lcourse_content\":{\"id\":8,\"name\":\"Ethical Hacking Tutorial\",\"image\":\"6866b1dd-63f8-4890-8575-b9694a0f2059-1647346542.png\",\"interview_que_menu_title\":\"Ethical Hacking Interview Questions\"}},{\"id\":23,\"slug\":\"nmap-tutorial\",\"lcourse_content\":{\"id\":28,\"name\":\"Nmap Tutorial\",\"image\":\"6f00770a-cf1d-44e6-b68b-a6cbce05d35c-1647341196.png\",\"interview_que_menu_title\":\"Nmap Interview Questions\"}},{\"id\":24,\"slug\":\"google-ads-tutorial\",\"lcourse_content\":{\"id\":29,\"name\":\"Google Ads Tutorial\",\"image\":\"6809478b-e2d9-40c4-bd9b-49af619fe51d-1647341184.png\",\"interview_que_menu_title\":\"Google Ads Interview Questions\"}}],\"liveCourses\":{\"image_path\":\"https://d1iz2g3osnpxt2.cloudfront.net/uploads/images/live-course/\",\"courses\":[{\"id\":1,\"live_course_title\":\"Full Stack Web Development Course\",\"live_course_link\":\"https://bit.ly/web-developer-course-ws\",\"button_name\":\"Book Demo Class\",\"description\":\"\\u003c?xml encoding=\\\"utf-8\\\" ?\\u003e\\u003c!--?xml encoding=\\\"utf-8\\\" ?--\\u003e\\u003c!--?xml encoding=\\\"utf-8\\\" ?--\\u003e\\u003c!--?xml encoding=\\\"utf-8\\\" ?--\\u003e\\u003c!--?xml encoding=\\\"utf-8\\\" ?--\\u003e\\u003c!--?xml encoding=\\\"utf-8\\\" ?--\\u003e\\u003cul\\u003e\\r\\n\\u003cli\\u003eBuild High-Paying Career\\u003c/li\\u003e\\r\\n\\u003cli\\u003eWork on 10+ Projects\\u003c/li\\u003e\\r\\n\\u003cli\\u003eLive Training by Experts\\u003c/li\\u003e\\r\\n\\u003c/ul\\u003e\\n\",\"image\":\"efd015c2-41c7-4a6b-a070-0f703772b6b4-1706854302.jpg\",\"live_category\":{\"id\":1,\"name\":\"Web Development\"}},{\"id\":3,\"live_course_title\":\"Digital Marketing Course\",\"live_course_link\":\"https://bit.ly/digital-marketing-course-ws\",\"button_name\":\"Book Demo Class\",\"description\":\"\\u003c?xml encoding=\\\"utf-8\\\" ?\\u003e\\u003c!--?xml encoding=\\\"utf-8\\\" ?--\\u003e\\u003c!--?xml encoding=\\\"utf-8\\\" ?--\\u003e\\u003c!--?xml encoding=\\\"utf-8\\\" ?--\\u003e\\u003c!--?xml encoding=\\\"utf-8\\\" ?--\\u003e\\u003cul\\u003e\\r\\n\\u003cli\\u003e\\u0026#8377;10 Lakh Per Year Average Salary\\u003c/li\\u003e\\r\\n\\u003cli\\u003eLive Mentorship \\u0026amp; Guidance\\u003c/li\\u003e\\r\\n\\u003cli\\u003eHands-on Real Projects\\u003c/li\\u003e\\r\\n\\u003c/ul\\u003e\\n\",\"image\":\"15bc3a4a-e684-45b9-b22a-d156711f1505-1706854288.jpg\",\"live_category\":{\"id\":2,\"name\":\"Digital Marketing\"}},{\"id\":4,\"live_course_title\":\"SEO Course\",\"live_course_link\":\"https://bit.ly/seo-course-ws\",\"button_name\":\"Book Demo Class\",\"description\":\"\\u003c?xml encoding=\\\"utf-8\\\" ?\\u003e\\u003c!--?xml encoding=\\\"utf-8\\\" ?--\\u003e\\u003c!--?xml encoding=\\\"utf-8\\\" ?--\\u003e\\u003c!--?xml encoding=\\\"utf-8\\\" ?--\\u003e\\u003cul\\u003e\\r\\n\\u003cli\\u003eBecome Certified SEO Pro\\u003c/li\\u003e\\r\\n\\u003cli\\u003eLive Mentorship \\u0026amp; Guidance\\u003c/li\\u003e\\r\\n\\u003cli\\u003eFree Domain, Web Hosting, Projects\\u003c/li\\u003e\\r\\n\\u003c/ul\\u003e\\n\",\"image\":\"3bc94ced-cf7a-4d08-9a65-581c38fb14c2-1706854314.jpg\",\"live_category\":{\"id\":2,\"name\":\"Digital Marketing\"}},{\"id\":5,\"live_course_title\":\"Python Certification Course\",\"live_course_link\":\"https://www.wscubetech.com/online-python-certification-course-india.html?utm_source=TutorialsFreak\\u0026utm_medium=python-tutorial\\u0026utm_campaign=leads\",\"button_name\":\"Book Demo Class\",\"description\":\"\\u003c?xml encoding=\\\"utf-8\\\" ?\\u003e\\u003cul\\u003e\\r\\n\\u003cli\\u003e45-days training\\u003c/li\\u003e\\r\\n\\u003cli\\u003eHands-on projects\\u003c/li\\u003e\\r\\n\\u003cli\\u003eExpert mentorship\\u003c/li\\u003e\\r\\n\\u003c/ul\\u003e\\n\",\"image\":\"60d7ca0f-7dc9-4d96-a9b5-155fd32ebda8-1706854405.jpg\",\"live_category\":{\"id\":4,\"name\":\"Data Analytics\"}},{\"id\":6,\"live_course_title\":\"Data Analytics Course\",\"live_course_link\":\"https://www.wscubetech.com/online-data-analytics-course.html?utm_source=TutorialsFreak\\u0026utm_medium=ai-tutorial\\u0026utm_campaign=leads\",\"button_name\":\"Book Demo Class\",\"description\":\"\\u003c?xml encoding=\\\"utf-8\\\" ?\\u003e\\u003cul\\u003e\\r\\n\\u003cli\\u003eDevelop job-ready skills\\u003c/li\\u003e\\r\\n\\u003cli\\u003eProject-based approach\\u003c/li\\u003e\\r\\n\\u003cli\\u003eCertification \\u0026amp; mentorship\\u003c/li\\u003e\\r\\n\\u003c/ul\\u003e\\n\",\"image\":\"948a0a2c-3199-44b3-a1c2-be41e5c5c3e1-1706854606.jpg\",\"live_category\":{\"id\":4,\"name\":\"Data Analytics\"}},{\"id\":7,\"live_course_title\":\"Ethical Hacking Course\",\"live_course_link\":\"https://www.wscubetech.com/online-ethical-hacking-course.html?utm_source=TutorialsFreak\\u0026utm_medium=eh-tutorial\\u0026utm_campaign=leads\",\"button_name\":\"Book Demo Class\",\"description\":\"\\u003c?xml encoding=\\\"utf-8\\\" ?\\u003e\\u003cul\\u003e\\r\\n\\u003cli\\u003e2 months training\\u003c/li\\u003e\\r\\n\\u003cli\\u003e100% practical\\u003c/li\\u003e\\r\\n\\u003cli\\u003eGet certified\\u003c/li\\u003e\\r\\n\\u003c/ul\\u003e\\n\",\"image\":\"34497f12-312c-4827-8dae-7d7914314e74-1706854737.jpg\",\"live_category\":{\"id\":3,\"name\":\"Cyber Security\"}}]}},\"__N_SSP\":true},\"page\":\"/\",\"query\":{},\"buildId\":\"887JWZIhfehTF7sVinbyP\",\"isFallback\":false,\"dynamicIds\":[96732,63423,43765,30337,69808,9505,2410,13313,61054,72815,78669,81204,68194,37075,83062,66339],\"gssp\":true,\"scriptLoader\":[]}\n  </script>\n </body>\n</html>\n\nNo matching <div id='app-frontend'> found!\n"
     ]
    }
   ],
   "source": [
    "\n",
    "from bs4 import BeautifulSoup\n",
    "\n",
    "url = \"https://www.tutorialsfreak.com/\"\n",
    "web=requests.get(url)\n",
    "soup = BeautifulSoup(web.content, \"html.parser\")\n",
    "print(type(soup))  # <class 'bs4.BeautifulSoup'>\n",
    "print(soup.prettify())  # Nicely formatted HTML\n",
    "\n",
    "id_data = soup.find(\"div\", id=\"app-frontend\")\n",
    "\n",
    "if id_data:\n",
    "    paragraphs = id_data.find_all(\"p\")\n",
    "    for p in paragraphs:\n",
    "        print(p.text)\n",
    "else:\n",
    "    print(\"No matching <div id='app-frontend'> found!\")\n"
   ]
  },
  {
   "source": [
    "### Extracting texts from  the tags"
   ],
   "cell_type": "markdown",
   "metadata": {}
  },
  {
   "cell_type": "code",
   "execution_count": 51,
   "metadata": {},
   "outputs": [],
   "source": [
    "import requests\n",
    "from bs4 import BeautifulSoup\n",
    "url = \"https://www.tutorialsfreak.com/\""
   ]
  },
  {
   "cell_type": "code",
   "execution_count": 52,
   "metadata": {},
   "outputs": [],
   "source": [
    "web=requests.get(url)\n",
    "soup=BeautifulSoup(web.content,\"html.parser\")"
   ]
  },
  {
   "cell_type": "code",
   "execution_count": 55,
   "metadata": {},
   "outputs": [
    {
     "output_type": "stream",
     "name": "stdout",
     "text": [
      "Kickstart effective learning with Tutorials Freak, with new content published every day.\nThe entire content on the site is verified by pro developers and tech freaks.\nThe entire content on the site is verified by pro developers and tech freaks. Enabling self-directed learning so that you can learn at your pace and shape your own path.\nAlong with simplified tutorials, you get video content created by industry experts.\nLearning programming and technical things can be complex. We are here to make it easy with simple and interactive tutorials.\nLearning programming and technical things can be complex. We are here to make it easy with simple and interactive tutorials.\nExplore the expert-curated interview questions with answers.\nPlenty of quizzes with time duration and skill assessment.\nFind coding examples with programs, output, easy explanations, and videos.\n\nWith an account, you get access to premium content and courses at no cost.\nDownload the app now to learn and practice hassle-free.\n©  Tutorials Freak . All Rights Reserved | Design By  WsCube Tech\n"
     ]
    }
   ],
   "source": [
    "# Ensure `line` is assigned before using it\n",
    "line = soup.find_all(\"p\")  \n",
    "\n",
    "for l in line:\n",
    "    print(l.text)"
   ]
  },
  {
   "cell_type": "code",
   "execution_count": 57,
   "metadata": {},
   "outputs": [
    {
     "output_type": "stream",
     "name": "stdout",
     "text": [
      "/\n/search\n/\n/\n/\n/\n/\n/\n/\n/\n/compiler/c\n/compiler/css\n/compiler/html\n/compiler/jquery\n/compiler/cpp\n/compiler/php\n/compiler/python\nhttps://bit.ly/web-developer-course-ws\nhttps://bit.ly/web-developer-course-ws\nhttps://bit.ly/digital-marketing-course-ws\nhttps://bit.ly/digital-marketing-course-ws\nhttps://bit.ly/seo-course-ws\nhttps://bit.ly/seo-course-ws\nhttps://www.wscubetech.com/online-python-certification-course-india.html?utm_source=TutorialsFreak&utm_medium=python-tutorial&utm_campaign=leads\nhttps://www.wscubetech.com/online-python-certification-course-india.html?utm_source=TutorialsFreak&utm_medium=python-tutorial&utm_campaign=leads\nhttps://www.wscubetech.com/online-data-analytics-course.html?utm_source=TutorialsFreak&utm_medium=ai-tutorial&utm_campaign=leads\nhttps://www.wscubetech.com/online-data-analytics-course.html?utm_source=TutorialsFreak&utm_medium=ai-tutorial&utm_campaign=leads\nhttps://www.wscubetech.com/online-ethical-hacking-course.html?utm_source=TutorialsFreak&utm_medium=eh-tutorial&utm_campaign=leads\nhttps://www.wscubetech.com/online-ethical-hacking-course.html?utm_source=TutorialsFreak&utm_medium=eh-tutorial&utm_campaign=leads\nhttps://play.google.com/store/apps/details?id=com.tutorialsfreak\n/\nhttps://www.facebook.com/tutorialsfreak\nhttps://twitter.com/TutorialsFreak\nhttps://www.instagram.com/tutorials_freak/\nhttps://www.linkedin.com/company/tutorialsfreak/\n/terms-conditons\n/privacy-policy\n/about-us\n/contact-us\nhttps://www.wscubetech.com/\n"
     ]
    }
   ],
   "source": [
    "### Extracting all links\n",
    "for i in soup.find_all(\"a\"):\n",
    "    print(i.get(\"href\"))"
   ]
  },
  {
   "source": [
    "### Extracting image and image information\n"
   ],
   "cell_type": "markdown",
   "metadata": {}
  },
  {
   "cell_type": "code",
   "execution_count": 58,
   "metadata": {},
   "outputs": [
    {
     "output_type": "execute_result",
     "data": {
      "text/plain": [
       "x-height:100%\"/>,\n",
       " <img alt=\"\" aria-hidden=\"true\" src=\"data:image/svg+xml,%3csvg%20xmlns=%27http://www.w3.org/2000/svg%27%20version=%271.1%27%20width=%2748%27%20height=%2748%27/%3e\" style=\"display:block;max-width:100%;width:initial;height:initial;background:none;opacity:1;border:0;margin:0;padding:0\"/>,\n",
       " <img alt=\"Why-Choose-Img\" data-nimg=\"intrinsic\" decoding=\"async\" src=\"data:image/gif;base64,R0lGODlhAQABAIAAAAAAAP///yH5BAEAAAAALAAAAAABAAEAAAIBRAA7\" style=\"position:absolute;top:0;left:0;bottom:0;right:0;box-sizing:border-box;padding:0;border:none;margin:auto;display:block;width:0;height:0;min-width:100%;max-width:100%;min-height:100%;max-height:100%\"/>,\n",
       " <img alt=\"Why-Choose-Img\" data-nimg=\"intrinsic\" decoding=\"async\" loading=\"lazy\" src=\"https://d20evgacl8spoj.cloudfront.net/uploads/learning-course/images/home-page/7f47bf14-d748-40f4-b9a5-921b1bb4df3f-1648197078.svg\" srcset=\"https://d20evgacl8spoj.cloudfront.net/uploads/learning-course/images/home-page/7f47bf14-d748-40f4-b9a5-921b1bb4df3f-1648197078.svg 1x, https://d20evgacl8spoj.cloudfront.net/uploads/learning-course/images/home-page/7f47bf14-d748-40f4-b9a5-921b1bb4df3f-1648197078.svg 2x\" style=\"position:absolute;top:0;left:0;bottom:0;right:0;box-sizing:border-box;padding:0;border:none;margin:auto;display:block;width:0;height:0;min-width:100%;max-width:100%;min-height:100%;max-height:100%\"/>,\n",
       " <img alt=\"\" class=\"img-fluid mt-5\" src=\"/images/compilor.webp\" width=\"90%\"/>,\n",
       " <img alt=\"\" aria-hidden=\"true\" src=\"data:image/svg+xml,%3csvg%20xmlns=%27http://www.w3.org/2000/svg%27%20version=%271.1%27%20width=%2725%27%20height=%2725%27/%3e\" style=\"display:block;max-width:100%;width:initial;height:initial;background:none;opacity:1;border:0;margin:0;padding:0\"/>,\n",
       " <img alt=\"compiler-img\" class=\"\" data-nimg=\"intrinsic\" decoding=\"async\" src=\"data:image/gif;base64,R0lGODlhAQABAIAAAAAAAP///yH5BAEAAAAALAAAAAABAAEAAAIBRAA7\" style=\"position:absolute;top:0;left:0;bottom:0;right:0;box-sizing:border-box;padding:0;border:none;margin:auto;display:block;width:0;height:0;min-width:100%;max-width:100%;min-height:100%;max-height:100%\"/>,\n",
       " <img alt=\"compiler-img\" class=\"\" data-nimg=\"intrinsic\" decoding=\"async\" loading=\"lazy\" src=\"https://d20evgacl8spoj.cloudfront.net/uploads/images/study-material-compiler/f60ffd71-5b88-42f8-8396-75ad661dd4e9-1664191180.svg\" srcset=\"https://d20evgacl8spoj.cloudfront.net/uploads/images/study-material-compiler/f60ffd71-5b88-42f8-8396-75ad661dd4e9-1664191180.svg 1x, https://d20evgacl8spoj.cloudfront.net/uploads/images/study-material-compiler/f60ffd71-5b88-42f8-8396-75ad661dd4e9-1664191180.svg 2x\" style=\"position:absolute;top:0;left:0;bottom:0;right:0;box-sizing:border-box;padding:0;border:none;margin:auto;display:block;width:0;height:0;min-width:100%;max-width:100%;min-height:100%;max-height:100%\"/>,\n",
       " <img alt=\"\" aria-hidden=\"true\" src=\"data:image/svg+xml,%3csvg%20xmlns=%27http://www.w3.org/2000/svg%27%20version=%271.1%27%20width=%2725%27%20height=%2725%27/%3e\" style=\"display:block;max-width:100%;width:initial;height:initial;background:none;opacity:1;border:0;margin:0;padding:0\"/>,\n",
       " <img alt=\"compiler-img\" class=\"\" data-nimg=\"intrinsic\" decoding=\"async\" src=\"data:image/gif;base64,R0lGODlhAQABAIAAAAAAAP///yH5BAEAAAAALAAAAAABAAEAAAIBRAA7\" style=\"position:absolute;top:0;left:0;bottom:0;right:0;box-sizing:border-box;padding:0;border:none;margin:auto;display:block;width:0;height:0;min-width:100%;max-width:100%;min-height:100%;max-height:100%\"/>,\n",
       " <img alt=\"compiler-img\" class=\"\" data-nimg=\"intrinsic\" decoding=\"async\" loading=\"lazy\" src=\"https://d20evgacl8spoj.cloudfront.net/uploads/images/study-material-compiler/b5be3eb0-8ae8-4e22-97c9-0cdcb2a250e4-1664191183.svg\" srcset=\"https://d20evgacl8spoj.cloudfront.net/uploads/images/study-material-compiler/b5be3eb0-8ae8-4e22-97c9-0cdcb2a250e4-1664191183.svg 1x, https://d20evgacl8spoj.cloudfront.net/uploads/images/study-material-compiler/b5be3eb0-8ae8-4e22-97c9-0cdcb2a250e4-1664191183.svg 2x\" style=\"position:absolute;top:0;left:0;bottom:0;right:0;box-sizing:border-box;padding:0;border:none;margin:auto;display:block;width:0;height:0;min-width:100%;max-width:100%;min-height:100%;max-height:100%\"/>,\n",
       " <img alt=\"\" aria-hidden=\"true\" src=\"data:image/svg+xml,%3csvg%20xmlns=%27http://www.w3.org/2000/svg%27%20version=%271.1%27%20width=%2725%27%20height=%2725%27/%3e\" style=\"display:block;max-width:100%;width:initial;height:initial;background:none;opacity:1;border:0;margin:0;padding:0\"/>,\n",
       " <img alt=\"compiler-img\" class=\"\" data-nimg=\"intrinsic\" decoding=\"async\" src=\"data:image/gif;base64,R0lGODlhAQABAIAAAAAAAP///yH5BAEAAAAALAAAAAABAAEAAAIBRAA7\" style=\"position:absolute;top:0;left:0;bottom:0;right:0;box-sizing:border-box;padding:0;border:none;margin:auto;display:block;width:0;height:0;min-width:100%;max-width:100%;min-height:100%;max-height:100%\"/>,\n",
       " <img alt=\"compiler-img\" class=\"\" data-nimg=\"intrinsic\" decoding=\"async\" loading=\"lazy\" src=\"https://d20evgacl8spoj.cloudfront.net/uploads/images/study-material-compiler/329300da-2f51-419c-be8e-58262e91fac0-1664257495.svg\" srcset=\"https://d20evgacl8spoj.cloudfront.net/uploads/images/study-material-compiler/329300da-2f51-419c-be8e-58262e91fac0-1664257495.svg 1x, https://d20evgacl8spoj.cloudfront.net/uploads/images/study-material-compiler/329300da-2f51-419c-be8e-58262e91fac0-1664257495.svg 2x\" style=\"position:absolute;top:0;left:0;bottom:0;right:0;box-sizing:border-box;padding:0;border:none;margin:auto;display:block;width:0;height:0;min-width:100%;max-width:100%;min-height:100%;max-height:100%\"/>,\n",
       " <img alt=\"\" aria-hidden=\"true\" src=\"data:image/svg+xml,%3csvg%20xmlns=%27http://www.w3.org/2000/svg%27%20version=%271.1%27%20width=%2725%27%20height=%2725%27/%3e\" style=\"display:block;max-width:100%;width:initial;height:initial;background:none;opacity:1;border:0;margin:0;padding:0\"/>,\n",
       " <img alt=\"compiler-img\" class=\"\" data-nimg=\"intrinsic\" decoding=\"async\" src=\"data:image/gif;base64,R0lGODlhAQABAIAAAAAAAP///yH5BAEAAAAALAAAAAABAAEAAAIBRAA7\" style=\"position:absolute;top:0;left:0;bottom:0;right:0;box-sizing:border-box;padding:0;border:none;margin:auto;display:block;width:0;height:0;min-width:100%;max-width:100%;min-height:100%;max-height:100%\"/>,\n",
       " <img alt=\"compiler-img\" class=\"\" data-nimg=\"intrinsic\" decoding=\"async\" loading=\"lazy\" src=\"https://d20evgacl8spoj.cloudfront.net/uploads/images/study-material-compiler/da172d80-2fd9-4c25-a180-5c4d7ef1b13b-1663998203.svg\" srcset=\"https://d20evgacl8spoj.cloudfront.net/uploads/images/study-material-compiler/da172d80-2fd9-4c25-a180-5c4d7ef1b13b-1663998203.svg 1x, https://d20evgacl8spoj.cloudfront.net/uploads/images/study-material-compiler/da172d80-2fd9-4c25-a180-5c4d7ef1b13b-1663998203.svg 2x\" style=\"position:absolute;top:0;left:0;bottom:0;right:0;box-sizing:border-box;padding:0;border:none;margin:auto;display:block;width:0;height:0;min-width:100%;max-width:100%;min-height:100%;max-height:100%\"/>,\n",
       " <img alt=\"\" aria-hidden=\"true\" src=\"data:image/svg+xml,%3csvg%20xmlns=%27http://www.w3.org/2000/svg%27%20version=%271.1%27%20width=%2725%27%20height=%2725%27/%3e\" style=\"display:block;max-width:100%;width:initial;height:initial;background:none;opacity:1;border:0;margin:0;padding:0\"/>,\n",
       " <img alt=\"compiler-img\" class=\"\" data-nimg=\"intrinsic\" decoding=\"async\" src=\"data:image/gif;base64,R0lGODlhAQABAIAAAAAAAP///yH5BAEAAAAALAAAAAABAAEAAAIBRAA7\" style=\"position:absolute;top:0;left:0;bottom:0;right:0;box-sizing:border-box;padding:0;border:none;margin:auto;display:block;width:0;height:0;min-width:100%;max-width:100%;min-height:100%;max-height:100%\"/>,\n",
       " <img alt=\"compiler-img\" class=\"\" data-nimg=\"intrinsic\" decoding=\"async\" loading=\"lazy\" src=\"https://d20evgacl8spoj.cloudfront.net/uploads/images/study-material-compiler/ac77b308-23fd-4c41-a26c-c5df53f7e1a0-1664257491.svg\" srcset=\"https://d20evgacl8spoj.cloudfront.net/uploads/images/study-material-compiler/ac77b308-23fd-4c41-a26c-c5df53f7e1a0-1664257491.svg 1x, https://d20evgacl8spoj.cloudfront.net/uploads/images/study-material-compiler/ac77b308-23fd-4c41-a26c-c5df53f7e1a0-1664257491.svg 2x\" style=\"position:absolute;top:0;left:0;bottom:0;right:0;box-sizing:border-box;padding:0;border:none;margin:auto;display:block;width:0;height:0;min-width:100%;max-width:100%;min-height:100%;max-height:100%\"/>,\n",
       " <img alt=\"\" aria-hidden=\"true\" src=\"data:image/svg+xml,%3csvg%20xmlns=%27http://www.w3.org/2000/svg%27%20version=%271.1%27%20width=%2725%27%20height=%2725%27/%3e\" style=\"display:block;max-width:100%;width:initial;height:initial;background:none;opacity:1;border:0;margin:0;padding:0\"/>,\n",
       " <img alt=\"compiler-img\" class=\"\" data-nimg=\"intrinsic\" decoding=\"async\" src=\"data:image/gif;base64,R0lGODlhAQABAIAAAAAAAP///yH5BAEAAAAALAAAAAABAAEAAAIBRAA7\" style=\"position:absolute;top:0;left:0;bottom:0;right:0;box-sizing:border-box;padding:0;border:none;margin:auto;display:block;width:0;height:0;min-width:100%;max-width:100%;min-height:100%;max-height:100%\"/>,\n",
       " <img alt=\"compiler-img\" class=\"\" data-nimg=\"intrinsic\" decoding=\"async\" loading=\"lazy\" src=\"https://d20evgacl8spoj.cloudfront.net/uploads/images/study-material-compiler/0348b25c-17b7-4ade-962b-d71fd3753814-1663998384.svg\" srcset=\"https://d20evgacl8spoj.cloudfront.net/uploads/images/study-material-compiler/0348b25c-17b7-4ade-962b-d71fd3753814-1663998384.svg 1x, https://d20evgacl8spoj.cloudfront.net/uploads/images/study-material-compiler/0348b25c-17b7-4ade-962b-d71fd3753814-1663998384.svg 2x\" style=\"position:absolute;top:0;left:0;bottom:0;right:0;box-sizing:border-box;padding:0;border:none;margin:auto;display:block;width:0;height:0;min-width:100%;max-width:100%;min-height:100%;max-height:100%\"/>,\n",
       " <img alt=\"\" aria-hidden=\"true\" src=\"data:image/svg+xml,%3csvg%20xmlns=%27http://www.w3.org/2000/svg%27%20version=%271.1%27%20width=%2725%27%20height=%2725%27/%3e\" style=\"display:block;max-width:100%;width:initial;height:initial;background:none;opacity:1;border:0;margin:0;padding:0\"/>,\n",
       " <img alt=\"compiler-img\" class=\"\" data-nimg=\"intrinsic\" decoding=\"async\" src=\"data:image/gif;base64,R0lGODlhAQABAIAAAAAAAP///yH5BAEAAAAALAAAAAABAAEAAAIBRAA7\" style=\"position:absolute;top:0;left:0;bottom:0;right:0;box-sizing:border-box;padding:0;border:none;margin:auto;display:block;width:0;height:0;min-width:100%;max-width:100%;min-height:100%;max-height:100%\"/>,\n",
       " <img alt=\"compiler-img\" class=\"\" data-nimg=\"intrinsic\" decoding=\"async\" loading=\"lazy\" src=\"https://d20evgacl8spoj.cloudfront.net/uploads/images/study-material-compiler/6ead73cf-3385-44f1-a540-4f717fc7e467-1663998221.svg\" srcset=\"https://d20evgacl8spoj.cloudfront.net/uploads/images/study-material-compiler/6ead73cf-3385-44f1-a540-4f717fc7e467-1663998221.svg 1x, https://d20evgacl8spoj.cloudfront.net/uploads/images/study-material-compiler/6ead73cf-3385-44f1-a540-4f717fc7e467-1663998221.svg 2x\" style=\"position:absolute;top:0;left:0;bottom:0;right:0;box-sizing:border-box;padding:0;border:none;margin:auto;display:block;width:0;height:0;min-width:100%;max-width:100%;min-height:100%;max-height:100%\"/>,\n",
       " <img alt=\"https://d20evgacl8spoj.cloudfront.net/uploads/learning-course/images/lcourses/861b734d-1200-4ef9-9f80-fdcbf2d5918b-1654781169.png\" height=\"32\" src=\"https://d20evgacl8spoj.cloudfront.net/uploads/learning-course/images/lcourses/861b734d-1200-4ef9-9f80-fdcbf2d5918b-1654781169.png\" width=\"32\"/>,\n",
       " <img alt=\"https://d20evgacl8spoj.cloudfront.net/uploads/learning-course/images/lcourses/99334bcb-06ec-402d-8461-a1d886d97b8e-1654319072.png\" height=\"32\" src=\"https://d20evgacl8spoj.cloudfront.net/uploads/learning-course/images/lcourses/99334bcb-06ec-402d-8461-a1d886d97b8e-1654319072.png\" width=\"32\"/>,\n",
       " <img alt=\"https://d20evgacl8spoj.cloudfront.net/uploads/learning-course/images/lcourses/28a317b0-5132-4aba-8a49-5ea970f23a49-1671862480.png\" height=\"32\" src=\"https://d20evgacl8spoj.cloudfront.net/uploads/learning-course/images/lcourses/28a317b0-5132-4aba-8a49-5ea970f23a49-1671862480.png\" width=\"32\"/>,\n",
       " <img alt=\"https://d20evgacl8spoj.cloudfront.net/uploads/learning-course/images/lcourses/6dee8d03-5667-4b32-b483-af2b62dcd8d3-1647338788.png\" height=\"32\" src=\"https://d20evgacl8spoj.cloudfront.net/uploads/learning-course/images/lcourses/6dee8d03-5667-4b32-b483-af2b62dcd8d3-1647338788.png\" width=\"32\"/>,\n",
       " <img alt=\"https://d20evgacl8spoj.cloudfront.net/uploads/learning-course/images/lcourses/7fd6b3ae-d77a-4e80-80bc-02b5b47c32df-1647346507.png\" height=\"32\" src=\"https://d20evgacl8spoj.cloudfront.net/uploads/learning-course/images/lcourses/7fd6b3ae-d77a-4e80-80bc-02b5b47c32df-1647346507.png\" width=\"32\"/>,\n",
       " <img alt=\"https://d20evgacl8spoj.cloudfront.net/uploads/learning-course/images/lcourses/283eae7c-8974-49f2-a0a5-e0ac4c0e9215-1647338853.png\" height=\"32\" src=\"https://d20evgacl8spoj.cloudfront.net/uploads/learning-course/images/lcourses/283eae7c-8974-49f2-a0a5-e0ac4c0e9215-1647338853.png\" width=\"32\"/>,\n",
       " <img alt=\"https://d20evgacl8spoj.cloudfront.net/uploads/learning-course/images/lcourses/777b9062-963f-41b9-b379-dbd7e45155ac-1647341118.png\" height=\"32\" src=\"https://d20evgacl8spoj.cloudfront.net/uploads/learning-course/images/lcourses/777b9062-963f-41b9-b379-dbd7e45155ac-1647341118.png\" width=\"32\"/>,\n",
       " <img alt=\"https://d20evgacl8spoj.cloudfront.net/uploads/learning-course/images/lcourses/a111d660-d0b6-404b-86e1-6b729fbdc179-1683633265.png\" height=\"32\" src=\"https://d20evgacl8spoj.cloudfront.net/uploads/learning-course/images/lcourses/a111d660-d0b6-404b-86e1-6b729fbdc179-1683633265.png\" width=\"32\"/>,\n",
       " <img alt=\"https://d20evgacl8spoj.cloudfront.net/uploads/learning-course/images/lcourses/bbbfd30a-e52d-4e03-ae5c-d76e95e7a22f-1647341152.png\" height=\"32\" src=\"https://d20evgacl8spoj.cloudfront.net/uploads/learning-course/images/lcourses/bbbfd30a-e52d-4e03-ae5c-d76e95e7a22f-1647341152.png\" width=\"32\"/>,\n",
       " <img alt=\"https://d20evgacl8spoj.cloudfront.net/uploads/learning-course/images/lcourses/1d92f6e0-6c73-4cfe-97af-6c1107cb3a81-1647346526.png\" height=\"32\" src=\"https://d20evgacl8spoj.cloudfront.net/uploads/learning-course/images/lcourses/1d92f6e0-6c73-4cfe-97af-6c1107cb3a81-1647346526.png\" width=\"32\"/>,\n",
       " <img alt=\"https://d20evgacl8spoj.cloudfront.net/uploads/learning-course/images/lcourses/6866b1dd-63f8-4890-8575-b9694a0f2059-1647346542.png\" height=\"32\" src=\"https://d20evgacl8spoj.cloudfront.net/uploads/learning-course/images/lcourses/6866b1dd-63f8-4890-8575-b9694a0f2059-1647346542.png\" width=\"32\"/>,\n",
       " <img alt=\"https://d20evgacl8spoj.cloudfront.net/uploads/learning-course/images/lcourses/6f00770a-cf1d-44e6-b68b-a6cbce05d35c-1647341196.png\" height=\"32\" src=\"https://d20evgacl8spoj.cloudfront.net/uploads/learning-course/images/lcourses/6f00770a-cf1d-44e6-b68b-a6cbce05d35c-1647341196.png\" width=\"32\"/>,\n",
       " <img alt=\"https://d20evgacl8spoj.cloudfront.net/uploads/learning-course/images/lcourses/6809478b-e2d9-40c4-bd9b-49af619fe51d-1647341184.png\" height=\"32\" src=\"https://d20evgacl8spoj.cloudfront.net/uploads/learning-course/images/lcourses/6809478b-e2d9-40c4-bd9b-49af619fe51d-1647341184.png\" width=\"32\"/>,\n",
       " <img alt=\"https://d20evgacl8spoj.cloudfront.net/uploads/learning-course/images/lcourses/6dee8d03-5667-4b32-b483-af2b62dcd8d3-1647338788.png\" height=\"32\" src=\"https://d20evgacl8spoj.cloudfront.net/uploads/learning-course/images/lcourses/6dee8d03-5667-4b32-b483-af2b62dcd8d3-1647338788.png\" width=\"32\"/>,\n",
       " <img alt=\"https://d20evgacl8spoj.cloudfront.net/uploads/learning-course/images/lcourses/7fd6b3ae-d77a-4e80-80bc-02b5b47c32df-1647346507.png\" height=\"32\" src=\"https://d20evgacl8spoj.cloudfront.net/uploads/learning-course/images/lcourses/7fd6b3ae-d77a-4e80-80bc-02b5b47c32df-1647346507.png\" width=\"32\"/>,\n",
       " <img alt=\"https://d20evgacl8spoj.cloudfront.net/uploads/learning-course/images/lcourses/283eae7c-8974-49f2-a0a5-e0ac4c0e9215-1647338853.png\" height=\"32\" src=\"https://d20evgacl8spoj.cloudfront.net/uploads/learning-course/images/lcourses/283eae7c-8974-49f2-a0a5-e0ac4c0e9215-1647338853.png\" width=\"32\"/>,\n",
       " <img alt=\"https://d20evgacl8spoj.cloudfront.net/uploads/learning-course/images/lcourses/bbbfd30a-e52d-4e03-ae5c-d76e95e7a22f-1647341152.png\" height=\"32\" src=\"https://d20evgacl8spoj.cloudfront.net/uploads/learning-course/images/lcourses/bbbfd30a-e52d-4e03-ae5c-d76e95e7a22f-1647341152.png\" width=\"32\"/>,\n",
       " <img alt=\"https://d20evgacl8spoj.cloudfront.net/uploads/learning-course/images/lcourses/1d92f6e0-6c73-4cfe-97af-6c1107cb3a81-1647346526.png\" height=\"32\" src=\"https://d20evgacl8spoj.cloudfront.net/uploads/learning-course/images/lcourses/1d92f6e0-6c73-4cfe-97af-6c1107cb3a81-1647346526.png\" width=\"32\"/>,\n",
       " <img alt=\"https://d20evgacl8spoj.cloudfront.net/uploads/learning-course/images/lcourses/6866b1dd-63f8-4890-8575-b9694a0f2059-1647346542.png\" height=\"32\" src=\"https://d20evgacl8spoj.cloudfront.net/uploads/learning-course/images/lcourses/6866b1dd-63f8-4890-8575-b9694a0f2059-1647346542.png\" width=\"32\"/>,\n",
       " <img alt=\"https://d20evgacl8spoj.cloudfront.net/uploads/learning-course/images/lcourses/2abdc9df-3185-46bb-8d15-48f957251183-1698927883.png\" height=\"32\" src=\"https://d20evgacl8spoj.cloudfront.net/uploads/learning-course/images/lcourses/2abdc9df-3185-46bb-8d15-48f957251183-1698927883.png\" width=\"32\"/>,\n",
       " <img alt=\"https://d20evgacl8spoj.cloudfront.net/uploads/learning-course/images/lcourses/a111d660-d0b6-404b-86e1-6b729fbdc179-1683633265.png\" height=\"32\" src=\"https://d20evgacl8spoj.cloudfront.net/uploads/learning-course/images/lcourses/a111d660-d0b6-404b-86e1-6b729fbdc179-1683633265.png\" width=\"32\"/>,\n",
       " <img alt=\"https://d20evgacl8spoj.cloudfront.net/uploads/learning-course/images/lcourses/bbbfd30a-e52d-4e03-ae5c-d76e95e7a22f-1647341152.png\" height=\"32\" src=\"https://d20evgacl8spoj.cloudfront.net/uploads/learning-course/images/lcourses/bbbfd30a-e52d-4e03-ae5c-d76e95e7a22f-1647341152.png\" width=\"32\"/>,\n",
       " <img class=\"img-fluid\" height=\"40\" src=\"/images/ws-cube-tech-logo.svg\" width=\"210\"/>,\n",
       " <img class=\"img-fluid w-100\" src=\"https://d20evgacl8spoj.cloudfront.net/uploads/images/live-course/efd015c2-41c7-4a6b-a070-0f703772b6b4-1706854302.jpg\"/>,\n",
       " <img class=\"img-fluid w-100\" src=\"https://d20evgacl8spoj.cloudfront.net/uploads/images/live-course/15bc3a4a-e684-45b9-b22a-d156711f1505-1706854288.jpg\"/>,\n",
       " <img class=\"img-fluid w-100\" src=\"https://d20evgacl8spoj.cloudfront.net/uploads/images/live-course/3bc94ced-cf7a-4d08-9a65-581c38fb14c2-1706854314.jpg\"/>,\n",
       " <img class=\"img-fluid w-100\" src=\"https://d20evgacl8spoj.cloudfront.net/uploads/images/live-course/60d7ca0f-7dc9-4d96-a9b5-155fd32ebda8-1706854405.jpg\"/>,\n",
       " <img class=\"img-fluid w-100\" src=\"https://d20evgacl8spoj.cloudfront.net/uploads/images/live-course/948a0a2c-3199-44b3-a1c2-be41e5c5c3e1-1706854606.jpg\"/>,\n",
       " <img class=\"img-fluid w-100\" src=\"https://d20evgacl8spoj.cloudfront.net/uploads/images/live-course/34497f12-312c-4827-8dae-7d7914314e74-1706854737.jpg\"/>,\n",
       " <img alt=\"Google-Play-Img\" src=\"/images/play-store.png\"/>,\n",
       " <img alt=\"Phone-Img\" class=\"img-fluid\" loading=\"lazy\" src=\"https://d20evgacl8spoj.cloudfront.net/uploads/learning-course/images/home-page/3d2ca30d-f3bd-45b7-aae5-2c547e2a35a2-1690631574.webp\"/>,\n",
       " <img alt=\"\" aria-hidden=\"true\" src=\"data:image/svg+xml,%3csvg%20xmlns=%27http://www.w3.org/2000/svg%27%20version=%271.1%27%20width=%27192%27%20height=%2756%27/%3e\" style=\"display:block;max-width:100%;width:initial;height:initial;background:none;opacity:1;border:0;margin:0;padding:0\"/>,\n",
       " <img alt=\"Logo-Img\" class=\"img-fluid\" data-nimg=\"intrinsic\" decoding=\"async\" src=\"data:image/gif;base64,R0lGODlhAQABAIAAAAAAAP///yH5BAEAAAAALAAAAAABAAEAAAIBRAA7\" style=\"position:absolute;top:0;left:0;bottom:0;right:0;box-sizing:border-box;padding:0;border:none;margin:auto;display:block;width:0;height:0;min-width:100%;max-width:100%;min-height:100%;max-height:100%\"/>,\n",
       " <img alt=\"Logo-Img\" class=\"img-fluid\" data-nimg=\"intrinsic\" decoding=\"async\" loading=\"lazy\" src=\"/images/tutorials-freak-logo.svg\" srcset=\"/images/tutorials-freak-logo.svg 1x, /images/tutorials-freak-logo.svg 2x\" style=\"position:absolute;top:0;left:0;bottom:0;right:0;box-sizing:border-box;padding:0;border:none;margin:auto;display:block;width:0;height:0;min-width:100%;max-width:100%;min-height:100%;max-height:100%\"/>]"
      ]
     },
     "metadata": {},
     "execution_count": 58
    }
   ],
   "source": [
    "images=soup.find_all(\"img\")\n",
    "images"
   ]
  },
  {
   "cell_type": "code",
   "execution_count": 59,
   "metadata": {},
   "outputs": [
    {
     "output_type": "stream",
     "name": "stdout",
     "text": [
      "data:image/svg+xml,%3csvg%20xmlns=%27http://www.w3.org/2000/svg%27%20version=%271.1%27%20width=%27192%27%20height=%2756%27/%3e\ndata:image/gif;base64,R0lGODlhAQABAIAAAAAAAP///yH5BAEAAAAALAAAAAABAAEAAAIBRAA7\n/images/tutorials-freak-logo.svg\n/images/search.svg\ndata:image/gif;base64,R0lGODlhAQABAIAAAAAAAP///yH5BAEAAAAALAAAAAABAAEAAAIBRAA7\n/_next/image?url=%2Fimages%2Fbanner-middle.webp&w=3840&q=75\n/images/kotlin-img.svg\n/images/eagle-img.svg\n/images/apple-img.svg\n/images/angular-img.svg\n/images/python-img.svg\n/images/react-img.svg\n/images/android-img.svg\n/images/java-img.svg\ndata:image/svg+xml,%3csvg%20xmlns=%27http://www.w3.org/2000/svg%27%20version=%271.1%27%20width=%2748%27%20height=%2748%27/%3e\ndata:image/gif;base64,R0lGODlhAQABAIAAAAAAAP///yH5BAEAAAAALAAAAAABAAEAAAIBRAA7\nhttps://d20evgacl8spoj.cloudfront.net/uploads/learning-course/images/home-page/2cd6e0d7-4864-4837-a4a7-e0b120282e8d-1648197173.svg\ndata:image/svg+xml,%3csvg%20xmlns=%27http://www.w3.org/2000/svg%27%20version=%271.1%27%20width=%2748%27%20height=%2748%27/%3e\ndata:image/gif;base64,R0lGODlhAQABAIAAAAAAAP///yH5BAEAAAAALAAAAAABAAEAAAIBRAA7\nhttps://d20evgacl8spoj.cloudfront.net/uploads/learning-course/images/home-page/e5eb78ac-30fd-4443-8f23-63bd378c0c01-1645691302.svg\ndata:image/svg+xml,%3csvg%20xmlns=%27http://www.w3.org/2000/svg%27%20version=%271.1%27%20width=%2748%27%20height=%2748%27/%3e\ndata:image/gif;base64,R0lGODlhAQABAIAAAAAAAP///yH5BAEAAAAALAAAAAABAAEAAAIBRAA7\nhttps://d20evgacl8spoj.cloudfront.net/uploads/learning-course/images/home-page/7f47bf14-d748-40f4-b9a5-921b1bb4df3f-1648197078.svg\n/images/compilor.webp\ndata:image/svg+xml,%3csvg%20xmlns=%27http://www.w3.org/2000/svg%27%20version=%271.1%27%20width=%2725%27%20height=%2725%27/%3e\ndata:image/gif;base64,R0lGODlhAQABAIAAAAAAAP///yH5BAEAAAAALAAAAAABAAEAAAIBRAA7\nhttps://d20evgacl8spoj.cloudfront.net/uploads/images/study-material-compiler/f60ffd71-5b88-42f8-8396-75ad661dd4e9-1664191180.svg\ndata:image/svg+xml,%3csvg%20xmlns=%27http://www.w3.org/2000/svg%27%20version=%271.1%27%20width=%2725%27%20height=%2725%27/%3e\ndata:image/gif;base64,R0lGODlhAQABAIAAAAAAAP///yH5BAEAAAAALAAAAAABAAEAAAIBRAA7\nhttps://d20evgacl8spoj.cloudfront.net/uploads/images/study-material-compiler/b5be3eb0-8ae8-4e22-97c9-0cdcb2a250e4-1664191183.svg\ndata:image/svg+xml,%3csvg%20xmlns=%27http://www.w3.org/2000/svg%27%20version=%271.1%27%20width=%2725%27%20height=%2725%27/%3e\ndata:image/gif;base64,R0lGODlhAQABAIAAAAAAAP///yH5BAEAAAAALAAAAAABAAEAAAIBRAA7\nhttps://d20evgacl8spoj.cloudfront.net/uploads/images/study-material-compiler/329300da-2f51-419c-be8e-58262e91fac0-1664257495.svg\ndata:image/svg+xml,%3csvg%20xmlns=%27http://www.w3.org/2000/svg%27%20version=%271.1%27%20width=%2725%27%20height=%2725%27/%3e\ndata:image/gif;base64,R0lGODlhAQABAIAAAAAAAP///yH5BAEAAAAALAAAAAABAAEAAAIBRAA7\nhttps://d20evgacl8spoj.cloudfront.net/uploads/images/study-material-compiler/da172d80-2fd9-4c25-a180-5c4d7ef1b13b-1663998203.svg\ndata:image/svg+xml,%3csvg%20xmlns=%27http://www.w3.org/2000/svg%27%20version=%271.1%27%20width=%2725%27%20height=%2725%27/%3e\ndata:image/gif;base64,R0lGODlhAQABAIAAAAAAAP///yH5BAEAAAAALAAAAAABAAEAAAIBRAA7\nhttps://d20evgacl8spoj.cloudfront.net/uploads/images/study-material-compiler/ac77b308-23fd-4c41-a26c-c5df53f7e1a0-1664257491.svg\ndata:image/svg+xml,%3csvg%20xmlns=%27http://www.w3.org/2000/svg%27%20version=%271.1%27%20width=%2725%27%20height=%2725%27/%3e\ndata:image/gif;base64,R0lGODlhAQABAIAAAAAAAP///yH5BAEAAAAALAAAAAABAAEAAAIBRAA7\nhttps://d20evgacl8spoj.cloudfront.net/uploads/images/study-material-compiler/0348b25c-17b7-4ade-962b-d71fd3753814-1663998384.svg\ndata:image/svg+xml,%3csvg%20xmlns=%27http://www.w3.org/2000/svg%27%20version=%271.1%27%20width=%2725%27%20height=%2725%27/%3e\ndata:image/gif;base64,R0lGODlhAQABAIAAAAAAAP///yH5BAEAAAAALAAAAAABAAEAAAIBRAA7\nhttps://d20evgacl8spoj.cloudfront.net/uploads/images/study-material-compiler/6ead73cf-3385-44f1-a540-4f717fc7e467-1663998221.svg\nhttps://d20evgacl8spoj.cloudfront.net/uploads/learning-course/images/lcourses/861b734d-1200-4ef9-9f80-fdcbf2d5918b-1654781169.png\nhttps://d20evgacl8spoj.cloudfront.net/uploads/learning-course/images/lcourses/99334bcb-06ec-402d-8461-a1d886d97b8e-1654319072.png\nhttps://d20evgacl8spoj.cloudfront.net/uploads/learning-course/images/lcourses/28a317b0-5132-4aba-8a49-5ea970f23a49-1671862480.png\nhttps://d20evgacl8spoj.cloudfront.net/uploads/learning-course/images/lcourses/6dee8d03-5667-4b32-b483-af2b62dcd8d3-1647338788.png\nhttps://d20evgacl8spoj.cloudfront.net/uploads/learning-course/images/lcourses/7fd6b3ae-d77a-4e80-80bc-02b5b47c32df-1647346507.png\nhttps://d20evgacl8spoj.cloudfront.net/uploads/learning-course/images/lcourses/283eae7c-8974-49f2-a0a5-e0ac4c0e9215-1647338853.png\nhttps://d20evgacl8spoj.cloudfront.net/uploads/learning-course/images/lcourses/777b9062-963f-41b9-b379-dbd7e45155ac-1647341118.png\nhttps://d20evgacl8spoj.cloudfront.net/uploads/learning-course/images/lcourses/a111d660-d0b6-404b-86e1-6b729fbdc179-1683633265.png\nhttps://d20evgacl8spoj.cloudfront.net/uploads/learning-course/images/lcourses/bbbfd30a-e52d-4e03-ae5c-d76e95e7a22f-1647341152.png\nhttps://d20evgacl8spoj.cloudfront.net/uploads/learning-course/images/lcourses/1d92f6e0-6c73-4cfe-97af-6c1107cb3a81-1647346526.png\nhttps://d20evgacl8spoj.cloudfront.net/uploads/learning-course/images/lcourses/6866b1dd-63f8-4890-8575-b9694a0f2059-1647346542.png\nhttps://d20evgacl8spoj.cloudfront.net/uploads/learning-course/images/lcourses/6f00770a-cf1d-44e6-b68b-a6cbce05d35c-1647341196.png\nhttps://d20evgacl8spoj.cloudfront.net/uploads/learning-course/images/lcourses/6809478b-e2d9-40c4-bd9b-49af619fe51d-1647341184.png\nhttps://d20evgacl8spoj.cloudfront.net/uploads/learning-course/images/lcourses/6dee8d03-5667-4b32-b483-af2b62dcd8d3-1647338788.png\nhttps://d20evgacl8spoj.cloudfront.net/uploads/learning-course/images/lcourses/7fd6b3ae-d77a-4e80-80bc-02b5b47c32df-1647346507.png\nhttps://d20evgacl8spoj.cloudfront.net/uploads/learning-course/images/lcourses/283eae7c-8974-49f2-a0a5-e0ac4c0e9215-1647338853.png\nhttps://d20evgacl8spoj.cloudfront.net/uploads/learning-course/images/lcourses/bbbfd30a-e52d-4e03-ae5c-d76e95e7a22f-1647341152.png\nhttps://d20evgacl8spoj.cloudfront.net/uploads/learning-course/images/lcourses/1d92f6e0-6c73-4cfe-97af-6c1107cb3a81-1647346526.png\nhttps://d20evgacl8spoj.cloudfront.net/uploads/learning-course/images/lcourses/6866b1dd-63f8-4890-8575-b9694a0f2059-1647346542.png\nhttps://d20evgacl8spoj.cloudfront.net/uploads/learning-course/images/lcourses/2abdc9df-3185-46bb-8d15-48f957251183-1698927883.png\nhttps://d20evgacl8spoj.cloudfront.net/uploads/learning-course/images/lcourses/a111d660-d0b6-404b-86e1-6b729fbdc179-1683633265.png\nhttps://d20evgacl8spoj.cloudfront.net/uploads/learning-course/images/lcourses/bbbfd30a-e52d-4e03-ae5c-d76e95e7a22f-1647341152.png\n/images/ws-cube-tech-logo.svg\nhttps://d20evgacl8spoj.cloudfront.net/uploads/images/live-course/efd015c2-41c7-4a6b-a070-0f703772b6b4-1706854302.jpg\nhttps://d20evgacl8spoj.cloudfront.net/uploads/images/live-course/15bc3a4a-e684-45b9-b22a-d156711f1505-1706854288.jpg\nhttps://d20evgacl8spoj.cloudfront.net/uploads/images/live-course/3bc94ced-cf7a-4d08-9a65-581c38fb14c2-1706854314.jpg\nhttps://d20evgacl8spoj.cloudfront.net/uploads/images/live-course/60d7ca0f-7dc9-4d96-a9b5-155fd32ebda8-1706854405.jpg\nhttps://d20evgacl8spoj.cloudfront.net/uploads/images/live-course/948a0a2c-3199-44b3-a1c2-be41e5c5c3e1-1706854606.jpg\nhttps://d20evgacl8spoj.cloudfront.net/uploads/images/live-course/34497f12-312c-4827-8dae-7d7914314e74-1706854737.jpg\n/images/play-store.png\nhttps://d20evgacl8spoj.cloudfront.net/uploads/learning-course/images/home-page/3d2ca30d-f3bd-45b7-aae5-2c547e2a35a2-1690631574.webp\ndata:image/svg+xml,%3csvg%20xmlns=%27http://www.w3.org/2000/svg%27%20version=%271.1%27%20width=%27192%27%20height=%2756%27/%3e\ndata:image/gif;base64,R0lGODlhAQABAIAAAAAAAP///yH5BAEAAAAALAAAAAABAAEAAAIBRAA7\n/images/tutorials-freak-logo.svg\n"
     ]
    }
   ],
   "source": [
    "for i in images:\n",
    "    print(i.get(\"src\"))"
   ]
  },
  {
   "cell_type": "code",
   "execution_count": 60,
   "metadata": {},
   "outputs": [
    {
     "output_type": "stream",
     "name": "stdout",
     "text": [
      "\nLogo-Img\nLogo-Img\nSerch-Img\nBanner-Img\nBanner-Img\nCourse-Img\nCourse-Img\nCourse-Img\nCourse-Img\nCourse-Img\nCourse-Img\nCourse-Img\nCourse-Img\n\nWhy-Choose-Img\nWhy-Choose-Img\n\nWhy-Choose-Img\nWhy-Choose-Img\n\nWhy-Choose-Img\nWhy-Choose-Img\n\n\ncompiler-img\ncompiler-img\n\ncompiler-img\ncompiler-img\n\ncompiler-img\ncompiler-img\n\ncompiler-img\ncompiler-img\n\ncompiler-img\ncompiler-img\n\ncompiler-img\ncompiler-img\n\ncompiler-img\ncompiler-img\nhttps://d20evgacl8spoj.cloudfront.net/uploads/learning-course/images/lcourses/861b734d-1200-4ef9-9f80-fdcbf2d5918b-1654781169.png\nhttps://d20evgacl8spoj.cloudfront.net/uploads/learning-course/images/lcourses/99334bcb-06ec-402d-8461-a1d886d97b8e-1654319072.png\nhttps://d20evgacl8spoj.cloudfront.net/uploads/learning-course/images/lcourses/28a317b0-5132-4aba-8a49-5ea970f23a49-1671862480.png\nhttps://d20evgacl8spoj.cloudfront.net/uploads/learning-course/images/lcourses/6dee8d03-5667-4b32-b483-af2b62dcd8d3-1647338788.png\nhttps://d20evgacl8spoj.cloudfront.net/uploads/learning-course/images/lcourses/7fd6b3ae-d77a-4e80-80bc-02b5b47c32df-1647346507.png\nhttps://d20evgacl8spoj.cloudfront.net/uploads/learning-course/images/lcourses/283eae7c-8974-49f2-a0a5-e0ac4c0e9215-1647338853.png\nhttps://d20evgacl8spoj.cloudfront.net/uploads/learning-course/images/lcourses/777b9062-963f-41b9-b379-dbd7e45155ac-1647341118.png\nhttps://d20evgacl8spoj.cloudfront.net/uploads/learning-course/images/lcourses/a111d660-d0b6-404b-86e1-6b729fbdc179-1683633265.png\nhttps://d20evgacl8spoj.cloudfront.net/uploads/learning-course/images/lcourses/bbbfd30a-e52d-4e03-ae5c-d76e95e7a22f-1647341152.png\nhttps://d20evgacl8spoj.cloudfront.net/uploads/learning-course/images/lcourses/1d92f6e0-6c73-4cfe-97af-6c1107cb3a81-1647346526.png\nhttps://d20evgacl8spoj.cloudfront.net/uploads/learning-course/images/lcourses/6866b1dd-63f8-4890-8575-b9694a0f2059-1647346542.png\nhttps://d20evgacl8spoj.cloudfront.net/uploads/learning-course/images/lcourses/6f00770a-cf1d-44e6-b68b-a6cbce05d35c-1647341196.png\nhttps://d20evgacl8spoj.cloudfront.net/uploads/learning-course/images/lcourses/6809478b-e2d9-40c4-bd9b-49af619fe51d-1647341184.png\nhttps://d20evgacl8spoj.cloudfront.net/uploads/learning-course/images/lcourses/6dee8d03-5667-4b32-b483-af2b62dcd8d3-1647338788.png\nhttps://d20evgacl8spoj.cloudfront.net/uploads/learning-course/images/lcourses/7fd6b3ae-d77a-4e80-80bc-02b5b47c32df-1647346507.png\nhttps://d20evgacl8spoj.cloudfront.net/uploads/learning-course/images/lcourses/283eae7c-8974-49f2-a0a5-e0ac4c0e9215-1647338853.png\nhttps://d20evgacl8spoj.cloudfront.net/uploads/learning-course/images/lcourses/bbbfd30a-e52d-4e03-ae5c-d76e95e7a22f-1647341152.png\nhttps://d20evgacl8spoj.cloudfront.net/uploads/learning-course/images/lcourses/1d92f6e0-6c73-4cfe-97af-6c1107cb3a81-1647346526.png\nhttps://d20evgacl8spoj.cloudfront.net/uploads/learning-course/images/lcourses/6866b1dd-63f8-4890-8575-b9694a0f2059-1647346542.png\nhttps://d20evgacl8spoj.cloudfront.net/uploads/learning-course/images/lcourses/2abdc9df-3185-46bb-8d15-48f957251183-1698927883.png\nhttps://d20evgacl8spoj.cloudfront.net/uploads/learning-course/images/lcourses/a111d660-d0b6-404b-86e1-6b729fbdc179-1683633265.png\nhttps://d20evgacl8spoj.cloudfront.net/uploads/learning-course/images/lcourses/bbbfd30a-e52d-4e03-ae5c-d76e95e7a22f-1647341152.png\nNone\nNone\nNone\nNone\nNone\nNone\nNone\nGoogle-Play-Img\nPhone-Img\n\nLogo-Img\nLogo-Img\n"
     ]
    }
   ],
   "source": [
    "for i in images:\n",
    "    print(i.get(\"alt\"))"
   ]
  },
  {
   "cell_type": "code",
   "execution_count": 1,
   "metadata": {},
   "outputs": [],
   "source": [
    "import requests\n",
    "from bs4 import BeautifulSoup\n",
    "url=(\"https://www.w3schools.com/python/numpy/default.asp\")\n",
    "response=requests.get(url)\n",
    "soup=BeautifulSoup(response.content,\"html.parser\")\n",
    "soup.prettify()\n",
    "data=soup.find(\"div\",id=\"wrappercontainer\")"
   ]
  },
  {
   "cell_type": "code",
   "execution_count": 2,
   "metadata": {},
   "outputs": [
    {
     "output_type": "stream",
     "name": "stdout",
     "text": [
      "\n\n\n\n\n\n\n\n\n\n\nPLUS\nSPACES\nGET CERTIFIED\nFOR TEACHERS\nFOR BUSINESS\nCONTACT US\n\n\n\n×\nContact Sales\nIf you want to use W3Schools services as an educational institution, team or enterprise, send us an e-mail:sales@w3schools.com\nReport Error\nIf you want to report an error, or if you want to make a suggestion, send us an e-mail:help@w3schools.com\n\n\n\nTop Tutorials\nHTML Tutorial\nCSS Tutorial\nJavaScript Tutorial\nHow To Tutorial\nSQL Tutorial\nPython Tutorial\nW3.CSS Tutorial\nBootstrap Tutorial\nPHP Tutorial\nJava Tutorial\nC++ Tutorial\njQuery Tutorial\n\n\nTop References\nHTML Reference\nCSS Reference\nJavaScript Reference\nSQL Reference\nPython Reference\nW3.CSS Reference\nBootstrap Reference\nPHP Reference\nHTML Colors\nJava Reference\nAngular Reference\njQuery Reference\n\n\nTop Examples\nHTML Examples\nCSS Examples\nJavaScript Examples\nHow To Examples\nSQL Examples\nPython Examples\nW3.CSS Examples\nBootstrap Examples\nPHP Examples\nJava Examples\nXML Examples\njQuery Examples\n\n\nGet Certified\nHTML Certificate\nCSS Certificate\nJavaScript Certificate\nFront End Certificate\nSQL Certificate\nPython Certificate\nPHP Certificate\njQuery Certificate\nJava Certificate\nC++ Certificate\nC# Certificate\nXML Certificate\n\n\n\n\n\n\n\n\n\nFORUM\nABOUT\nACADEMY\n\n\nW3Schools is optimized for learning and training. Examples might be simplified to improve reading and learning.\nTutorials, references, and examples are constantly reviewed to avoid errors, but we cannot warrant full correctness\nof all content. While using W3Schools, you agree to have read and accepted our terms of use, \ncookie and privacy policy.\nCopyright 1999-2025 by Refsnes Data. All Rights Reserved.\nW3Schools is Powered by W3.CSS.\n\n\n\n\n"
     ]
    }
   ],
   "source": [
    "print(data.text)"
   ]
  },
  {
   "cell_type": "code",
   "execution_count": 7,
   "metadata": {},
   "outputs": [
    {
     "output_type": "stream",
     "name": "stdout",
     "text": [
      "Tutorials\nExercises\nCertificates\nAll Our Services\nNumPy Tutorial\nNumPy Random\nNumPy ufunc\nQuiz/Exercises\nLearn NumPy\nLearning by Reading\nLearning by Examples\nLearning by Exercises\nLearning by Quiz Test\nContact Sales\nReport Error\n"
     ]
    }
   ],
   "source": [
    "x=soup.find_all(\"h2\")\n",
    "for i in x:\n",
    "    print(i.text)"
   ]
  },
  {
   "cell_type": "code",
   "execution_count": 15,
   "metadata": {},
   "outputs": [
    {
     "output_type": "stream",
     "name": "stdout",
     "text": [
      "<div class=\"w3-col l2 m12\" id=\"right\">\n<div class=\"sidesection\">\n<div id=\"skyscraper\">\n</div>\n</div>\n<style>\n.ribbon-vid {\n  font-size:12px;\n  font-weight:bold;\n  padding: 6px 20px;\n  left:-20px;\n  top:-10px;\n  text-align: center;\n  color:black;\n  border-radius:25px;\n}\n</style>\n<div class=\"sidesection\" style=\"margin-top:20px;margin-bottom:20px;\">\n<a class=\"ga-right ga-top-fa-25\" href=\"https://campus.w3schools.com/products/w3schools-full-access-course\" id=\"upperfeatureshowcaselink\" target=\"_blank\">\n<picture id=\"upperfeatureshowcase\">\n<source id=\"upperfeatureshowcase3001\" media=\"(max-width: 990px)\" srcset=\"/images/img_fa_up_300.webp\" style=\"border-radius: 5px;\"/>\n<source id=\"upperfeatureshowcase120\" media=\"(max-width: 1260px)\" srcset=\"/images/img_fa_up_120.webp\" style=\"border-radius: 5px;\"/>\n<source id=\"upperfeatureshowcase160\" media=\"(max-width: 1700px)\" srcset=\"/images/img_fa_up_160.webp\" style=\"border-radius: 5px;\"/>\n<img alt=\"Get Certified\" id=\"upperfeatureshowcase300\" loading=\"lazy\" src=\"/images/img_fa_up_300.png\" style=\"width:auto;border-radius: 5px;\"/>\n</picture>\n</a>\n</div>\n<div class=\"sidesection\">\n<h4><a href=\"/colors/colors_picker.asp\">COLOR PICKER</a></h4>\n<a class=\"ga-right\" href=\"/colors/colors_picker.asp\">\n<picture>\n<source srcset=\"/images/colorpicker2000.webp\" type=\"image/webp\"/>\n<img alt=\"colorpicker\" loading=\"lazy\" src=\"/images/colorpicker2000.png\"/>\n</picture>\n</a>\n</div>\n<div class=\"sidesection\">\n<div class=\"sharethis\">\n<a href=\"https://www.youtube.com/@w3schools\" target=\"_blank\" title=\"W3Schools on YouTube\"><span class=\"fa fa-youtube fa-2x ga-right w3-hover-text-red\"></span></a>\n<a href=\"https://www.linkedin.com/company/w3schools.com/\" target=\"_blank\" title=\"W3Schools on LinkedIn\"><span class=\"fa fa-linkedin-square fa-2x ga-right\"></span></a>\n<a href=\"https://discord.com/invite/w3schools\" target=\"_blank\" title=\"Join the W3schools community on Discord\"><span class=\"fa fa-discord fa-2x ga-right\"></span></a>\n<a href=\"https://www.facebook.com/w3schoolscom/\" target=\"_blank\" title=\"W3Schools on Facebook\"><span class=\"fa fa-facebook-square fa-2x ga-right\"></span></a>\n<a href=\"https://www.instagram.com/w3schools.com_official/\" target=\"_blank\" title=\"W3Schools on Instagram\"><span class=\"fa fa-instagram fa-2x ga-right\"></span></a>\n</div>\n</div>\n<div class=\"sidesection\" id=\"vidpos\" style=\"text-align:center;margin-bottom:0;height:0;\">\n</div>\n<div class=\"sidesection\" id=\"stickypos\" style=\"text-align:center;position:sticky;top:50px;\">\n<div id=\"stickyadcontainer\">\n<div style=\"position:relative;margin:auto;\">\n</div>\n</div>\n</div>\n</div>\n\n\n\n\n\n"
     ]
    }
   ],
   "source": [
    "import requests\n",
    "from bs4 import BeautifulSoup\n",
    "response=requests.get(\"https://www.w3schools.com/python/numpy/default.asp\")\n",
    "soup=BeautifulSoup(response.content,\"html.parser\")\n",
    "soup.prettify()\n",
    "data1 = soup.find(\"div\", class_=\"w3-col l2 m12\")\n",
    "print(data1)\n",
    "\n",
    "# Check if data1 is found\n",
    "if data1:\n",
    "    # Find all <span> elements inside the div\n",
    "    spans = data1.find_all(\"span\")\n",
    "    \n",
    "    # Iterate over found span elements and print their text\n",
    "    for span in spans:\n",
    "        print(span.text)\n",
    "else:\n",
    "    print(\"No matching <div> found.\")"
   ]
  },
  {
   "cell_type": "code",
   "execution_count": 16,
   "metadata": {},
   "outputs": [
    {
     "output_type": "stream",
     "name": "stdout",
     "text": [
      "['', '', '', '', '']\n"
     ]
    }
   ],
   "source": [
    "if data1:\n",
    "    print([span.text for span in data1.find_all(\"span\")])\n"
   ]
  },
  {
   "cell_type": "code",
   "execution_count": 19,
   "metadata": {},
   "outputs": [
    {
     "output_type": "stream",
     "name": "stdout",
     "text": [
      "✅ Data saved to books.csv\n"
     ]
    }
   ],
   "source": [
    "import requests\n",
    "from bs4 import BeautifulSoup\n",
    "import pandas as pd\n",
    "\n",
    "# Define URL\n",
    "url = \"https://books.toscrape.com/\"\n",
    "\n",
    "# Send GET request\n",
    "response = requests.get(url)\n",
    "soup = BeautifulSoup(response.text, \"html.parser\")\n",
    "\n",
    "# Find all product containers\n",
    "books = soup.find_all(\"article\", class_=\"product_pod\")\n",
    "\n",
    "# Create separate lists for titles and prices\n",
    "titles = []\n",
    "prices = []\n",
    "\n",
    "# Loop through each book and store data\n",
    "for book in books:\n",
    "    title = book.h3.a[\"title\"]\n",
    "    price = book.find(\"p\", class_=\"price_color\").text\n",
    "    \n",
    "    titles.append(title)  # Add to titles list\n",
    "    prices.append(price)  # Add to prices list\n",
    "\n",
    "# Convert to DataFrame\n",
    "df = pd.DataFrame({\"Title\": titles, \"Price\": prices})\n",
    "\n",
    "# Save to CSV\n",
    "df.to_csv(\"books.csv\", index=False)\n",
    "\n",
    "print(\"✅ Data saved to books.csv\")\n"
   ]
  },
  {
   "cell_type": "code",
   "execution_count": 22,
   "metadata": {},
   "outputs": [],
   "source": [
    "df = pd.read_csv(\"books.csv\")\n"
   ]
  },
  {
   "cell_type": "code",
   "execution_count": 24,
   "metadata": {},
   "outputs": [
    {
     "output_type": "execute_result",
     "data": {
      "text/plain": [
       "                                                Title    Price\n",
       "0                                A Light in the Attic  Â£51.77\n",
       "1                                  Tipping the Velvet  Â£53.74\n",
       "2                                          Soumission  Â£50.10\n",
       "3                                       Sharp Objects  Â£47.82\n",
       "4               Sapiens: A Brief History of Humankind  Â£54.23\n",
       "5                                     The Requiem Red  Â£22.65\n",
       "6   The Dirty Little Secrets of Getting Your Dream...  Â£33.34\n",
       "7   The Coming Woman: A Novel Based on the Life of...  Â£17.93\n",
       "8   The Boys in the Boat: Nine Americans and Their...  Â£22.60\n",
       "9                                     The Black Maria  Â£52.15\n",
       "10     Starving Hearts (Triangular Trade Trilogy, #1)  Â£13.99\n",
       "11                              Shakespeare's Sonnets  Â£20.66\n",
       "12                                        Set Me Free  Â£17.46\n",
       "13  Scott Pilgrim's Precious Little Life (Scott Pi...  Â£52.29\n",
       "14                          Rip it Up and Start Again  Â£35.02\n",
       "15  Our Band Could Be Your Life: Scenes from the A...  Â£57.25\n",
       "16                                               Olio  Â£23.88\n",
       "17  Mesaerion: The Best Science Fiction Stories 18...  Â£37.59\n",
       "18                       Libertarianism for Beginners  Â£51.33\n",
       "19                            It's Only the Himalayas  Â£45.17"
      ],
      "text/html": "<div>\n<style scoped>\n    .dataframe tbody tr th:only-of-type {\n        vertical-align: middle;\n    }\n\n    .dataframe tbody tr th {\n        vertical-align: top;\n    }\n\n    .dataframe thead th {\n        text-align: right;\n    }\n</style>\n<table border=\"1\" class=\"dataframe\">\n  <thead>\n    <tr style=\"text-align: right;\">\n      <th></th>\n      <th>Title</th>\n      <th>Price</th>\n    </tr>\n  </thead>\n  <tbody>\n    <tr>\n      <th>0</th>\n      <td>A Light in the Attic</td>\n      <td>Â£51.77</td>\n    </tr>\n    <tr>\n      <th>1</th>\n      <td>Tipping the Velvet</td>\n      <td>Â£53.74</td>\n    </tr>\n    <tr>\n      <th>2</th>\n      <td>Soumission</td>\n      <td>Â£50.10</td>\n    </tr>\n    <tr>\n      <th>3</th>\n      <td>Sharp Objects</td>\n      <td>Â£47.82</td>\n    </tr>\n    <tr>\n      <th>4</th>\n      <td>Sapiens: A Brief History of Humankind</td>\n      <td>Â£54.23</td>\n    </tr>\n    <tr>\n      <th>5</th>\n      <td>The Requiem Red</td>\n      <td>Â£22.65</td>\n    </tr>\n    <tr>\n      <th>6</th>\n      <td>The Dirty Little Secrets of Getting Your Dream...</td>\n      <td>Â£33.34</td>\n    </tr>\n    <tr>\n      <th>7</th>\n      <td>The Coming Woman: A Novel Based on the Life of...</td>\n      <td>Â£17.93</td>\n    </tr>\n    <tr>\n      <th>8</th>\n      <td>The Boys in the Boat: Nine Americans and Their...</td>\n      <td>Â£22.60</td>\n    </tr>\n    <tr>\n      <th>9</th>\n      <td>The Black Maria</td>\n      <td>Â£52.15</td>\n    </tr>\n    <tr>\n      <th>10</th>\n      <td>Starving Hearts (Triangular Trade Trilogy, #1)</td>\n      <td>Â£13.99</td>\n    </tr>\n    <tr>\n      <th>11</th>\n      <td>Shakespeare's Sonnets</td>\n      <td>Â£20.66</td>\n    </tr>\n    <tr>\n      <th>12</th>\n      <td>Set Me Free</td>\n      <td>Â£17.46</td>\n    </tr>\n    <tr>\n      <th>13</th>\n      <td>Scott Pilgrim's Precious Little Life (Scott Pi...</td>\n      <td>Â£52.29</td>\n    </tr>\n    <tr>\n      <th>14</th>\n      <td>Rip it Up and Start Again</td>\n      <td>Â£35.02</td>\n    </tr>\n    <tr>\n      <th>15</th>\n      <td>Our Band Could Be Your Life: Scenes from the A...</td>\n      <td>Â£57.25</td>\n    </tr>\n    <tr>\n      <th>16</th>\n      <td>Olio</td>\n      <td>Â£23.88</td>\n    </tr>\n    <tr>\n      <th>17</th>\n      <td>Mesaerion: The Best Science Fiction Stories 18...</td>\n      <td>Â£37.59</td>\n    </tr>\n    <tr>\n      <th>18</th>\n      <td>Libertarianism for Beginners</td>\n      <td>Â£51.33</td>\n    </tr>\n    <tr>\n      <th>19</th>\n      <td>It's Only the Himalayas</td>\n      <td>Â£45.17</td>\n    </tr>\n  </tbody>\n</table>\n</div>"
     },
     "metadata": {},
     "execution_count": 24
    }
   ],
   "source": [
    "df"
   ]
  },
  {
   "cell_type": "code",
   "execution_count": null,
   "metadata": {},
   "outputs": [],
   "source": []
  }
 ]
}
