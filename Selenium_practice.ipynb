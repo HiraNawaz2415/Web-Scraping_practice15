{
 "metadata": {
  "language_info": {
   "codemirror_mode": {
    "name": "ipython",
    "version": 3
   },
   "file_extension": ".py",
   "mimetype": "text/x-python",
   "name": "python",
   "nbconvert_exporter": "python",
   "pygments_lexer": "ipython3",
   "version": "3.12.2-final"
  },
  "orig_nbformat": 2,
  "kernelspec": {
   "name": "python3",
   "display_name": "Python 3.12.2 64-bit",
   "metadata": {
    "interpreter": {
     "hash": "d6ca1284c7bd7ae5870c8ab738ede617c834b0c6d27e733d7d2a522b2e1e0f98"
    }
   }
  }
 },
 "nbformat": 4,
 "nbformat_minor": 2,
 "cells": [
  {
   "cell_type": "code",
   "execution_count": 7,
   "metadata": {},
   "outputs": [],
   "source": [
    "from selenium import webdriver\n",
    "\n",
    "# Create a new Chrome browser window\n",
    "driver = webdriver.Chrome()\n",
    "\n",
    "# Open Google\n",
    "driver.get(\"https://www.google.com\")\n",
    "\n",
    "# Close the browser after 5 seconds\n",
    "import time\n",
    "time.sleep(5)\n",
    "driver.quit()\n"
   ]
  },
  {
   "source": [
    "## 🔍 Searching Something on Google"
   ],
   "cell_type": "markdown",
   "metadata": {}
  },
  {
   "cell_type": "code",
   "execution_count": 11,
   "metadata": {},
   "outputs": [],
   "source": [
    "from selenium import webdriver\n",
    "from selenium import webdriver\n",
    "from selenium.webdriver.common.by import By\n",
    "import time\n",
    "\n",
    "\n",
    "\n",
    "# Launch Chrome\n",
    "driver = webdriver.Chrome()\n",
    "\n",
    "# Open a website\n",
    "driver.get(\"https://www.google.com\")\n",
    "\n",
    "# Find the search box using name attribute\n",
    "search_box = driver.find_element(By.NAME, \"q\")\n",
    "\n",
    "# Type in the search box\n",
    "search_box.send_keys(\"Selenium Python\")\n",
    "\n",
    "# Submit the form\n",
    "search_box.submit()\n",
    "\n",
    "# Wait to see results\n",
    "time.sleep(3)\n",
    "\n",
    "# Close the browser\n",
    "driver.quit()\n"
   ]
  },
  {
   "cell_type": "code",
   "execution_count": 4,
   "metadata": {},
   "outputs": [
    {
     "output_type": "stream",
     "name": "stdout",
     "text": [
      "135.0.7049.84 (6c019e56001911b3fd467e03bf68c435924d62f4-refs/branch-heads/7049@{#1778})\n"
     ]
    }
   ],
   "source": [
    "from selenium import webdriver\n",
    "\n",
    "driver = webdriver.Chrome()\n",
    "print(driver.capabilities['chrome']['chromedriverVersion'])\n",
    "driver.quit()\n",
    "\n"
   ]
  },
  {
   "source": [
    "## Clicking a button Example"
   ],
   "cell_type": "markdown",
   "metadata": {}
  },
  {
   "cell_type": "code",
   "execution_count": 16,
   "metadata": {},
   "outputs": [],
   "source": [
    "from selenium import webdriver\n",
    "from selenium.webdriver.common.by import By\n",
    "import time\n",
    "\n",
    "# Start Chrome\n",
    "driver = webdriver.Chrome()\n",
    "\n",
    "# Open the page\n",
    "driver.get(\"https://www.w3schools.com/html/html_forms.asp\")\n",
    "\n",
    "time.sleep(3)  # wait for the page to load\n",
    "\n",
    "try:\n",
    "    # Click the \"Try it Yourself\" button\n",
    "    try_it_button = driver.find_element(By.LINK_TEXT, \"Try it Yourself »\")\n",
    "    try_it_button.click()\n",
    "\n",
    "    time.sleep(5)  # wait to see the new tab or page\n",
    "\n",
    "except Exception as e:\n",
    "    print(\"Error:\", e)\n",
    "\n",
    "finally:\n",
    "    driver.quit()  # close at the end, not before\n",
    "\n"
   ]
  },
  {
   "source": [
    "## Filling out a form example"
   ],
   "cell_type": "markdown",
   "metadata": {}
  },
  {
   "cell_type": "code",
   "execution_count": 15,
   "metadata": {},
   "outputs": [],
   "source": [
    "from selenium import webdriver\n",
    "from selenium.webdriver.common.by import By\n",
    "import time\n",
    "\n",
    "driver = webdriver.Chrome()\n",
    "driver.get(\"https://www.w3schools.com/html/html_forms.asp\")\n",
    "\n",
    "first_name = driver.find_element(By.ID, \"fname\")\n",
    "first_name.clear()\n",
    "first_name.send_keys(\"Hira\")\n",
    "\n",
    "last_name = driver.find_element(By.ID, \"lname\")\n",
    "last_name.clear()\n",
    "last_name.send_keys(\"Nawaz\")\n",
    "\n",
    "time.sleep(5)\n",
    "driver.quit()\n"
   ]
  },
  {
   "source": [
    "## Wait for Elements Using WebDriverWait\n",
    " <h5>Sometimes elements take time to load, so instead of time.sleep(), we use explicit waits with WebDriverWait.</h5>"
   ],
   "cell_type": "markdown",
   "metadata": {}
  },
  {
   "cell_type": "code",
   "execution_count": 17,
   "metadata": {},
   "outputs": [],
   "source": [
    "from selenium import webdriver\n",
    "from selenium.webdriver.common.by import By\n",
    "from selenium.webdriver.support.ui import WebDriverWait\n",
    "from selenium.webdriver.support import expected_conditions as EC\n",
    "\n",
    "driver = webdriver.Chrome()\n",
    "driver.get(\"https://www.google.com\")\n",
    "\n",
    "# Wait for the search box to appear (up to 10 seconds)\n",
    "search_box = WebDriverWait(driver, 10).until(\n",
    "    EC.presence_of_element_located((By.NAME, \"q\"))\n",
    ")\n",
    "search_box.send_keys(\"Selenium WebDriverWait\")\n",
    "search_box.submit()\n",
    "\n",
    "driver.quit()\n"
   ]
  },
  {
   "source": [
    "## Handle Alerts/Popups"
   ],
   "cell_type": "markdown",
   "metadata": {}
  },
  {
   "cell_type": "code",
   "execution_count": 18,
   "metadata": {},
   "outputs": [
    {
     "output_type": "stream",
     "name": "stdout",
     "text": [
      "Alert text: I am a JS Alert\n"
     ]
    }
   ],
   "source": [
    "from selenium import webdriver\n",
    "import time\n",
    "\n",
    "driver = webdriver.Chrome()\n",
    "driver.get(\"https://the-internet.herokuapp.com/javascript_alerts\")\n",
    "\n",
    "# Click the alert button\n",
    "driver.find_element(By.XPATH, \"//button[text()='Click for JS Alert']\").click()\n",
    "\n",
    "# Switch to alert\n",
    "alert = driver.switch_to.alert\n",
    "print(\"Alert text:\", alert.text)\n",
    "alert.accept()  # or alert.dismiss()\n",
    "\n",
    "time.sleep(2)\n",
    "driver.quit()\n"
   ]
  },
  {
   "source": [
    "## Try Scraping a Website"
   ],
   "cell_type": "markdown",
   "metadata": {}
  },
  {
   "cell_type": "code",
   "execution_count": 19,
   "metadata": {},
   "outputs": [
    {
     "output_type": "stream",
     "name": "stdout",
     "text": [
      "“The world as we have created it is a process of our thinking. It cannot be changed without changing our thinking.” — Albert Einstein\n",
      "“It is our choices, Harry, that show what we truly are, far more than our abilities.” — J.K. Rowling\n",
      "“There are only two ways to live your life. One is as though nothing is a miracle. The other is as though everything is a miracle.” — Albert Einstein\n",
      "“The person, be it gentleman or lady, who has not pleasure in a good novel, must be intolerably stupid.” — Jane Austen\n",
      "“Imperfection is beauty, madness is genius and it's better to be absolutely ridiculous than absolutely boring.” — Marilyn Monroe\n",
      "“Try not to become a man of success. Rather become a man of value.” — Albert Einstein\n",
      "“It is better to be hated for what you are than to be loved for what you are not.” — André Gide\n",
      "“I have not failed. I've just found 10,000 ways that won't work.” — Thomas A. Edison\n",
      "“A woman is like a tea bag; you never know how strong it is until it's in hot water.” — Eleanor Roosevelt\n",
      "“A day without sunshine is like, you know, night.” — Steve Martin\n"
     ]
    }
   ],
   "source": [
    "from selenium import webdriver\n",
    "from selenium.webdriver.common.by import By\n",
    "import time\n",
    "\n",
    "driver = webdriver.Chrome()\n",
    "driver.get(\"http://quotes.toscrape.com\")\n",
    "\n",
    "quotes = driver.find_elements(By.CLASS_NAME, \"text\")\n",
    "authors = driver.find_elements(By.CLASS_NAME, \"author\")\n",
    "\n",
    "for i in range(len(quotes)):\n",
    "    print(f\"{quotes[i].text} — {authors[i].text}\")\n",
    "\n",
    "time.sleep(2)\n",
    "driver.quit()\n"
   ]
  },
  {
   "source": [
    "## Build a Test Case for Login (Demo)\n",
    "<h4>Let’s use a demo login page: https://the-internet.herokuapp.com/login</h4>\n"
   ],
   "cell_type": "markdown",
   "metadata": {}
  },
  {
   "cell_type": "code",
   "execution_count": 20,
   "metadata": {},
   "outputs": [
    {
     "output_type": "stream",
     "name": "stdout",
     "text": [
      "Login message: You logged into a secure area!\n×\n"
     ]
    }
   ],
   "source": [
    "from selenium import webdriver\n",
    "from selenium.webdriver.common.by import By\n",
    "import time\n",
    "\n",
    "driver = webdriver.Chrome()\n",
    "driver.get(\"https://the-internet.herokuapp.com/login\")\n",
    "\n",
    "driver.find_element(By.ID, \"username\").send_keys(\"tomsmith\")\n",
    "driver.find_element(By.ID, \"password\").send_keys(\"SuperSecretPassword!\")\n",
    "driver.find_element(By.XPATH, \"//button[@type='submit']\").click()\n",
    "\n",
    "# Wait and verify login success\n",
    "time.sleep(3)\n",
    "message = driver.find_element(By.ID, \"flash\").text\n",
    "print(\"Login message:\", message)\n",
    "\n",
    "driver.quit()\n"
   ]
  },
  {
   "cell_type": "code",
   "execution_count": 22,
   "metadata": {},
   "outputs": [
    {
     "output_type": "stream",
     "name": "stdout",
     "text": [
      "Extracted 360 comments.\nComments saved to youtube_comments.csv\n"
     ]
    }
   ],
   "source": [
    "from selenium import webdriver\n",
    "from selenium.webdriver.common.by import By\n",
    "from selenium.webdriver.support.ui import WebDriverWait\n",
    "from selenium.webdriver.support import expected_conditions as EC\n",
    "import time\n",
    "import csv\n",
    "\n",
    "# Setup WebDriver with optional headless mode\n",
    "chrome_options = webdriver.ChromeOptions()\n",
    "# chrome_options.add_argument(\"--headless\")\n",
    "driver = webdriver.Chrome(options=chrome_options)\n",
    "\n",
    "video_url = \"https://youtu.be/EarxkHbpWQE?si=b0RhYzRkxUEBlEM_\"\n",
    "driver.get(video_url)\n",
    "\n",
    "# Let the initial page content load\n",
    "time.sleep(5)\n",
    "\n",
    "# Optionally, scroll to the comments section if identifiable\n",
    "try:\n",
    "    comments_section = driver.find_element(By.CSS_SELECTOR, \"#comments\")\n",
    "    driver.execute_script(\"arguments[0].scrollIntoView();\", comments_section)\n",
    "    time.sleep(2)\n",
    "except Exception as e:\n",
    "    print(\"Could not locate comments section header:\", e)\n",
    "\n",
    "# Scroll down repeatedly to load more comments\n",
    "def scroll_down(driver, pause_time=2, max_scrolls=20):\n",
    "    last_height = driver.execute_script(\"return document.documentElement.scrollHeight\")\n",
    "    for _ in range(max_scrolls):\n",
    "        driver.execute_script(\"window.scrollTo(0, document.documentElement.scrollHeight);\")\n",
    "        time.sleep(pause_time)\n",
    "        new_height = driver.execute_script(\"return document.documentElement.scrollHeight\")\n",
    "        if new_height == last_height:\n",
    "            break\n",
    "        last_height = new_height\n",
    "\n",
    "scroll_down(driver, pause_time=2, max_scrolls=20)\n",
    "\n",
    "# Increase waiting period to account for slow loading\n",
    "try:\n",
    "    WebDriverWait(driver, 30).until(\n",
    "        EC.presence_of_element_located((By.CSS_SELECTOR, \"ytd-comment-thread-renderer\"))\n",
    "    )\n",
    "except Exception as e:\n",
    "    print(\"Timeout waiting for comment elements:\", e)\n",
    "\n",
    "# Extract comments\n",
    "comment_elements = driver.find_elements(By.CSS_SELECTOR, \"ytd-comment-thread-renderer\")\n",
    "comments = []\n",
    "for element in comment_elements:\n",
    "    try:\n",
    "        comment_text = element.find_element(By.CSS_SELECTOR, \"#content-text\").text\n",
    "        comments.append(comment_text)\n",
    "    except Exception as e:\n",
    "        print(\"Error extracting a comment:\", e)\n",
    "\n",
    "print(f\"Extracted {len(comments)} comments.\")\n",
    "\n",
    "# Save comments to CSV file\n",
    "csv_file = \"youtube_comments.csv\"\n",
    "with open(csv_file, \"w\", newline=\"\", encoding=\"utf-8\") as file:\n",
    "    writer = csv.writer(file)\n",
    "    writer.writerow([\"Comment\"])\n",
    "    for comment in comments:\n",
    "        writer.writerow([comment])\n",
    "\n",
    "print(f\"Comments saved to {csv_file}\")\n",
    "\n",
    "driver.quit()\n"
   ]
  },
  {
   "cell_type": "code",
   "execution_count": null,
   "metadata": {},
   "outputs": [],
   "source": [
    "from selenium import webdriver\n",
    "from selenium.webdriver.common.by import By\n",
    "driver = webdriver.Chrome()\n",
    "driver.get(\"http://quotes.toscrape.com\")\n",
    "# Using CSS selector to find all author names\n",
    "authors = driver.find_elements(By.CSS_SELECTOR, \".author\")\n",
    "for author in authors:\n",
    "    print(author.text)\n",
    "driver.quit()\n"
   ]
  },
  {
   "cell_type": "code",
   "execution_count": null,
   "metadata": {},
   "outputs": [],
   "source": []
  }
 ]
}
