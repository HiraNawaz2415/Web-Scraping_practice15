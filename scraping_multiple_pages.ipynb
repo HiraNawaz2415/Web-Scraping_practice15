{
 "metadata": {
  "language_info": {
   "codemirror_mode": {
    "name": "ipython",
    "version": 3
   },
   "file_extension": ".py",
   "mimetype": "text/x-python",
   "name": "python",
   "nbconvert_exporter": "python",
   "pygments_lexer": "ipython3",
   "version": "3.12.2-final"
  },
  "orig_nbformat": 2,
  "kernelspec": {
   "name": "python3",
   "display_name": "Python 3.12.2 64-bit",
   "metadata": {
    "interpreter": {
     "hash": "d6ca1284c7bd7ae5870c8ab738ede617c834b0c6d27e733d7d2a522b2e1e0f98"
    }
   }
  }
 },
 "nbformat": 4,
 "nbformat_minor": 2,
 "cells": [
  {
   "source": [
    "## Scraping data from multiple pages"
   ],
   "cell_type": "markdown",
   "metadata": {}
  },
  {
   "source": [
    "Scraping data from multiple pages involves iterating through each page's URL and extracting the desired information."
   ],
   "cell_type": "markdown",
   "metadata": {}
  },
  {
   "source": [
    "### 🧠 Basic Steps\n",
    "Inspect the pagination pattern on the website.\n",
    "\n",
    "Use a loop to go through each page.\n",
    "\n",
    "Parse the HTML using BeautifulSoup.\n",
    "\n",
    "Extract the data from each page.\n",
    "\n",
    "Store or process the data."
   ],
   "cell_type": "markdown",
   "metadata": {}
  },
  {
   "cell_type": "code",
   "execution_count": 1,
   "metadata": {},
   "outputs": [
    {
     "output_type": "stream",
     "name": "stdout",
     "text": [
      "Scraping: https://example.com/products?page=1\n",
      "Scraping: https://example.com/products?page=2\n",
      "Scraping: https://example.com/products?page=3\n",
      "Scraping: https://example.com/products?page=4\n",
      "Scraping: https://example.com/products?page=5\n",
      "Scraped Products:\n"
     ]
    }
   ],
   "source": [
    "import requests\n",
    "from bs4 import BeautifulSoup\n",
    "\n",
    "base_url = 'https://example.com/products?page='\n",
    "all_data = []\n",
    "\n",
    "# Define how many pages to scrape\n",
    "for page in range(1, 6):  # Scrape pages 1 to 5\n",
    "    url = base_url + str(page)\n",
    "    print(f\"Scraping: {url}\")\n",
    "    \n",
    "    response = requests.get(url)\n",
    "    soup = BeautifulSoup(response.text, 'html.parser')\n",
    "    \n",
    "    # Example: Extract product names from <h2 class=\"product-title\">\n",
    "    products = soup.find_all('h2', class_='product-title')\n",
    "    \n",
    "    for product in products:\n",
    "        title = product.text.strip()\n",
    "        all_data.append(title)\n",
    "\n",
    "print(\"Scraped Products:\")\n",
    "for item in all_data:\n",
    "    print(item)\n"
   ]
  },
  {
   "source": [
    "## Example: Stop When No More Items Are Found"
   ],
   "cell_type": "markdown",
   "metadata": {}
  },
  {
   "cell_type": "code",
   "execution_count": 2,
   "metadata": {},
   "outputs": [
    {
     "output_type": "stream",
     "name": "stdout",
     "text": [
      "Scraping: https://example.com/products?page=1\n",
      "No more products found. Stopping.\n",
      "\n",
      "Total products scraped: 0\n"
     ]
    }
   ],
   "source": [
    "import requests\n",
    "from bs4 import BeautifulSoup\n",
    "\n",
    "base_url = 'https://example.com/products?page='\n",
    "all_data = []\n",
    "page = 1\n",
    "\n",
    "while True:\n",
    "    url = base_url + str(page)\n",
    "    print(f\"Scraping: {url}\")\n",
    "    \n",
    "    response = requests.get(url)\n",
    "    soup = BeautifulSoup(response.text, 'html.parser')\n",
    "    \n",
    "    # Find all product entries\n",
    "    products = soup.find_all('h2', class_='product-title')\n",
    "    \n",
    "    if not products:\n",
    "        print(\"No more products found. Stopping.\")\n",
    "        break  # Exit the loop if no products found\n",
    "    \n",
    "    for product in products:\n",
    "        title = product.text.strip()\n",
    "        all_data.append(title)\n",
    "    \n",
    "    page += 1  # Move to next page\n",
    "\n",
    "print(f\"\\nTotal products scraped: {len(all_data)}\")\n"
   ]
  },
  {
   "source": [
    "### Other conditions might be used\n",
    "\n",
    "next_button = soup.find('a', class_='next')\n",
    "if not next_button:\n",
    "    break\n",
    "\n",
    "\n",
    "if page_data == previous_data:\n",
    "    break\n",
    "\n"
   ],
   "cell_type": "markdown",
   "metadata": {}
  },
  {
   "cell_type": "code",
   "execution_count": 5,
   "metadata": {},
   "outputs": [
    {
     "output_type": "stream",
     "name": "stdout",
     "text": [
      "Scraping: https://www.flipkart.com/search?q=mobile&page1\n",
      "No more products found. Stopping.\n",
      "Scraped Products:\n"
     ]
    }
   ],
   "source": [
    "import requests\n",
    "from bs4 import BeautifulSoup\n",
    "\n",
    "# Base URL for a category page on Open Food Facts (e.g., \"snacks\")\n",
    "base_url = \"https://www.flipkart.com/search?q=mobile&page\"\n",
    "page = 1\n",
    "all_products = []\n",
    "\n",
    "while True:\n",
    "    # Construct the URL for the current page (e.g., /snacks/1, /snacks/2, etc.)\n",
    "    url = base_url + str(page)\n",
    "    print(f\"Scraping: {url}\")\n",
    "    \n",
    "    response = requests.get(url)\n",
    "    soup = BeautifulSoup(response.text, \"html.parser\")\n",
    "    \n",
    "    # Find the container for each product on the page\n",
    "    # (change \"div\" and \"product_item\" to the real tag and class used on the website)\n",
    "    products = soup.find_all(\"div\", class_=\"_5M58Mb\")\n",
    "    \n",
    "    # If no products are found, stop the loop\n",
    "    if not products:\n",
    "        print(\"No more products found. Stopping.\")\n",
    "        break\n",
    "        \n",
    "    for product in products:\n",
    "        # Extract the product name (change tag and class as needed)\n",
    "        name_tag = product.find(\"a\", class_=\"product_name\")\n",
    "        product_name = name_tag.text.strip() if name_tag else \"No Name Found\"\n",
    "        \n",
    "        # Extract nutrition info (change tag and class as needed)\n",
    "        nutrition_tag = product.find(\"span\", class_=\"nutrition\")\n",
    "        nutrition_info = nutrition_tag.text.strip() if nutrition_tag else \"No nutrition info\"\n",
    "        \n",
    "        # Save the product's data\n",
    "        all_products.append({\n",
    "            \"name\": product_name,\n",
    "            \"nutrition\": nutrition_info\n",
    "        })\n",
    "    \n",
    "    # Move to the next page\n",
    "    page += 1\n",
    "\n",
    "# Print all the products collected\n",
    "print(\"Scraped Products:\")\n",
    "for p in all_products:\n",
    "    print(p)\n"
   ]
  },
  {
   "cell_type": "code",
   "execution_count": null,
   "metadata": {},
   "outputs": [],
   "source": []
  }
 ]
}
