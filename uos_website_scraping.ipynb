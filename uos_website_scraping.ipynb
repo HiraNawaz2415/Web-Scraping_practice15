{
 "metadata": {
  "language_info": {
   "codemirror_mode": {
    "name": "ipython",
    "version": 3
   },
   "file_extension": ".py",
   "mimetype": "text/x-python",
   "name": "python",
   "nbconvert_exporter": "python",
   "pygments_lexer": "ipython3",
   "version": "3.12.2-final"
  },
  "orig_nbformat": 2,
  "kernelspec": {
   "name": "python3",
   "display_name": "Python 3.12.2 64-bit",
   "metadata": {
    "interpreter": {
     "hash": "d6ca1284c7bd7ae5870c8ab738ede617c834b0c6d27e733d7d2a522b2e1e0f98"
    }
   }
  }
 },
 "nbformat": 4,
 "nbformat_minor": 2,
 "cells": [
  {
   "cell_type": "code",
   "execution_count": 1,
   "metadata": {},
   "outputs": [
    {
     "output_type": "stream",
     "name": "stdout",
     "text": [
      "200\n</div>\n</div>\n\n\n\n\n\n\n\n\n<!--  -->\n\n\n<!--  -->\n\n\n\n\n\n\n\n\n<html lang=\"en-US\" class=\"no-js\">\n\n<head>\n    <meta charset=\"UTF-8\">\n    <meta name=\"viewport\" content=\"width=device-width, initial-scale=1\">\n\n    <meta name=\"csrf-token\" content=\"3AZtydIYm7devsrke5TJUUWM3YUC7ExB5RYsXoCN\">\n\n    <title>Welcome to UOS | University of Sargodha</title>\n\n    \n\n    \n    <link rel=\"preload\" href=\"/plugins/goodlayers-core/plugins/combine/style.css\" as=\"style\">\n    <link rel=\"stylesheet\" href=\"/plugins/goodlayers-core/plugins/combine/style.css\" media=\"print\"\n        onload=\"this.media='all'\">\n    <link rel=\"stylesheet\" href=\"https://cdnjs.cloudflare.com/ajax/libs/ionicons/4.2.0/css/ionicons.min.css\"\n        integrity=\"sha256-F3Xeb7IIFr1QsWD113kV2JXaEbjhsfpgrKkwZFGIA4E=\" crossorigin=\"anonymous\" />\n    <link rel='stylesheet' href='/plugins/goodlayers-core/include/css/page-builder.css' type='text/css'\n        media='all' />\n    \n    <style>\n    table.dataTable.nowrap th,\n    table.dataTable.nowrap td {\n        wh\n"
     ]
    }
   ],
   "source": [
    "import requests\n",
    "from bs4 import BeautifulSoup\n",
    "response=requests.get(\"https://su.edu.pk/\")\n",
    "print(response.status_code)  # 200 means success\n",
    "print(response.text[:1000]) \n"
   ]
  },
  {
   "cell_type": "code",
   "execution_count": 2,
   "metadata": {},
   "outputs": [
    {
     "output_type": "execute_result",
     "data": {
      "text/plain": [
       "i>\n",
       "        <li>\n",
       "            <a href=\"https://su.edu.pk/images/CdcGallery/29.jpg\" title=\"Pic 2\">\n",
       "                <img src=\"https://su.edu.pk/images/CdcGallery/29.jpg\" alt=\"Pic 2\">\n",
       "            </a>\n",
       "        </li>\n",
       "        <li>\n",
       "            <a href=\"https://su.edu.pk/images/CdcGallery/30.jpg\" title=\"Pic 3\">\n",
       "                <img src=\"https://su.edu.pk/images/CdcGallery/30.jpg\" alt=\"Pic 3\">\n",
       "            </a>\n",
       "        </li>\n",
       "        <li>\n",
       "            <a href=\"https://su.edu.pk/images/CdcGallery/31.jpg\" title=\"Pic 2\">\n",
       "                <img src=\"https://su.edu.pk/images/CdcGallery/31.jpg\" alt=\"Pic 2\">\n",
       "            </a>\n",
       "        </li>\n",
       "        <li>\n",
       "            <a href=\"https://su.edu.pk/images/CdcGallery/32.jpg\" title=\"Pic 2\">\n",
       "                <img src=\"https://su.edu.pk/images/CdcGallery/32.jpg\" alt=\"Pic 2\">\n",
       "            </a>\n",
       "        </li>\n",
       "        <li>\n",
       "            <a href=\"https://su.edu.pk/images/CdcGallery/33.jpg\" title=\"Pic 2\">\n",
       "                <img src=\"https://su.edu.pk/images/CdcGallery/33.jpg\" alt=\"Pic 2\">\n",
       "            </a>\n",
       "        </li>\n",
       "        <li>\n",
       "            <a href=\"https://su.edu.pk/images/CdcGallery/34.jpg\" title=\"Pic 2\">\n",
       "                <img src=\"https://su.edu.pk/images/CdcGallery/34.jpg\" alt=\"Pic 2\">\n",
       "            </a>\n",
       "        </li>\n",
       "        <li>\n",
       "            <a href=\"https://su.edu.pk/images/CdcGallery/35.jpg\" title=\"Pic 3\">\n",
       "                <img src=\"https://su.edu.pk/images/CdcGallery/35.jpg\" alt=\"Pic 3\">\n",
       "            </a>\n",
       "        </li>\n",
       "        <li>\n",
       "            <a href=\"https://su.edu.pk/images/CdcGallery/36.jpg\" title=\"Pic 3\">\n",
       "                <img src=\"https://su.edu.pk/images/CdcGallery/36.jpg\" alt=\"Pic 3\">\n",
       "            </a>\n",
       "        </li>\n",
       "        <li>\n",
       "            <a href=\"https://su.edu.pk/images/CdcGallery/37.jpg\" title=\"Pic 3\">\n",
       "                <img src=\"https://su.edu.pk/images/CdcGallery/37.jpg\" alt=\"Pic 3\">\n",
       "            </a>\n",
       "        </li>\n",
       "        <li>\n",
       "            <a href=\"https://su.edu.pk/images/CdcGallery/38.jpg\" title=\"Pic 3\">\n",
       "                <img src=\"https://su.edu.pk/images/CdcGallery/38.jpg\" alt=\"Pic 3\">\n",
       "            </a>\n",
       "        </li>\n",
       "        <li>\n",
       "            <a href=\"https://su.edu.pk/images/CdcGallery/39.jpg\" title=\"Pic 2\">\n",
       "                <img src=\"https://su.edu.pk/images/CdcGallery/39.jpg\" alt=\"Pic 2\">\n",
       "            </a>\n",
       "        </li>\n",
       "        <li>\n",
       "            <a href=\"https://su.edu.pk/images/CdcGallery/40.jpg\" title=\"Pic 3\">\n",
       "                <img src=\"https://su.edu.pk/images/CdcGallery/40.jpg\" alt=\"Pic 3\">\n",
       "            </a>\n",
       "        </li>\n",
       "        <li>\n",
       "            <a href=\"https://su.edu.pk/images/CdcGallery/41.jpg\" title=\"Pic 2\">\n",
       "                <img src=\"https://su.edu.pk/images/CdcGallery/41.jpg\" alt=\"Pic 2\">\n",
       "            </a>\n",
       "        </li>\n",
       "        <li>\n",
       "            <a href=\"https://su.edu.pk/images/CdcGallery/42.jpg\" title=\"Pic 2\">\n",
       "                <img src=\"https://su.edu.pk/images/CdcGallery/42.jpg\" alt=\"Pic 2\">\n",
       "            </a>\n",
       "        </li>\n",
       "        <li>\n",
       "            <a href=\"https://su.edu.pk/images/CdcGallery/43.jpg\" title=\"Pic 2\">\n",
       "                <img src=\"https://su.edu.pk/images/CdcGallery/43.jpg\" alt=\"Pic 2\">\n",
       "            </a>\n",
       "        </li>\n",
       "        <li>\n",
       "            <a href=\"https://su.edu.pk/images/CdcGallery/44.jpg\" title=\"Pic 2\">\n",
       "                <img src=\"https://su.edu.pk/images/CdcGallery/44.jpg\" alt=\"Pic 2\">\n",
       "            </a>\n",
       "        </li>\n",
       "        <li>\n",
       "            <a href=\"https://su.edu.pk/images/CdcGallery/45.jpg\" title=\"Pic 3\">\n",
       "                <img src=\"https://su.edu.pk/images/CdcGallery/45.jpg\" alt=\"Pic 3\">\n",
       "            </a>\n",
       "        </li>\n",
       "        <li>\n",
       "            <a href=\"https://su.edu.pk/images/CdcGallery/46.jpg\" title=\"Pic 3\">\n",
       "                <img src=\"https://su.edu.pk/images/CdcGallery/46.jpg\" alt=\"Pic 3\">\n",
       "            </a>\n",
       "        </li>\n",
       "        <li>\n",
       "            <a href=\"https://su.edu.pk/images/CdcGallery/47.jpg\" title=\"Pic 4\">\n",
       "                <img src=\"https://su.edu.pk/images/CdcGallery/47.jpg\" alt=\"Pic 3\">\n",
       "            </a>\n",
       "        </li>\n",
       "        <li>\n",
       "            <a href=\"https://su.edu.pk/images/CdcGallery/48.jpg\" title=\"Pic 4\">\n",
       "                <img src=\"https://su.edu.pk/images/CdcGallery/48.jpg\" alt=\"Pic 3\">\n",
       "            </a>\n",
       "        </li>\n",
       "        <li>\n",
       "            <a href=\"https://su.edu.pk/images/CdcGallery/49.jpg\" title=\"Pic 2\">\n",
       "                <img src=\"https://su.edu.pk/images/CdcGallery/49.jpg\" alt=\"Pic 2\">\n",
       "            </a>\n",
       "        </li>\n",
       "        <li>\n",
       "            <a href=\"https://su.edu.pk/images/CdcGallery/50.jpg\" title=\"Pic 3\">\n",
       "                <img src=\"https://su.edu.pk/images/CdcGallery/50.jpg\" alt=\"Pic 3\">\n",
       "            </a>\n",
       "        </li>\n",
       "        <li>\n",
       "            <a href=\"https://su.edu.pk/images/CdcGallery/51.jpg\" title=\"Pic 2\">\n",
       "                <img src=\"https://su.edu.pk/images/CdcGallery/51.jpg\" alt=\"Pic 2\">\n",
       "            </a>\n",
       "        </li>`);\n",
       "        $(\".gallery\").magnificPopup('open');\n",
       "    })\n",
       "\n",
       "    $(\".PicsGallery\").on(\"click\", function() {\n",
       "        $(\".gallery\").html(`\n",
       "\n",
       "        <li>\n",
       "            <a href=\"https://su.edu.pk/images/PicsGallery/1.jpg\" title=\"Pic 2\">\n",
       "                <img src=\"https://su.edu.pk/images/PicsGallery/1.jpg\" alt=\"Pic 2\">\n",
       "            </a>\n",
       "        </li>\n",
       "        <li>\n",
       "            <a href=\"https://su.edu.pk/images/PicsGallery/2.jpg\" title=\"Pic 2\">\n",
       "                <img src=\"https://su.edu.pk/images/PicsGallery/2.jpg\" alt=\"Pic 2\">\n",
       "            </a>\n",
       "        </li>\n",
       "        <li>\n",
       "            <a href=\"https://su.edu.pk/images/PicsGallery/3.jpg\" title=\"Pic 2\">\n",
       "                <img src=\"https://su.edu.pk/images/PicsGallery/3.jpg\" alt=\"Pic 2\">\n",
       "            </a>\n",
       "        </li>\n",
       "        <li>\n",
       "            <a href=\"https://su.edu.pk/images/PicsGallery/4.jpg\" title=\"Pic 2\">\n",
       "                <img src=\"https://su.edu.pk/images/PicsGallery/4.jpg\" alt=\"Pic 2\">\n",
       "            </a>\n",
       "        </li>\n",
       "        <li>\n",
       "            <a href=\"https://su.edu.pk/images/PicsGallery/5.jpg\" title=\"Pic 2\">\n",
       "                <img src=\"https://su.edu.pk/images/PicsGallery/5.jpg\" alt=\"Pic 2\">\n",
       "            </a>\n",
       "        </li>\n",
       "        <li>\n",
       "            <a href=\"https://su.edu.pk/images/PicsGallery/6.jpg\" title=\"Pic 2\">\n",
       "                <img src=\"https://su.edu.pk/images/PicsGallery/6.jpg\" alt=\"Pic 2\">\n",
       "            </a>\n",
       "        </li>\n",
       "        <li>\n",
       "            <a href=\"https://su.edu.pk/images/PicsGallery/7.jpg\" title=\"Pic 2\">\n",
       "                <img src=\"https://su.edu.pk/images/PicsGallery/7.jpg\" alt=\"Pic 2\">\n",
       "            </a>\n",
       "        </li>\n",
       "        <li>\n",
       "            <a href=\"https://su.edu.pk/images/PicsGallery/8.jpg\" title=\"Pic 2\">\n",
       "                <img src=\"https://su.edu.pk/images/PicsGallery/8.jpg\" alt=\"Pic 2\">\n",
       "            </a>\n",
       "        </li>\n",
       "        <li>\n",
       "            <a href=\"https://su.edu.pk/images/PicsGallery/9.jpg\" title=\"Pic 2\">\n",
       "                <img src=\"https://su.edu.pk/images/PicsGallery/9.jpg\" alt=\"Pic 2\">\n",
       "            </a>\n",
       "        </li>\n",
       "        <li>\n",
       "            <a href=\"https://su.edu.pk/images/PicsGallery/10.jpg\" title=\"Pic 2\">\n",
       "                <img src=\"https://su.edu.pk/images/PicsGallery/10.jpg\" alt=\"Pic 2\">\n",
       "            </a>\n",
       "        </li>\n",
       "        <li>\n",
       "            <a href=\"https://su.edu.pk/images/PicsGallery/11.jpeg\" title=\"Pic 2\">\n",
       "                <img src=\"https://su.edu.pk/images/PicsGallery/11.jpeg\" alt=\"Pic 2\">\n",
       "            </a>\n",
       "        </li>\n",
       "        <li>\n",
       "            <a href=\"https://su.edu.pk/images/PicsGallery/12.jpeg\" title=\"Pic 2\">\n",
       "                <img src=\"https://su.edu.pk/images/PicsGallery/12.jpeg\" alt=\"Pic 2\">\n",
       "            </a>\n",
       "        </li>\n",
       "        <li>\n",
       "            <a href=\"https://su.edu.pk/images/PicsGallery/13.jpeg\" title=\"Pic 2\">\n",
       "                <img src=\"https://su.edu.pk/images/PicsGallery/13.jpeg\" alt=\"Pic 2\">\n",
       "            </a>\n",
       "        </li>\n",
       "        `);\n",
       "        $(\".gallery\").magnificPopup('open');\n",
       "    })\n",
       "\n",
       "    $(\".SportsGallery\").on(\"click\", function() {\n",
       "        $(\".gallery\").html(`\n",
       "\n",
       "        <li>\n",
       "            <a href=\"https://su.edu.pk/images/Sports_Gallery/1.jpg\" title=\"Pic 2\">\n",
       "                <img src=\"https://su.edu.pk/images/Sports_Gallery/1.jpg\" alt=\"Pic 2\">\n",
       "            </a>\n",
       "        </li>\n",
       "        <li>\n",
       "            <a href=\"https://su.edu.pk/images/Sports_Gallery/2.jpg\" title=\"Pic 2\">\n",
       "                <img src=\"https://su.edu.pk/images/Sports_Gallery/2.jpg\" alt=\"Pic 2\">\n",
       "            </a>\n",
       "        </li>\n",
       "        <li>\n",
       "            <a href=\"https://su.edu.pk/images/Sports_Gallery/3.jpg\" title=\"Pic 2\">\n",
       "                <img src=\"https://su.edu.pk/images/Sports_Gallery/3.jpg\" alt=\"Pic 2\">\n",
       "            </a>\n",
       "        </li>\n",
       "        <li>\n",
       "            <a href=\"https://su.edu.pk/images/Sports_Gallery/4.jpg\" title=\"Pic 2\">\n",
       "                <img src=\"https://su.edu.pk/images/Sports_Gallery/4.jpg\" alt=\"Pic 2\">\n",
       "            </a>\n",
       "        </li>\n",
       "        <li>\n",
       "            <a href=\"https://su.edu.pk/images/Sports_Gallery/5.jpg\" title=\"Pic 2\">\n",
       "                <img src=\"https://su.edu.pk/images/Sports_Gallery/5.jpg\" alt=\"Pic 2\">\n",
       "            </a>\n",
       "        </li>\n",
       "        <li>\n",
       "            <a href=\"https://su.edu.pk/images/Sports_Gallery/6.jpg\" title=\"Pic 2\">\n",
       "                <img src=\"https://su.edu.pk/images/Sports_Gallery/6.jpg\" alt=\"Pic 2\">\n",
       "            </a>\n",
       "        </li>\n",
       "        <li>\n",
       "            <a href=\"https://su.edu.pk/images/Sports_Gallery/7.jpg\" title=\"Pic 2\">\n",
       "                <img src=\"https://su.edu.pk/images/Sports_Gallery/7.jpg\" alt=\"Pic 2\">\n",
       "            </a>\n",
       "        </li>\n",
       "        <li>\n",
       "            <a href=\"https://su.edu.pk/images/Sports_Gallery/8.jpg\" title=\"Pic 2\">\n",
       "                <img src=\"https://su.edu.pk/images/Sports_Gallery/8.jpg\" alt=\"Pic 2\">\n",
       "            </a>\n",
       "        </li>\n",
       "        <li>\n",
       "            <a href=\"https://su.edu.pk/images/Sports_Gallery/9.jpg\" title=\"Pic 2\">\n",
       "                <img src=\"https://su.edu.pk/images/Sports_Gallery/9.jpg\" alt=\"Pic 2\">\n",
       "            </a>\n",
       "        </li>\n",
       "        <li>\n",
       "            <a href=\"https://su.edu.pk/images/Sports_Gallery/10.jpg\" title=\"Pic 2\">\n",
       "                <img src=\"https://su.edu.pk/images/Sports_Gallery/10.jpg\" alt=\"Pic 2\">\n",
       "            </a>\n",
       "        </li>\n",
       "        `);\n",
       "        $(\".gallery\").magnificPopup('open');\n",
       "    })\n",
       "\n",
       "    $(\".ArtGallery\").on(\"click\", function() {\n",
       "        $(\".gallery\").html(`\n",
       "\n",
       "        <li>\n",
       "            <a href=\"https://su.edu.pk/images/z_art_gallery/1.png?v=1.0.1.2\" title=\"Pic 2\">\n",
       "                <img src=\"https://su.edu.pk/images/z_art_gallery/1.png?v=1.0.1.2\" alt=\"Pic 2\">\n",
       "            </a>\n",
       "        </li>\n",
       "        <li>\n",
       "            <a href=\"https://su.edu.pk/images/z_art_gallery/2.png?v=1.0.1.2\" title=\"Pic 2\">\n",
       "                <img src=\"https://su.edu.pk/images/z_art_gallery/2.png?v=1.0.1.2\" alt=\"Pic 2\">\n",
       "            </a>\n",
       "        </li>\n",
       "        <li>\n",
       "            <a href=\"https://su.edu.pk/images/z_art_gallery/3.png?v=1.0.1.2\" title=\"Pic 2\">\n",
       "                <img src=\"https://su.edu.pk/images/z_art_gallery/3.png?v=1.0.1.2\" alt=\"Pic 2\">\n",
       "            </a>\n",
       "        </li>\n",
       "        <li>\n",
       "            <a href=\"https://su.edu.pk/images/z_art_gallery/4.png?v=1.0.1.2\" title=\"Pic 2\">\n",
       "                <img src=\"https://su.edu.pk/images/z_art_gallery/4.png?v=1.0.1.2\" alt=\"Pic 2\">\n",
       "            </a>\n",
       "        </li>\n",
       "        <li>\n",
       "            <a href=\"https://su.edu.pk/images/z_art_gallery/5.png?v=1.0.1.2\" title=\"Pic 2\">\n",
       "                <img src=\"https://su.edu.pk/images/z_art_gallery/5.png?v=1.0.1.2\" alt=\"Pic 2\">\n",
       "            </a>\n",
       "        </li>\n",
       "        <li>\n",
       "            <a href=\"https://su.edu.pk/images/z_art_gallery/6.png?v=1.0.1.2\" title=\"Pic 2\">\n",
       "                <img src=\"https://su.edu.pk/images/z_art_gallery/6.png?v=1.0.1.2\" alt=\"Pic 2\">\n",
       "            </a>\n",
       "        </li>\n",
       "        <li>\n",
       "            <a href=\"https://su.edu.pk/images/z_art_gallery/7.png?v=1.0.1.2\" title=\"Pic 2\">\n",
       "                <img src=\"https://su.edu.pk/images/z_art_gallery/7.png?v=1.0.1.2\" alt=\"Pic 2\">\n",
       "            </a>\n",
       "        </li>\n",
       "        <li>\n",
       "            <a href=\"https://su.edu.pk/images/z_art_gallery/8.png?v=1.0.1.2\" title=\"Pic 2\">\n",
       "                <img src=\"https://su.edu.pk/images/z_art_gallery/8.png?v=1.0.1.2\" alt=\"Pic 2\">\n",
       "            </a>\n",
       "        </li>\n",
       "\n",
       "       `);\n",
       "        $(\".gallery\").magnificPopup('open');\n",
       "    })\n",
       "\n",
       "    $('.gallery').each(function() {\n",
       "\n",
       "        $('.gallery').magnificPopup({\n",
       "            delegate: 'a',\n",
       "            type: 'image',\n",
       "            tLoading: 'Loading image #%curr%...',\n",
       "            mainClass: 'mfp-img-mobile',\n",
       "            gallery: {\n",
       "                enabled: true,\n",
       "                navigateByImgClick: true,\n",
       "                preload: [0, 1] // Will preload 0 - before current, and 1 after the current image\n",
       "            },\n",
       "            image: {\n",
       "                tError: '<a href=\"%url%\">The image #%curr%</a> could not be loaded.',\n",
       "                titleSrc: function(item) {\n",
       "                    //return //item.el.attr('title');\n",
       "                    var $gallery = $('.gallery');\n",
       "                    var $result = '';\n",
       "                    if ($gallery.find('li').length > 0) {\n",
       "                        $result = '<div class=\"mfp-pager\">' +\n",
       "                            '<div class=\"arrow_prev\">' +\n",
       "                            // '<button type=\"button\" class=\"prev arrow\" onclick=\"javascript:$(\\'.gallery\\').magnificPopup(\\'prev\\');return false;\">Previous</button>' +\n",
       "                            '</div>' +\n",
       "                            '<div class=\"dots\">' +\n",
       "                            '<ul class=\"dots\" style=\"display: inline-block;\">';\n",
       "                        for (var i = 0; i < $gallery.find('li').length; i++) {\n",
       "                            var $cl_active = '';\n",
       "                            if (item.index == i) $cl_active = ' class=\"active\"';\n",
       "                            else $cl_active = '';\n",
       "                            var $thumb = $gallery.find('li:eq(' + i + ')').find('img').attr('src');\n",
       "                            $result += '<li' + $cl_active + '>' +\n",
       "                                '<button type=\"button\" onclick=\"javascript:$(\\'.gallery\\').magnificPopup(\\'goTo\\', ' +\n",
       "                                i + ');return false;\"><img src=\"' + $thumb +\n",
       "                                '?v=1.0.1.2\" width=\"50\"></button>' +\n",
       "                                '</li>';\n",
       "                        }\n",
       "                        $result += '</ul>' +\n",
       "                            '</div>' +\n",
       "                            '<div class=\"arrow_next\">' +\n",
       "                            // '<button type=\"button\" class=\"next arrow\" onclick=\"javascript:$(\\'.gallery\\').magnificPopup(\\'next\\');return false;\">Next</button>' +\n",
       "                            '</div>' +\n",
       "                            '</div>';\n",
       "                    }\n",
       "                    return $result;\n",
       "                }\n",
       "            }\n",
       "        });\n",
       "    });\n",
       "\n",
       "    $(document).ready(function() {\n",
       "\n",
       "        //$('.js-example-basic-single').select2();\n",
       "    });\n",
       "\n",
       "    $('.main-carousel-controller').slick({\n",
       "        dots: false,\n",
       "        infinite: false,\n",
       "        speed: 300,\n",
       "        slidesToShow: 4,\n",
       "        slidesToScroll: 4,\n",
       "        cssEase: 'linear',\n",
       "        slide: 'li',\n",
       "        autoplay: true,\n",
       "        autoplaySpeed: 1500,\n",
       "        arrows: true,\n",
       "        // prevArrow: prevButton,\n",
       "        // nextArrow: nextButton,\n",
       "        adaptiveHeight: true,\n",
       "        responsive: [{\n",
       "                breakpoint: 1024,\n",
       "                settings: {\n",
       "                    slidesToShow: 2,\n",
       "                    slidesToScroll: 2,\n",
       "                    infinite: true,\n",
       "                    dots: true\n",
       "                }\n",
       "            },\n",
       "            {\n",
       "                breakpoint: 600,\n",
       "                settings: {\n",
       "                    slidesToShow: 2,\n",
       "                    slidesToScroll: 2\n",
       "                }\n",
       "            },\n",
       "            {\n",
       "                breakpoint: 480,\n",
       "                settings: {\n",
       "                    slidesToShow: 1,\n",
       "                    slidesToScroll: 1\n",
       "                }\n",
       "            }\n",
       "        ],\n",
       "    });\n",
       "\n",
       "    $(function() {\n",
       "        $(document).ready(function() {\n",
       "            $('#downloads').DataTable();\n",
       "        });\n",
       "    });\n",
       "\n",
       "    $(document).ready(function() {\n",
       "        // your code\n",
       "        $('.why-to-choose-filter').isotope({ // options\n",
       "            filter: '.Academic_Excellence'\n",
       "        });\n",
       "\n",
       "        // filter items on button click\n",
       "        $('.filter-button-group').on('click', 'li', function() {\n",
       "            var filterValue = $(this).attr('data-filter');\n",
       "            $('.why-to-choose-filter').isotope({\n",
       "                filter: filterValue\n",
       "            });\n",
       "            $('.filter-button-group li').removeClass('active');\n",
       "            $(this).addClass('active');\n",
       "        })\n",
       "    });\n",
       "    $('.new-grid').isotope({\n",
       "        itemSelector: '.grid-item',\n",
       "        percentPosition: true,\n",
       "        masonry: {\n",
       "            columnWidth: '.grid-sizer',\n",
       "            gutter: '.gutter-sizer'\n",
       "        }\n",
       "    });\n",
       "\n",
       "    $(document).ready(function() {\n",
       "        $(\".basic-datatable\").DataTable({\n",
       "            responsive: true,\n",
       "        });\n",
       "        $(\".basic-datatable-download\").DataTable({\n",
       "            responsive: true,\n",
       "            bFilter: false,\n",
       "            lengthChange: false,\n",
       "            \"paging\": false,\n",
       "            \"ordering\": false\n",
       "        });\n",
       "    });\n",
       "\n",
       "\n",
       "\n",
       "    \n",
       "\n",
       "    $(document).ready(function() {\n",
       "        jQuery('#lunch-demo').click();\n",
       "        /* Get iframe src attribute value i.e. YouTube video url\n",
       "        and store it in a variable */\n",
       "        // var url = $(\"#u-video\").attr('src');\n",
       "\n",
       "        /* Assign empty url value to the iframe src attribute when\n",
       "        modal hide, which stop the video playing */\n",
       "        // $(\"#myModal\").on('hide.bs.modal', function(){\n",
       "        //   $(\"#u-video\").attr('src', '');\n",
       "        //});\n",
       "        //     $(\"#myModal\").on('show.bs.modal', function(){\n",
       "\n",
       "        // });\n",
       "\n",
       "        // jQuery('#lunch-demo').click();\n",
       "        /* Assign the initially stored url back to the iframe src\n",
       "        attribute when modal is displayed again */\n",
       "        //  $(\"#myModal\").on('show.bs.modal', function(){\n",
       "\n",
       "        //  $(\"#u-video\").attr('src', url);\n",
       "        //});\n",
       "\n",
       "        // jQuery('#lunch-demo').click();\n",
       "\n",
       "    });\n",
       "    </script>\n",
       "<style>\n",
       "    .modal-backdrop {\n",
       "        z-index: 0 !important;\n",
       "        margin-top: 10px;\n",
       "    }\n",
       "</style>\n",
       "<style>\n",
       "    .modal-body p {\n",
       "        margin-bottom: 0px !important;\n",
       "    }\n",
       "\n",
       "    @media (min-width: 1024px) {\n",
       "        .modal-content {\n",
       "            width: 600px\n",
       "        }\n",
       "\n",
       "        /* Your desktop-only styles here */\n",
       "    }\n",
       "\n",
       "    @media (min-width: 768px) {\n",
       "        .modal-content {\n",
       "            width: 600px\n",
       "        }\n",
       "\n",
       "        /* Styles for tablets and larger screens (including desktops) */\n",
       "    }\n",
       "</style>\n",
       "<!-- <a style=\"display: none;\" href=\"#myModal\" id=\"lunch-demo\" class=\"btn btn-primary btn-lg\" data-toggle=\"modal\">Launch Demo\n",
       "    Modal</a> -->\n",
       "<div class=\"modal fade\" id=\"myModal\">\n",
       "<div class=\"modal-dialog\">\n",
       "<div class=\"modal-content\" style=\"color:black !important;\">\n",
       "<div class=\"modal-header\" style=\"background-color: red;\">\n",
       "<h5 class=\"modal-title\" style=\"font-size: 23px;\"><b>🚀 Get Certified &amp; Get Reimbursed! 🌍</b>\n",
       "</h5>\n",
       "<button aria-label=\"Close\" class=\"close\" data-dismiss=\"modal\" type=\"button\">\n",
       "<span aria-hidden=\"true\" style=\"font-size: 36px;color:white\">×</span>\n",
       "</button>\n",
       "</div>\n",
       "<style>\n",
       "                /* .image {\n",
       "                        background: #34495e;\n",
       "                        width: 475px;\n",
       "                        height: 625px;\n",
       "                      } */\n",
       "                .image-contain {\n",
       "                    object-fit: contain;\n",
       "                    object-position: center;\n",
       "                }\n",
       "\n",
       "                .image-cover {\n",
       "                    object-fit: cover;\n",
       "                    object-position: right top;\n",
       "                }\n",
       "\n",
       "                .modal-content .gdlr-core-fluid-video-wrapper {\n",
       "\n",
       "                    padding-top: 238px !important\n",
       "                }\n",
       "            </style>\n",
       "<div class=\"modal-body\">\n",
       "<p class=\"text-justify\">\n",
       "\n",
       "                    Enroll in a Global IT Certification Before March Ends for current financial year!\n",
       "                    <br/>\n",
       "\n",
       "                    ✅ Submit Payment Proof for Reimbursement in the registration portal for Current Financial Budget reimbursement.\n",
       "                    <br/>\n",
       "                    📩 <a href=\"https://certifications.pitb.gov.pk/register\" target=\"_blank\">Register Today &amp; Secure Your Spot!</a>\n",
       "</p>\n",
       "</div>\n",
       "</div>\n",
       "</div>\n",
       "</div>\n",
       "\n",
       "\n",
       "<style type=\"text/css\">\n",
       "    .embed-responsive-16by9::before {\n",
       "        padding-top: 0px !important\n",
       "    }\n",
       "</style>\n",
       "\n",
       "</html>"
      ]
     },
     "metadata": {},
     "execution_count": 2
    }
   ],
   "source": [
    "soup=BeautifulSoup(response.content,\"html.parser\")\n",
    "soup"
   ]
  },
  {
   "cell_type": "code",
   "execution_count": 3,
   "metadata": {},
   "outputs": [
    {
     "output_type": "execute_result",
     "data": {
      "text/plain": [
       "    <img src=\"https://su.edu.pk/images/CdcGallery/32.jpg\" alt=\"Pic 2\">\\n            </a>\\n        </li>\\n        <li>\\n            <a href=\"https://su.edu.pk/images/CdcGallery/33.jpg\" title=\"Pic 2\">\\n                <img src=\"https://su.edu.pk/images/CdcGallery/33.jpg\" alt=\"Pic 2\">\\n            </a>\\n        </li>\\n        <li>\\n            <a href=\"https://su.edu.pk/images/CdcGallery/34.jpg\" title=\"Pic 2\">\\n                <img src=\"https://su.edu.pk/images/CdcGallery/34.jpg\" alt=\"Pic 2\">\\n            </a>\\n        </li>\\n        <li>\\n            <a href=\"https://su.edu.pk/images/CdcGallery/35.jpg\" title=\"Pic 3\">\\n                <img src=\"https://su.edu.pk/images/CdcGallery/35.jpg\" alt=\"Pic 3\">\\n            </a>\\n        </li>\\n        <li>\\n            <a href=\"https://su.edu.pk/images/CdcGallery/36.jpg\" title=\"Pic 3\">\\n                <img src=\"https://su.edu.pk/images/CdcGallery/36.jpg\" alt=\"Pic 3\">\\n            </a>\\n        </li>\\n        <li>\\n            <a href=\"https://su.edu.pk/images/CdcGallery/37.jpg\" title=\"Pic 3\">\\n                <img src=\"https://su.edu.pk/images/CdcGallery/37.jpg\" alt=\"Pic 3\">\\n            </a>\\n        </li>\\n        <li>\\n            <a href=\"https://su.edu.pk/images/CdcGallery/38.jpg\" title=\"Pic 3\">\\n                <img src=\"https://su.edu.pk/images/CdcGallery/38.jpg\" alt=\"Pic 3\">\\n            </a>\\n        </li>\\n        <li>\\n            <a href=\"https://su.edu.pk/images/CdcGallery/39.jpg\" title=\"Pic 2\">\\n                <img src=\"https://su.edu.pk/images/CdcGallery/39.jpg\" alt=\"Pic 2\">\\n            </a>\\n        </li>\\n        <li>\\n            <a href=\"https://su.edu.pk/images/CdcGallery/40.jpg\" title=\"Pic 3\">\\n                <img src=\"https://su.edu.pk/images/CdcGallery/40.jpg\" alt=\"Pic 3\">\\n            </a>\\n        </li>\\n        <li>\\n            <a href=\"https://su.edu.pk/images/CdcGallery/41.jpg\" title=\"Pic 2\">\\n                <img src=\"https://su.edu.pk/images/CdcGallery/41.jpg\" alt=\"Pic 2\">\\n            </a>\\n        </li>\\n        <li>\\n            <a href=\"https://su.edu.pk/images/CdcGallery/42.jpg\" title=\"Pic 2\">\\n                <img src=\"https://su.edu.pk/images/CdcGallery/42.jpg\" alt=\"Pic 2\">\\n            </a>\\n        </li>\\n        <li>\\n            <a href=\"https://su.edu.pk/images/CdcGallery/43.jpg\" title=\"Pic 2\">\\n                <img src=\"https://su.edu.pk/images/CdcGallery/43.jpg\" alt=\"Pic 2\">\\n            </a>\\n        </li>\\n        <li>\\n            <a href=\"https://su.edu.pk/images/CdcGallery/44.jpg\" title=\"Pic 2\">\\n                <img src=\"https://su.edu.pk/images/CdcGallery/44.jpg\" alt=\"Pic 2\">\\n            </a>\\n        </li>\\n        <li>\\n            <a href=\"https://su.edu.pk/images/CdcGallery/45.jpg\" title=\"Pic 3\">\\n                <img src=\"https://su.edu.pk/images/CdcGallery/45.jpg\" alt=\"Pic 3\">\\n            </a>\\n        </li>\\n        <li>\\n            <a href=\"https://su.edu.pk/images/CdcGallery/46.jpg\" title=\"Pic 3\">\\n                <img src=\"https://su.edu.pk/images/CdcGallery/46.jpg\" alt=\"Pic 3\">\\n            </a>\\n        </li>\\n        <li>\\n            <a href=\"https://su.edu.pk/images/CdcGallery/47.jpg\" title=\"Pic 4\">\\n                <img src=\"https://su.edu.pk/images/CdcGallery/47.jpg\" alt=\"Pic 3\">\\n            </a>\\n        </li>\\n        <li>\\n            <a href=\"https://su.edu.pk/images/CdcGallery/48.jpg\" title=\"Pic 4\">\\n                <img src=\"https://su.edu.pk/images/CdcGallery/48.jpg\" alt=\"Pic 3\">\\n            </a>\\n        </li>\\n        <li>\\n            <a href=\"https://su.edu.pk/images/CdcGallery/49.jpg\" title=\"Pic 2\">\\n                <img src=\"https://su.edu.pk/images/CdcGallery/49.jpg\" alt=\"Pic 2\">\\n            </a>\\n        </li>\\n        <li>\\n            <a href=\"https://su.edu.pk/images/CdcGallery/50.jpg\" title=\"Pic 3\">\\n                <img src=\"https://su.edu.pk/images/CdcGallery/50.jpg\" alt=\"Pic 3\">\\n            </a>\\n        </li>\\n        <li>\\n            <a href=\"https://su.edu.pk/images/CdcGallery/51.jpg\" title=\"Pic 2\">\\n                <img src=\"https://su.edu.pk/images/CdcGallery/51.jpg\" alt=\"Pic 2\">\\n            </a>\\n        </li>`);\\n        $(\".gallery\").magnificPopup(\\'open\\');\\n    })\\n\\n    $(\".PicsGallery\").on(\"click\", function() {\\n        $(\".gallery\").html(`\\n\\n        <li>\\n            <a href=\"https://su.edu.pk/images/PicsGallery/1.jpg\" title=\"Pic 2\">\\n                <img src=\"https://su.edu.pk/images/PicsGallery/1.jpg\" alt=\"Pic 2\">\\n            </a>\\n        </li>\\n        <li>\\n            <a href=\"https://su.edu.pk/images/PicsGallery/2.jpg\" title=\"Pic 2\">\\n                <img src=\"https://su.edu.pk/images/PicsGallery/2.jpg\" alt=\"Pic 2\">\\n            </a>\\n        </li>\\n        <li>\\n            <a href=\"https://su.edu.pk/images/PicsGallery/3.jpg\" title=\"Pic 2\">\\n                <img src=\"https://su.edu.pk/images/PicsGallery/3.jpg\" alt=\"Pic 2\">\\n            </a>\\n        </li>\\n        <li>\\n            <a href=\"https://su.edu.pk/images/PicsGallery/4.jpg\" title=\"Pic 2\">\\n                <img src=\"https://su.edu.pk/images/PicsGallery/4.jpg\" alt=\"Pic 2\">\\n            </a>\\n        </li>\\n        <li>\\n            <a href=\"https://su.edu.pk/images/PicsGallery/5.jpg\" title=\"Pic 2\">\\n                <img src=\"https://su.edu.pk/images/PicsGallery/5.jpg\" alt=\"Pic 2\">\\n            </a>\\n        </li>\\n        <li>\\n            <a href=\"https://su.edu.pk/images/PicsGallery/6.jpg\" title=\"Pic 2\">\\n                <img src=\"https://su.edu.pk/images/PicsGallery/6.jpg\" alt=\"Pic 2\">\\n            </a>\\n        </li>\\n        <li>\\n            <a href=\"https://su.edu.pk/images/PicsGallery/7.jpg\" title=\"Pic 2\">\\n                <img src=\"https://su.edu.pk/images/PicsGallery/7.jpg\" alt=\"Pic 2\">\\n            </a>\\n        </li>\\n        <li>\\n            <a href=\"https://su.edu.pk/images/PicsGallery/8.jpg\" title=\"Pic 2\">\\n                <img src=\"https://su.edu.pk/images/PicsGallery/8.jpg\" alt=\"Pic 2\">\\n            </a>\\n        </li>\\n        <li>\\n            <a href=\"https://su.edu.pk/images/PicsGallery/9.jpg\" title=\"Pic 2\">\\n                <img src=\"https://su.edu.pk/images/PicsGallery/9.jpg\" alt=\"Pic 2\">\\n            </a>\\n        </li>\\n        <li>\\n            <a href=\"https://su.edu.pk/images/PicsGallery/10.jpg\" title=\"Pic 2\">\\n                <img src=\"https://su.edu.pk/images/PicsGallery/10.jpg\" alt=\"Pic 2\">\\n            </a>\\n        </li>\\n        <li>\\n            <a href=\"https://su.edu.pk/images/PicsGallery/11.jpeg\" title=\"Pic 2\">\\n                <img src=\"https://su.edu.pk/images/PicsGallery/11.jpeg\" alt=\"Pic 2\">\\n            </a>\\n        </li>\\n        <li>\\n            <a href=\"https://su.edu.pk/images/PicsGallery/12.jpeg\" title=\"Pic 2\">\\n                <img src=\"https://su.edu.pk/images/PicsGallery/12.jpeg\" alt=\"Pic 2\">\\n            </a>\\n        </li>\\n        <li>\\n            <a href=\"https://su.edu.pk/images/PicsGallery/13.jpeg\" title=\"Pic 2\">\\n                <img src=\"https://su.edu.pk/images/PicsGallery/13.jpeg\" alt=\"Pic 2\">\\n            </a>\\n        </li>\\n        `);\\n        $(\".gallery\").magnificPopup(\\'open\\');\\n    })\\n\\n    $(\".SportsGallery\").on(\"click\", function() {\\n        $(\".gallery\").html(`\\n\\n        <li>\\n            <a href=\"https://su.edu.pk/images/Sports_Gallery/1.jpg\" title=\"Pic 2\">\\n                <img src=\"https://su.edu.pk/images/Sports_Gallery/1.jpg\" alt=\"Pic 2\">\\n            </a>\\n        </li>\\n        <li>\\n            <a href=\"https://su.edu.pk/images/Sports_Gallery/2.jpg\" title=\"Pic 2\">\\n                <img src=\"https://su.edu.pk/images/Sports_Gallery/2.jpg\" alt=\"Pic 2\">\\n            </a>\\n        </li>\\n        <li>\\n            <a href=\"https://su.edu.pk/images/Sports_Gallery/3.jpg\" title=\"Pic 2\">\\n                <img src=\"https://su.edu.pk/images/Sports_Gallery/3.jpg\" alt=\"Pic 2\">\\n            </a>\\n        </li>\\n        <li>\\n            <a href=\"https://su.edu.pk/images/Sports_Gallery/4.jpg\" title=\"Pic 2\">\\n                <img src=\"https://su.edu.pk/images/Sports_Gallery/4.jpg\" alt=\"Pic 2\">\\n            </a>\\n        </li>\\n        <li>\\n            <a href=\"https://su.edu.pk/images/Sports_Gallery/5.jpg\" title=\"Pic 2\">\\n                <img src=\"https://su.edu.pk/images/Sports_Gallery/5.jpg\" alt=\"Pic 2\">\\n            </a>\\n        </li>\\n        <li>\\n            <a href=\"https://su.edu.pk/images/Sports_Gallery/6.jpg\" title=\"Pic 2\">\\n                <img src=\"https://su.edu.pk/images/Sports_Gallery/6.jpg\" alt=\"Pic 2\">\\n            </a>\\n        </li>\\n        <li>\\n            <a href=\"https://su.edu.pk/images/Sports_Gallery/7.jpg\" title=\"Pic 2\">\\n                <img src=\"https://su.edu.pk/images/Sports_Gallery/7.jpg\" alt=\"Pic 2\">\\n            </a>\\n        </li>\\n        <li>\\n            <a href=\"https://su.edu.pk/images/Sports_Gallery/8.jpg\" title=\"Pic 2\">\\n                <img src=\"https://su.edu.pk/images/Sports_Gallery/8.jpg\" alt=\"Pic 2\">\\n            </a>\\n        </li>\\n        <li>\\n            <a href=\"https://su.edu.pk/images/Sports_Gallery/9.jpg\" title=\"Pic 2\">\\n                <img src=\"https://su.edu.pk/images/Sports_Gallery/9.jpg\" alt=\"Pic 2\">\\n            </a>\\n        </li>\\n        <li>\\n            <a href=\"https://su.edu.pk/images/Sports_Gallery/10.jpg\" title=\"Pic 2\">\\n                <img src=\"https://su.edu.pk/images/Sports_Gallery/10.jpg\" alt=\"Pic 2\">\\n            </a>\\n        </li>\\n        `);\\n        $(\".gallery\").magnificPopup(\\'open\\');\\n    })\\n\\n    $(\".ArtGallery\").on(\"click\", function() {\\n        $(\".gallery\").html(`\\n\\n        <li>\\n            <a href=\"https://su.edu.pk/images/z_art_gallery/1.png?v=1.0.1.2\" title=\"Pic 2\">\\n                <img src=\"https://su.edu.pk/images/z_art_gallery/1.png?v=1.0.1.2\" alt=\"Pic 2\">\\n            </a>\\n        </li>\\n        <li>\\n            <a href=\"https://su.edu.pk/images/z_art_gallery/2.png?v=1.0.1.2\" title=\"Pic 2\">\\n                <img src=\"https://su.edu.pk/images/z_art_gallery/2.png?v=1.0.1.2\" alt=\"Pic 2\">\\n            </a>\\n        </li>\\n        <li>\\n            <a href=\"https://su.edu.pk/images/z_art_gallery/3.png?v=1.0.1.2\" title=\"Pic 2\">\\n                <img src=\"https://su.edu.pk/images/z_art_gallery/3.png?v=1.0.1.2\" alt=\"Pic 2\">\\n            </a>\\n        </li>\\n        <li>\\n            <a href=\"https://su.edu.pk/images/z_art_gallery/4.png?v=1.0.1.2\" title=\"Pic 2\">\\n                <img src=\"https://su.edu.pk/images/z_art_gallery/4.png?v=1.0.1.2\" alt=\"Pic 2\">\\n            </a>\\n        </li>\\n        <li>\\n            <a href=\"https://su.edu.pk/images/z_art_gallery/5.png?v=1.0.1.2\" title=\"Pic 2\">\\n                <img src=\"https://su.edu.pk/images/z_art_gallery/5.png?v=1.0.1.2\" alt=\"Pic 2\">\\n            </a>\\n        </li>\\n        <li>\\n            <a href=\"https://su.edu.pk/images/z_art_gallery/6.png?v=1.0.1.2\" title=\"Pic 2\">\\n                <img src=\"https://su.edu.pk/images/z_art_gallery/6.png?v=1.0.1.2\" alt=\"Pic 2\">\\n            </a>\\n        </li>\\n        <li>\\n            <a href=\"https://su.edu.pk/images/z_art_gallery/7.png?v=1.0.1.2\" title=\"Pic 2\">\\n                <img src=\"https://su.edu.pk/images/z_art_gallery/7.png?v=1.0.1.2\" alt=\"Pic 2\">\\n            </a>\\n        </li>\\n        <li>\\n            <a href=\"https://su.edu.pk/images/z_art_gallery/8.png?v=1.0.1.2\" title=\"Pic 2\">\\n                <img src=\"https://su.edu.pk/images/z_art_gallery/8.png?v=1.0.1.2\" alt=\"Pic 2\">\\n            </a>\\n        </li>\\n\\n       `);\\n        $(\".gallery\").magnificPopup(\\'open\\');\\n    })\\n\\n    $(\\'.gallery\\').each(function() {\\n\\n        $(\\'.gallery\\').magnificPopup({\\n            delegate: \\'a\\',\\n            type: \\'image\\',\\n            tLoading: \\'Loading image #%curr%...\\',\\n            mainClass: \\'mfp-img-mobile\\',\\n            gallery: {\\n                enabled: true,\\n                navigateByImgClick: true,\\n                preload: [0, 1] // Will preload 0 - before current, and 1 after the current image\\n            },\\n            image: {\\n                tError: \\'<a href=\"%url%\">The image #%curr%</a> could not be loaded.\\',\\n                titleSrc: function(item) {\\n                    //return //item.el.attr(\\'title\\');\\n                    var $gallery = $(\\'.gallery\\');\\n                    var $result = \\'\\';\\n                    if ($gallery.find(\\'li\\').length > 0) {\\n                        $result = \\'<div class=\"mfp-pager\">\\' +\\n                            \\'<div class=\"arrow_prev\">\\' +\\n                            // \\'<button type=\"button\" class=\"prev arrow\" onclick=\"javascript:$(\\\\\\'.gallery\\\\\\').magnificPopup(\\\\\\'prev\\\\\\');return false;\">Previous</button>\\' +\\n                            \\'</div>\\' +\\n                            \\'<div class=\"dots\">\\' +\\n                            \\'<ul class=\"dots\" style=\"display: inline-block;\">\\';\\n                        for (var i = 0; i < $gallery.find(\\'li\\').length; i++) {\\n                            var $cl_active = \\'\\';\\n                            if (item.index == i) $cl_active = \\' class=\"active\"\\';\\n                            else $cl_active = \\'\\';\\n                            var $thumb = $gallery.find(\\'li:eq(\\' + i + \\')\\').find(\\'img\\').attr(\\'src\\');\\n                            $result += \\'<li\\' + $cl_active + \\'>\\' +\\n                                \\'<button type=\"button\" onclick=\"javascript:$(\\\\\\'.gallery\\\\\\').magnificPopup(\\\\\\'goTo\\\\\\', \\' +\\n                                i + \\');return false;\"><img src=\"\\' + $thumb +\\n                                \\'?v=1.0.1.2\" width=\"50\"></button>\\' +\\n                                \\'</li>\\';\\n                        }\\n                        $result += \\'</ul>\\' +\\n                            \\'</div>\\' +\\n                            \\'<div class=\"arrow_next\">\\' +\\n                            // \\'<button type=\"button\" class=\"next arrow\" onclick=\"javascript:$(\\\\\\'.gallery\\\\\\').magnificPopup(\\\\\\'next\\\\\\');return false;\">Next</button>\\' +\\n                            \\'</div>\\' +\\n                            \\'</div>\\';\\n                    }\\n                    return $result;\\n                }\\n            }\\n        });\\n    });\\n\\n    $(document).ready(function() {\\n\\n        //$(\\'.js-example-basic-single\\').select2();\\n    });\\n\\n    $(\\'.main-carousel-controller\\').slick({\\n        dots: false,\\n        infinite: false,\\n        speed: 300,\\n        slidesToShow: 4,\\n        slidesToScroll: 4,\\n        cssEase: \\'linear\\',\\n        slide: \\'li\\',\\n        autoplay: true,\\n        autoplaySpeed: 1500,\\n        arrows: true,\\n        // prevArrow: prevButton,\\n        // nextArrow: nextButton,\\n        adaptiveHeight: true,\\n        responsive: [{\\n                breakpoint: 1024,\\n                settings: {\\n                    slidesToShow: 2,\\n                    slidesToScroll: 2,\\n                    infinite: true,\\n                    dots: true\\n                }\\n            },\\n            {\\n                breakpoint: 600,\\n                settings: {\\n                    slidesToShow: 2,\\n                    slidesToScroll: 2\\n                }\\n            },\\n            {\\n                breakpoint: 480,\\n                settings: {\\n                    slidesToShow: 1,\\n                    slidesToScroll: 1\\n                }\\n            }\\n        ],\\n    });\\n\\n    $(function() {\\n        $(document).ready(function() {\\n            $(\\'#downloads\\').DataTable();\\n        });\\n    });\\n\\n    $(document).ready(function() {\\n        // your code\\n        $(\\'.why-to-choose-filter\\').isotope({ // options\\n            filter: \\'.Academic_Excellence\\'\\n        });\\n\\n        // filter items on button click\\n        $(\\'.filter-button-group\\').on(\\'click\\', \\'li\\', function() {\\n            var filterValue = $(this).attr(\\'data-filter\\');\\n            $(\\'.why-to-choose-filter\\').isotope({\\n                filter: filterValue\\n            });\\n            $(\\'.filter-button-group li\\').removeClass(\\'active\\');\\n            $(this).addClass(\\'active\\');\\n        })\\n    });\\n    $(\\'.new-grid\\').isotope({\\n        itemSelector: \\'.grid-item\\',\\n        percentPosition: true,\\n        masonry: {\\n            columnWidth: \\'.grid-sizer\\',\\n            gutter: \\'.gutter-sizer\\'\\n        }\\n    });\\n\\n    $(document).ready(function() {\\n        $(\".basic-datatable\").DataTable({\\n            responsive: true,\\n        });\\n        $(\".basic-datatable-download\").DataTable({\\n            responsive: true,\\n            bFilter: false,\\n            lengthChange: false,\\n            \"paging\": false,\\n            \"ordering\": false\\n        });\\n    });\\n\\n\\n\\n    \\n\\n    $(document).ready(function() {\\n        jQuery(\\'#lunch-demo\\').click();\\n        /* Get iframe src attribute value i.e. YouTube video url\\n        and store it in a variable */\\n        // var url = $(\"#u-video\").attr(\\'src\\');\\n\\n        /* Assign empty url value to the iframe src attribute when\\n        modal hide, which stop the video playing */\\n        // $(\"#myModal\").on(\\'hide.bs.modal\\', function(){\\n        //   $(\"#u-video\").attr(\\'src\\', \\'\\');\\n        //});\\n        //     $(\"#myModal\").on(\\'show.bs.modal\\', function(){\\n\\n        // });\\n\\n        // jQuery(\\'#lunch-demo\\').click();\\n        /* Assign the initially stored url back to the iframe src\\n        attribute when modal is displayed again */\\n        //  $(\"#myModal\").on(\\'show.bs.modal\\', function(){\\n\\n        //  $(\"#u-video\").attr(\\'src\\', url);\\n        //});\\n\\n        // jQuery(\\'#lunch-demo\\').click();\\n\\n    });\\n </script>\\n <style>\\n  .modal-backdrop {\\n        z-index: 0 !important;\\n        margin-top: 10px;\\n    }\\n </style>\\n <style>\\n  .modal-body p {\\n        margin-bottom: 0px !important;\\n    }\\n\\n    @media (min-width: 1024px) {\\n        .modal-content {\\n            width: 600px\\n        }\\n\\n        /* Your desktop-only styles here */\\n    }\\n\\n    @media (min-width: 768px) {\\n        .modal-content {\\n            width: 600px\\n        }\\n\\n        /* Styles for tablets and larger screens (including desktops) */\\n    }\\n </style>\\n <!-- <a style=\"display: none;\" href=\"#myModal\" id=\"lunch-demo\" class=\"btn btn-primary btn-lg\" data-toggle=\"modal\">Launch Demo\\n    Modal</a> -->\\n <div class=\"modal fade\" id=\"myModal\">\\n  <div class=\"modal-dialog\">\\n   <div class=\"modal-content\" style=\"color:black !important;\">\\n    <div class=\"modal-header\" style=\"background-color: red;\">\\n     <h5 class=\"modal-title\" style=\"font-size: 23px;\">\\n      <b>\\n       🚀 Get Certified &amp; Get Reimbursed! 🌍\\n      </b>\\n     </h5>\\n     <button aria-label=\"Close\" class=\"close\" data-dismiss=\"modal\" type=\"button\">\\n      <span aria-hidden=\"true\" style=\"font-size: 36px;color:white\">\\n       ×\\n      </span>\\n     </button>\\n    </div>\\n    <style>\\n     /* .image {\\n                        background: #34495e;\\n                        width: 475px;\\n                        height: 625px;\\n                      } */\\n                .image-contain {\\n                    object-fit: contain;\\n                    object-position: center;\\n                }\\n\\n                .image-cover {\\n                    object-fit: cover;\\n                    object-position: right top;\\n                }\\n\\n                .modal-content .gdlr-core-fluid-video-wrapper {\\n\\n                    padding-top: 238px !important\\n                }\\n    </style>\\n    <div class=\"modal-body\">\\n     <p class=\"text-justify\">\\n      Enroll in a Global IT Certification Before March Ends for current financial year!\\n      <br/>\\n      ✅ Submit Payment Proof for Reimbursement in the registration portal for Current Financial Budget reimbursement.\\n      <br/>\\n      📩\\n      <a href=\"https://certifications.pitb.gov.pk/register\" target=\"_blank\">\\n       Register Today &amp; Secure Your Spot!\\n      </a>\\n     </p>\\n    </div>\\n   </div>\\n  </div>\\n </div>\\n <style type=\"text/css\">\\n  .embed-responsive-16by9::before {\\n        padding-top: 0px !important\\n    }\\n </style>\\n</html>\\n'"
      ]
     },
     "metadata": {},
     "execution_count": 3
    }
   ],
   "source": [
    "soup.prettify()# bring code into structure format"
   ]
  },
  {
   "cell_type": "code",
   "execution_count": 7,
   "metadata": {},
   "outputs": [
    {
     "output_type": "stream",
     "name": "stdout",
     "text": [
      "3\n40\n3\n515\n186\n50\n4\n200+\n1\n48829\n22199\n396\n"
     ]
    }
   ],
   "source": [
    "x=soup.find_all(\"h2\")\n",
    "for i in x:\n",
    "    print(i.text)"
   ]
  },
  {
   "cell_type": "code",
   "execution_count": 8,
   "metadata": {},
   "outputs": [
    {
     "output_type": "stream",
     "name": "stdout",
     "text": [
      "None\n<class 'NoneType'>\n"
     ]
    }
   ],
   "source": [
    "comment = soup.p.string\n",
    "print(comment)         # This is a comment\n",
    "print(type(comment))"
   ]
  },
  {
   "cell_type": "code",
   "execution_count": 9,
   "metadata": {},
   "outputs": [
    {
     "output_type": "stream",
     "name": "stdout",
     "text": [
      "#\n[]\n"
     ]
    }
   ],
   "source": [
    "link = soup.a\n",
    "print(link['href'])  # https://example.com\n",
    "print(link['class']) # ['link']"
   ]
  },
  {
   "cell_type": "code",
   "execution_count": 14,
   "metadata": {},
   "outputs": [
    {
     "output_type": "stream",
     "name": "stdout",
     "text": [
      "#\n#uos-mobile-menu\n/\nhttps://su.edu.pk/aboutus\n#\nhttps://su.edu.pk/aboutus\n/CityOfEagles\nhttps://su.edu.pk/office/vice-chancellor\nhttps://su.edu.pk/page/global-outlook\nhttps://su.edu.pk/page/our_history\nhttps://su.edu.pk/rti\n/offices/all\nhttps://su.edu.pk/office/registrar-office\nhttps://su.edu.pk/office/treasurer\nhttps://su.edu.pk/office/oric\nhttps://su.edu.pk/office/controller-office\nhttps://su.edu.pk/office/hall-council\nhttps://su.edu.pk/office/resident-office\n#\nhttps://su.edu.pk/office/directorate-of-academics\nhttps://su.edu.pk/quality\nhttps://su.edu.pk/office/co-curricular-forum\nhttps://su.edu.pk/office/directorate-of-student-affairs\nhttps://su.edu.pk/office/directorate-of-sports\nhttps://su.edu.pk/office/public-relations\nhttps://su.edu.pk/office/directorate-of-it\nhttps://su.edu.pk/office/director-Implementation\nhttps://su.edu.pk/office/directorate-of-external-linkages\nhttps://su.edu.pk/office/directorate-of-procurement\n#\nhttps://su.edu.pk/office/pakistan-institite-of-china-studies\nhttps://su.edu.pk/office/human-resource-development-center\nhttps://su.edu.pk/office/international-centre-for-punjab-studies\nhttps://su.edu.pk/office/lincoln-corner\nhttps://su.edu.pk/office/Waheed-Wain-Incubation-Center\nhttps://su.edu.pk/office/women-development-center\nhttps://su.edu.pk/office/e-rozgaar\nhttps://su.edu.pk/office/career-development-center\nhttps://su.edu.pk/office/facilitation-center\nhttps://su.edu.pk/office/counselling-center\n#\n#\nhttps://admissions.su.edu.pk/\nhttps://www.youtube.com/watch?v=49-8ZHKGrgU\n/admission-regulations\n#\nhttps://su.edu.pk/notification/1922\nhttps://admissions.su.edu.pk/importantdates\nhttps://su.edu.pk/upload/FeeStructure.pdf\n/upload/UOS-Prospectus-2024.pdf\nhttps://su.edu.pk/upload/downloads/Guidelines%20for%20Applicants%20%E2%80%93%20Admission%20Fall%202023%202_1692578994.pdf\n#\n/challan\n#\nhttps://su.edu.pk/scholarships\nhttps://su.edu.pk/academic-programs\nhttps://su.edu.pk/office/hall-council/hostels\n#\n/academic-programs\n/faculty/Faculty-of-Sciences\n/faculty/Faculty-of-Agriculture\n/faculty/Faculty-of-Health-Sciences\n/faculty/Faculty-of-Arts-&-Humanities\n/faculty/Faculty-of-Pharmacy\n/faculty/Faculty-of-Social--Sciences\n/faculty/Faculty-of-Engineering-and-Technology\n/faculty/faculty-of-computing-and-information-technology\n#\nhttps://su.edu.pk/office/directorate-of-academics#academic_calendar\nhttps://su.edu.pk/Rules-and-Regulations\nhttps://su.edu.pk/upload/UOS-Prospectus-2024.pdf\n#\nhttps://su.edu.pk/office/oric\nhttps://su.edu.pk/office/oric\nhttps://su.edu.pk/office/oric#Research_Highlights\nhttps://su.edu.pk/office/central-research-lab\nhttps://su.edu.pk/challan/eng\nhttps://su.edu.pk/office/oric#call_for_papers\n/oric/researchproject\n/oric/Mou\nhttps://su.edu.pk/office/oric/research-facilities\n/oric/oric_travel_grants\n/oric/oric_startup_grants\nhttps://su.edu.pk/office/oric#CORNER-slider-oric\n/oric/conferences\n/oric/research_publication_detail\n/tisc\n/students\n#\nhttps://su.edu.pk/office/directorate-of-sports\nhttps://su.edu.pk/office/co-curricular-forum\nhttps://su.edu.pk/office/hall-council/hostels\n#\nhttp://www.digitallibrary.edu.pk/sargodhauni.html\n/wazir_agha_library\nhttps://su.edu.pk/office/zubeida-agha-art-gallery\nhttps://su.edu.pk/jamia-masjid-abid\n#\nhttps://su.edu.pk/office/co-curricular-forum#33\nhttps://su.edu.pk/office/directorate-of-student-affairs\n/scholarships\nhttps://usargodha.onthehub.com/WebStore/Security/Signin.aspx?rurl=%2fWebStore%2fProductsByMajorVersionList.aspx%3fcmi_mnuMain%3dbdba23cf-e05e-e011-971f-0030487d8897%26JSEnabled%3d1\n#\n#\nhttps://su.edu.pk/office/controller-office\n/latest-results\n/all-results\n/challan\nhttp://annual.su.edu.pk/Examination/RollNoSlip/RollNoSlips/\nhttp://annual.su.edu.pk/Examination/Reports/Result/\nhttp://annual.su.edu.pk/examination\n#\n/downloads?q=&tag_id=18\n/downloads?q=&tag_id=15\nhttps://su.edu.pk/downloads?q=&tag_id=17\n/downloads?q=&tag_id=16\n/downloads?q=&tag_id=45\n#\nhttp://degreecell.su.edu.pk:88/\nhttp://degreecell.su.edu.pk:88/\nhttp://degreecell.su.edu.pk:88/\n/paper-rechecking\nhttps://su.edu.pk/directory\n/how-to-apply-for-change-of-subjects-paper\n#\n#\nhttps://www.facebook.com/SargodhaUniversity.official/\nhttps://twitter.com/SUedu_pk\nhttps://www.instagram.com/sargodhauniversity/\nhttps://www.youtube.com/watch?v=vyly_usWsyA\nhttps://soundcloud.com/campusradio982\nhttps://g.page/SU-official?share\nhttps://researcharena2024.su.edu.pk/#\nhttps://su.edu.pk/upload/Policy%20for%20Students%20with%20Disabilities%202021-%20Amended.pdf\nhttps://su.edu.pk/rti\nhttps://su.edu.pk/rti\nhttps://su.edu.pk/activity/dengue\nhttps://lms.su.edu.pk/\nhttps://su.edu.pk/publications_all\n#\nhttps://su.edu.pk/alumni-association\nhttps://alumni.su.edu.pk\nhttps://admissions.su.edu.pk/\nhttps://www.facebook.com/SargodhaUniversity.official/\nhttps://twitter.com/SUedu_pk\nhttps://www.instagram.com/sargodhauniversity/\nhttps://www.youtube.com/@officialuniversityofsargodha/featured\nhttps://soundcloud.com/campusradio982\nhttps://www.linkedin.com/company/97906179/admin/feed/posts/\nhttps://g.page/SU-official?share\n\nhttps://researcharena2024.su.edu.pk/#\nhttps://su.edu.pk/upload/Policy%20for%20Students%20with%20Disabilities%202021-%20Amended.pdf\nhttps://ercp.su.edu.pk\nhttps://su.edu.pk/rti\nhttps://su.edu.pk/activity/dengue\nhttps://su.edu.pk/publications_all\n#\nhttps://su.edu.pk/alumni-association\nhttps://alumni.su.edu.pk/\nhttps://admissions.su.edu.pk/\n/\n/\nhttps://su.edu.pk/aboutus\n#\nhttps://su.edu.pk/aboutus\n/CityOfEagles\nhttps://su.edu.pk/office/vice-chancellor\nhttps://su.edu.pk/page/global-outlook\nhttps://su.edu.pk/page/our_history\nhttps://su.edu.pk/rti\n/offices/all\nhttps://su.edu.pk/office/registrar-office\nhttps://su.edu.pk/office/treasurer\nhttps://su.edu.pk/office/oric\nhttps://su.edu.pk/office/controller-office\nhttps://su.edu.pk/office/hall-council\nhttps://su.edu.pk/office/resident-office\n#\nhttps://su.edu.pk/office/directorate-of-academics\nhttps://su.edu.pk/quality\nhttps://su.edu.pk/office/co-curricular-forum\nhttps://su.edu.pk/office/directorate-of-student-affairs\nhttps://su.edu.pk/office/directorate-of-sports\nhttps://su.edu.pk/office/public-relations\nhttps://su.edu.pk/office/directorate-of-it\nhttps://su.edu.pk/office/director-Implementation\nhttps://su.edu.pk/office/directorate-of-external-linkages\nhttps://su.edu.pk/office/directorate-of-procurement\n#\nhttps://su.edu.pk/office/pakistan-institite-of-china-studies\nhttps://su.edu.pk/office/human-resource-development-center\nhttps://su.edu.pk/office/international-centre-for-punjab-studies\nhttps://su.edu.pk/office/lincoln-corner\nhttps://su.edu.pk/office/Waheed-Wain-Incubation-Center\nhttps://su.edu.pk/office/women-development-center\nhttps://su.edu.pk/office/e-rozgaar\nhttps://su.edu.pk/office/career-development-center\nhttps://su.edu.pk/office/facilitation-center\nhttps://su.edu.pk/office/counselling-center\n#\n#\nhttps://admissions.su.edu.pk/\nhttps://www.youtube.com/watch?v=49-8ZHKGrgU\n/admission-regulations\n#\nhttps://su.edu.pk/notification/1922\nhttps://su.edu.pk/upload/FeeStructure.pdf\n/upload/UOS-Prospectus-2024.pdf\nhttps://su.edu.pk/upload/downloads/Guidelines%20for%20Applicants%20%E2%80%93%20Admission%20Fall%202023%202_1692578994.pdf\n#\n/challan\n#\nhttps://su.edu.pk/scholarships\nhttps://su.edu.pk/upload/Academic-Programs-Eligibilities-and-Terminal-Degrees.pdf\nhttps://su.edu.pk/office/hall-council/hostels\n#\n/academic-programs\n/faculty/Faculty-of-Sciences\n/faculty/Faculty-of-Agriculture\n/faculty/Faculty-of-Health-Sciences\n/faculty/Faculty-of-Arts-&-Humanities\n/academic-programs\n/faculty/Faculty-of-Pharmacy\n/faculty/Faculty-of-Social--Sciences\n/faculty/Faculty-of-Engineering-and-Technology\n/faculty/faculty-of-computing-and-information-technology\n#\nhttps://su.edu.pk/office/directorate-of-academics#academic_calendar\nhttps://su.edu.pk/Rules-and-Regulations\nhttps://su.edu.pk/upload/UOS-Prospectus-2024.pdf\nhttps://su.edu.pk/office/oric\nhttps://su.edu.pk/office/oric\nhttps://su.edu.pk/office/oric\nhttps://su.edu.pk/office/oric#Research_Highlights\nhttps://su.edu.pk/office/oric#call_for_papers\n/oric/researchproject\n#\n/oric/Mou\nhttps://su.edu.pk/office/oric/research-facilities\n/oric/oric_travel_grants\n/oric/oric_startup_grants\n#\nhttps://su.edu.pk/office/oric#CORNER-slider-oric\n/oric/conferences\n/oric/research_publication_detail\n/tisc\n#\nhttps://su.edu.pk/office/central-research-lab\nhttps://su.edu.pk/challan/eng\n/students\nhttps://su.edu.pk/office/directorate-of-sports\nhttps://su.edu.pk/office/co-curricular-forum\nhttps://su.edu.pk/office/hall-council/hostels\nhttp://www.digitallibrary.edu.pk/sargodhauni.html\n/wazir_agha_library\nhttps://su.edu.pk/office/zubeida-agha-art-gallery\nhttps://su.edu.pk/jamia-masjid-abid\n#\nhttps://su.edu.pk/office/co-curricular-forum#33\nhttps://su.edu.pk/office/directorate-of-student-affairs\n/scholarships\nhttps://usargodha.onthehub.com/WebStore/Security/Signin.aspx?rurl=%2fWebStore%2fProductsByMajorVersionList.aspx%3fcmi_mnuMain%3dbdba23cf-e05e-e011-971f-0030487d8897%26JSEnabled%3d1\n#\nhttps://su.edu.pk/office/controller-office\n/latest-results\n/all-results\n/challan\nhttp://annual.su.edu.pk/Examination/RollNoSlip/RollNoSlips/\nhttp://annual.su.edu.pk/Examination/Reports/Result/\nhttp://annual.su.edu.pk/examination\n#\n/downloads?q=&tag_id=18\n/downloads?q=&tag_id=15\nhttps://su.edu.pk/downloads?q=&tag_id=17\n/downloads?q=&tag_id=16\n/downloads?q=&tag_id=45\n#\nhttp://degreecell.su.edu.pk:88/\nhttp://degreecell.su.edu.pk:88/\nhttp://degreecell.su.edu.pk:88/\n/paper-rechecking\nhttps://su.edu.pk/directory\n#\n/how-to-apply-for-change-of-subjects-paper\nhttps://su.edu.pk/upload/Important-Instructions.pdf\nhttps://erozgaar.uos.edu.pk/\n#\nhttps://hostels.su.edu.pk/login\n/affiliated-colleges\n/challan\n/downloads\nhttp://transport.su.edu.pk\nhttps://admissions.uos.edu.pk/\nhttps://su.edu.pk/upload/Academic-Programs-Eligibilities-and-Terminal-Degrees.pdf\nhttps://su.edu.pk/upload/FeeStructure.pdf\nupload/UOS-Prospectus-2024.pdf\n/upload/Hostel_Guide_Book_2023.pdf\n/scholarships\n/upload/Foreign Student Guide 2020-21.pdf\n/#why-choose-su\n/sustainability\n/notification/2291\n/notification/2290\n/notification/2261\n/notification/2259\n/downloads\n/office/oric#CORNER-slider-oric\n/publication/all\noric/conferences\n/news/Prof-Dr-Mian-Ghulam-Yasin-Retires-After-Distinguished-Service-at-the-University-of-Sargodha\n/news/Laptop-Distribution-Ceremony-Held-at-University-of-Sargodha\n/news/UoS-Distributes-Prizes-among-the-Winners-of-Annual-Inter-Departmental-Competitions\n/news/University-of-Sargodha-Sets-a-New-Benchmark-with-Completion-of-2.6-MW-Solar-Projects\n/news/University-of-Sargodha-Plants-500-Trees-Under-Plant-for-Pakistan-Drive\n/news/University-of-Sargodha-Marks-International-Day-of-Forests-with-Tree-Plantation-Drive-Walk-and-Seminar\n/news/The-Power-of-Effective-Coordination-Workshop-Concludes-at-University-of-Sargodha\n/news/University-of-Sargodha-Mark-World-Women’s-Day\n/news/University-of-Sargodha-Recognizes-Staff-for-11th-Convocation-Success\n/news/UoS-and-Fitwell-Hub-agreed-to-establish-student-led-Digital-Clinic-and-Central-Healthcare-Hub\n/news/University-of-Sargodha-Conducted-Leadership-Workshop-for-Academic-Heads\n/news/Sargodha-University-Inaugurates-Executive-Classroom-at-Noon-Business-School\n/news/UoS-and-Give-Life-Foundation-to-Collaborate-on-Health-Awareness-Initiatives\n/news/The-Inspection-Committee-of-NAEAC-Visits-UoS\n/news/Vice-Chancellor-University-of-Sargodha-attended-Conference-at-Governor-House-Lahore\n/news/University-of-Sargodha-Hosts-Training-Workshop-on-Intellectual-Property-Rights\n/news/HRDC-Conducts-Two-Day-Training-Workshop-on-Effective-Coordination-at-UoS\n/news/UoS-promotes-cultural-harmony-through-Chinese-New-Year-celebrations\n/news/Annual-Blood-Group-Checking-&-Donor-Registration-Camp-Held-at-the-University-of-Sargodha\n/news/UoS-Seminar-Highlights-Historical-and-Contemporary-Middle-East-Issues\n/news_archives/all\nhttps://su.edu.pk/images/WhyToChoose/1.jpg\nhttps://su.edu.pk/images/WhyToChoose/2.jpg\nhttps://su.edu.pk/images/WhyToChoose/3.jpg\nhttps://su.edu.pk/images/WhyToChoose/4.jpg\nhttps://su.edu.pk/images/WhyToChoose/2.jpg\nhttps://su.edu.pk/images/WhyToChoose/3.jpg\nhttps://su.edu.pk/images/WhyToChoose/4.jpg\nhttps://su.edu.pk/images/WhyToChoose/1.jpg\nhttps://su.edu.pk/images/WhyToChoose/3.jpg\nhttps://su.edu.pk/images/WhyToChoose/4.jpg\nhttps://su.edu.pk/images/WhyToChoose/1.jpg\nhttps://su.edu.pk/images/WhyToChoose/2.jpg\n/page/global-outlook\nhttps://su.edu.pk/images/WhyToChoose/4.jpg\nhttps://su.edu.pk/images/WhyToChoose/1.jpg\nhttps://su.edu.pk/images/WhyToChoose/2.jpg\nhttps://su.edu.pk/images/WhyToChoose/3.jpg\nhttps://su.edu.pk/sdgs\nhttps://www.youtube.com/watch?v=vyly_usWsyA\nhttps://www.facebook.com/\nhttps://www.instagram.com/\n#\n#\nhttps://www.youtube.com/@officialuniversityofsargodha\nhttps://soundcloud.com/campusradio982\nhttps://su.edu.pk/faculty/Faculty-of-Agriculture\nhttps://su.edu.pk/faculty/Faculty-of-Arts-&-Humanities\nhttps://su.edu.pk/faculty/Faculty-of-Engineering-and-Technology\nhttps://su.edu.pk/faculty/Faculty-of-Medical-&-Health-Sciences\nhttps://su.edu.pk/faculty/Faculty-of-Pharmacy\nhttps://su.edu.pk/faculty/Faculty-of-Sciences\nhttps://su.edu.pk/faculty/Faculty-of-Social--Sciences\n#homegallery\nhttps://su.edu.pk/images/home-gallery/2.jpg\nhttps://su.edu.pk/images/home-gallery/3.jpg\nhttps://su.edu.pk/images/home-gallery/5.jpg\nhttps://su.edu.pk/images/home-gallery/6.JPG\nhttps://su.edu.pk/images/home-gallery/7.jpg\nhttps://su.edu.pk/images/home-gallery/8.jpg\nhttp://koha.pastic.gov.pk:5157/\nhttp://www.digitallibrary.edu.pk/sargodhauni.html\n/community-services\n/cdn-cgi/l/email-protection#1e777078715e6b716d307b7a6b306e75\n/cdn-cgi/l/email-protection#2140454c485252484e4f5261544e520f4445540f514a\nhttps://su.edu.pk/directory\n/downloads?q=&tag_id=47\nhttps://su.edu.pk/Dress_code\nhttp://punjabhec.gov.pk/complaint-cell-minister-for-higher-education-2/\nhttp://www.surveyofpakistan.gov.pk/SiteImage/Misc/files/political_map_pakistan.pdf\nhttps://su.edu.pk/wazir_agha_library/\nhttps://su.edu.pk/rti\nhttps://su.edu.pk/upload/rti/The_University_of_Sargodha_Ordinance _2002.pdf\nhttps://su.edu.pk/upload/rti/service_statutes_2006.pdf\nhttps://su.edu.pk/upload/rti/consultancy_agreement_main_campus.doc\nhttps://su.edu.pk/upload/rti/budget.pdf\nhttps://su.edu.pk/frequently-asked-questions\nhttps://su.edu.pk/web_cell\nhttps://certifications.pitb.gov.pk/register\n"
     ]
    }
   ],
   "source": [
    "# Extract and print all links\n",
    "for a in soup.find_all(\"a\", href=True):\n",
    "    print(a[\"href\"])\n",
    "\n"
   ]
  },
  {
   "cell_type": "code",
   "execution_count": 17,
   "metadata": {},
   "outputs": [
    {
     "output_type": "stream",
     "name": "stdout",
     "text": [
      "                                                 Links\n0                                                    #\n1                                     #uos-mobile-menu\n2                                                    /\n3                            https://su.edu.pk/aboutus\n4                                                    #\n..                                                 ...\n384  https://su.edu.pk/upload/rti/consultancy_agree...\n385            https://su.edu.pk/upload/rti/budget.pdf\n386       https://su.edu.pk/frequently-asked-questions\n387                         https://su.edu.pk/web_cell\n388        https://certifications.pitb.gov.pk/register\n\n[389 rows x 1 columns]\n"
     ]
    }
   ],
   "source": [
    "   import pandas as pd\n",
    "    # Extract links\n",
    "links = [a[\"href\"] for a in soup.find_all(\"a\", href=True)]\n",
    "\n",
    "# Create a DataFrame\n",
    "df = pd.DataFrame(links, columns=[\"Links\"])\n",
    "\n",
    "# Save to CSV file (optional)\n",
    "df.to_csv(\"links_dataframe.csv\", index=False)\n",
    "\n",
    "# Print the DataFrame\n",
    "print(df)\n",
    "df = pd.read_csv(\"links_dataframe.csv\")\n"
   ]
  },
  {
   "cell_type": "code",
   "execution_count": 25,
   "metadata": {},
   "outputs": [],
   "source": [
    "class_data=soup.find(\"div\",class_=\"uos-top-search-wrap\")\n",
    "if class_data:\n",
    "    paragraphs = class_data.find_all(\"p\")\n",
    "    for p in paragraphs:\n",
    "        print(p.text)\n",
    "else:\n",
    "    print(\"No matching <div class='content'> found!\")"
   ]
  },
  {
   "cell_type": "code",
   "execution_count": 26,
   "metadata": {},
   "outputs": [
    {
     "output_type": "stream",
     "name": "stdout",
     "text": [
      "\n                        With the blend of dynamic academic programs and research policies, we are vying to attain\n                        academic excellence invigorating research productivity through sustainable institutional\n                        development.\n                    \n"
     ]
    }
   ],
   "source": [
    "id_data = soup.find(\"div\", id=\"why-choose-su\")\n",
    "\n",
    "if id_data:\n",
    "    paragraphs = id_data.find_all(\"p\")\n",
    "    for p in paragraphs:\n",
    "        print(p.text)\n",
    "else:\n",
    "    print(\"No matching <div id='app-frontend'> found!\")"
   ]
  },
  {
   "cell_type": "code",
   "execution_count": 34,
   "metadata": {},
   "outputs": [
    {
     "output_type": "stream",
     "name": "stdout",
     "text": [
      "\n                        At UOS we are proud of our accomplishments. Together, faculty, students and staff\n                        contribute to create an amazing experience. Here are just a few reasons why UOS\n                        is\n                        the top varsity in the province of Punjab, Pakistan.\n                    \nCampuses\nDepartments\nInstitutes\nFaculty\nDegree Programs\nAdjunct Faculty\nConstituent Colleges\nAffiliated Colleges\nBusiness School\nGraduated Students\nEnrolled students\nvisiting Faculty\n"
     ]
    }
   ],
   "source": [
    "cl_data = soup.find(\"div\",class_=\"UOS-by-numbers mt-3 pt-5 pb-4\")\n",
    "\n",
    "if id_data:\n",
    "    paragraphs = cl_data.find_all(\"p\")\n",
    "    for p in paragraphs:\n",
    "        print(p.text)\n",
    "else:\n",
    "    print(\"No matching <div id='app-frontend'> found!\")"
   ]
  },
  {
   "cell_type": "code",
   "execution_count": 38,
   "metadata": {},
   "outputs": [
    {
     "output_type": "stream",
     "name": "stdout",
     "text": [
      "\n                    A major public sector university of Pakistan offering modern teaching and research facilities,\n                    including well-equipped classrooms, laboratories, and a vast collection of library material, with\n                    online access to books and journals.\n                    \n\n"
     ]
    }
   ],
   "source": [
    "cl_data = soup.find(\"div\",class_=\"section\")\n",
    "\n",
    "if id_data:\n",
    "    paragraphs = cl_data.find_all(\"p\")\n",
    "    for p in paragraphs:\n",
    "        print(p.text)\n",
    "else:\n",
    "    print(\"No matching <div id='app-frontend'> found!\")"
   ]
  },
  {
   "cell_type": "code",
   "execution_count": 39,
   "metadata": {},
   "outputs": [
    {
     "output_type": "stream",
     "name": "stdout",
     "text": [
      "https://su.edu.pk/images/final-logo-1.png?v=1.0.1.2\nhttps://su.edu.pk/images/final-logo-1.png?v=1.0.1.2\nhttps://su.edu.pk/upload/home-banners/CM-Laptops.jpeg\nhttps://su.edu.pk/upload/certification.jpeg\nhttps://su.edu.pk/upload/home-banners/e-rozgaar_latest.jpg\nhttps://su.edu.pk/upload/home-banners/transport-banner.jpg\nhttps://su.edu.pk/upload/home-banners/welcome.png\nhttps://su.edu.pk/upload/home-banners/hostels.jpeg\nhttps://su.edu.pk/images/journels.png?v=1.0.1.2\nhttps://su.edu.pk/images/research.png?v=1.0.1.2\nhttps://su.edu.pk/images/conference.png?v=1.0.1.2\n/upload/news/WhatsApp Image 2025-03-27 at 14.15.58_1743067095.jpeg?v=1.0.1.2\n/upload/news/WhatsApp Image 2025-03-26 at 14.59.15_1742985002.jpeg?v=1.0.1.2\n/upload/news/WhatsApp Image 2025-03-25 at 15.01.33_1742897235.jpeg?v=1.0.1.2\n/upload/news/WhatsApp Image 2025-03-24 at 13.35.32_1742805446.jpeg?v=1.0.1.2\n/upload/news/WhatsApp Image 2025-03-22 at 15.45.21_1742641153.jpeg?v=1.0.1.2\n/upload/news/WhatsApp Image 2025-03-21 at 13.43.44_1742549160.jpeg?v=1.0.1.2\n/upload/news/WhatsApp Image 2025-03-19 at 14.14.48_1742378139.jpeg?v=1.0.1.2\n/upload/news/WhatsApp Image 2025-03-11 at 15.38.44_1741690384.jpeg?v=1.0.1.2\n/upload/news/WhatsApp Image 2025-03-06 at 14.00.47_1741251770.jpeg?v=1.0.1.2\n/upload/news/WhatsApp Image 2025-03-05 at 14.40.31_1741167898.jpeg?v=1.0.1.2\n/upload/news/WhatsApp Image 2025-03-04 at 14.35.58_1741081231.jpeg?v=1.0.1.2\n/upload/news/WhatsApp Image 2025-03-03 at 15.36.17_1740999366.jpeg?v=1.0.1.2\n/upload/news/WhatsApp Image 2025-02-28 at 16.14.33 (1)_1740741960.jpeg?v=1.0.1.2\n/upload/news/WhatsApp Image 2025-02-28 at 16.21.02_1740742072.jpeg?v=1.0.1.2\n/upload/news/WhatsApp Image 2025-02-27 at 10.29.11_1740647868.jpeg?v=1.0.1.2\n/upload/news/WhatsApp Image 2025-02-26 at 16.27.54 (1)_1740569756.jpeg?v=1.0.1.2\n/upload/news/WhatsApp Image 2025-02-26 at 16.27.54_1740569845.jpeg?v=1.0.1.2\n/upload/news/WhatsApp Image 2025-02-27 at 15.40.06_1740653145.jpeg?v=1.0.1.2\n/upload/news/WhatsApp Image 2025-02-25 at 17.03.51_1740486630.jpeg?v=1.0.1.2\n/upload/news/WhatsApp Image 2025-02-25 at 17.03.51 (1)_1740486707.jpeg?v=1.0.1.2\nhttps://su.edu.pk/images/gallery/campus_at_glance.jpg\nhttps://su.edu.pk/images/bg/0017.jpg?ver=123\nhttps://su.edu.pk/images/facality-banners/1.png?v=1.0.1.2\nhttps://su.edu.pk/images/facality-banners/2.png?v=1.0.1.2\nhttps://su.edu.pk/images/facality-banners/3.png?v=1.0.1.2\nhttps://su.edu.pk/images/facality-banners/4.png?v=1.0.1.2\nhttps://su.edu.pk/images/facality-banners/5.png?v=1.0.1.2\nhttps://su.edu.pk/images/facality-banners/6.png?v=1.0.1.2\nhttps://su.edu.pk/images/facality-banners/7.png?v=1.0.1.2\nhttps://su.edu.pk/images/banners/12.png?v=1.0.1.2\nhttps://su.edu.pk/images/uos_footer_logo.png?v=1.0.1.2\n"
     ]
    }
   ],
   "source": [
    "# Find all image tags\n",
    "img_tags = soup.find_all(\"img\")\n",
    "\n",
    "# Extract image URLs\n",
    "image_urls = [img['src'] for img in img_tags if 'src' in img.attrs]\n",
    "\n",
    "# Print all image URLs\n",
    "for url in image_urls:\n",
    "    print(url)"
   ]
  },
  {
   "cell_type": "code",
   "execution_count": 40,
   "metadata": {},
   "outputs": [
    {
     "output_type": "display_data",
     "data": {
      "text/html": "<img src=\"https://su.edu.pk/images/final-logo-1.png?v=1.0.1.2\"/>",
      "text/plain": "<IPython.core.display.Image object>"
     },
     "metadata": {}
    },
    {
     "output_type": "display_data",
     "data": {
      "text/html": "<img src=\"https://su.edu.pk/images/final-logo-1.png?v=1.0.1.2\"/>",
      "text/plain": "<IPython.core.display.Image object>"
     },
     "metadata": {}
    },
    {
     "output_type": "display_data",
     "data": {
      "text/html": "<img src=\"https://su.edu.pk/upload/home-banners/CM-Laptops.jpeg\"/>",
      "text/plain": "<IPython.core.display.Image object>"
     },
     "metadata": {}
    },
    {
     "output_type": "display_data",
     "data": {
      "text/html": "<img src=\"https://su.edu.pk/upload/certification.jpeg\"/>",
      "text/plain": "<IPython.core.display.Image object>"
     },
     "metadata": {}
    },
    {
     "output_type": "display_data",
     "data": {
      "text/html": "<img src=\"https://su.edu.pk/upload/home-banners/e-rozgaar_latest.jpg\"/>",
      "text/plain": "<IPython.core.display.Image object>"
     },
     "metadata": {}
    },
    {
     "output_type": "display_data",
     "data": {
      "text/html": "<img src=\"https://su.edu.pk/upload/home-banners/transport-banner.jpg\"/>",
      "text/plain": "<IPython.core.display.Image object>"
     },
     "metadata": {}
    },
    {
     "output_type": "display_data",
     "data": {
      "text/html": "<img src=\"https://su.edu.pk/upload/home-banners/welcome.png\"/>",
      "text/plain": "<IPython.core.display.Image object>"
     },
     "metadata": {}
    },
    {
     "output_type": "display_data",
     "data": {
      "text/html": "<img src=\"https://su.edu.pk/upload/home-banners/hostels.jpeg\"/>",
      "text/plain": "<IPython.core.display.Image object>"
     },
     "metadata": {}
    },
    {
     "output_type": "display_data",
     "data": {
      "text/html": "<img src=\"https://su.edu.pk/images/journels.png?v=1.0.1.2\"/>",
      "text/plain": "<IPython.core.display.Image object>"
     },
     "metadata": {}
    },
    {
     "output_type": "display_data",
     "data": {
      "text/html": "<img src=\"https://su.edu.pk/images/research.png?v=1.0.1.2\"/>",
      "text/plain": "<IPython.core.display.Image object>"
     },
     "metadata": {}
    },
    {
     "output_type": "display_data",
     "data": {
      "text/html": "<img src=\"https://su.edu.pk/images/conference.png?v=1.0.1.2\"/>",
      "text/plain": "<IPython.core.display.Image object>"
     },
     "metadata": {}
    },
    {
     "output_type": "display_data",
     "data": {
      "text/html": "<img src=\"/upload/news/WhatsApp Image 2025-03-27 at 14.15.58_1743067095.jpeg?v=1.0.1.2\"/>",
      "text/plain": "<IPython.core.display.Image object>"
     },
     "metadata": {}
    },
    {
     "output_type": "display_data",
     "data": {
      "text/html": "<img src=\"/upload/news/WhatsApp Image 2025-03-26 at 14.59.15_1742985002.jpeg?v=1.0.1.2\"/>",
      "text/plain": "<IPython.core.display.Image object>"
     },
     "metadata": {}
    },
    {
     "output_type": "display_data",
     "data": {
      "text/html": "<img src=\"/upload/news/WhatsApp Image 2025-03-25 at 15.01.33_1742897235.jpeg?v=1.0.1.2\"/>",
      "text/plain": "<IPython.core.display.Image object>"
     },
     "metadata": {}
    },
    {
     "output_type": "display_data",
     "data": {
      "text/html": "<img src=\"/upload/news/WhatsApp Image 2025-03-24 at 13.35.32_1742805446.jpeg?v=1.0.1.2\"/>",
      "text/plain": "<IPython.core.display.Image object>"
     },
     "metadata": {}
    },
    {
     "output_type": "display_data",
     "data": {
      "text/html": "<img src=\"/upload/news/WhatsApp Image 2025-03-22 at 15.45.21_1742641153.jpeg?v=1.0.1.2\"/>",
      "text/plain": "<IPython.core.display.Image object>"
     },
     "metadata": {}
    },
    {
     "output_type": "display_data",
     "data": {
      "text/html": "<img src=\"/upload/news/WhatsApp Image 2025-03-21 at 13.43.44_1742549160.jpeg?v=1.0.1.2\"/>",
      "text/plain": "<IPython.core.display.Image object>"
     },
     "metadata": {}
    },
    {
     "output_type": "display_data",
     "data": {
      "text/html": "<img src=\"/upload/news/WhatsApp Image 2025-03-19 at 14.14.48_1742378139.jpeg?v=1.0.1.2\"/>",
      "text/plain": "<IPython.core.display.Image object>"
     },
     "metadata": {}
    },
    {
     "output_type": "display_data",
     "data": {
      "text/html": "<img src=\"/upload/news/WhatsApp Image 2025-03-11 at 15.38.44_1741690384.jpeg?v=1.0.1.2\"/>",
      "text/plain": "<IPython.core.display.Image object>"
     },
     "metadata": {}
    },
    {
     "output_type": "display_data",
     "data": {
      "text/html": "<img src=\"/upload/news/WhatsApp Image 2025-03-06 at 14.00.47_1741251770.jpeg?v=1.0.1.2\"/>",
      "text/plain": "<IPython.core.display.Image object>"
     },
     "metadata": {}
    },
    {
     "output_type": "display_data",
     "data": {
      "text/html": "<img src=\"/upload/news/WhatsApp Image 2025-03-05 at 14.40.31_1741167898.jpeg?v=1.0.1.2\"/>",
      "text/plain": "<IPython.core.display.Image object>"
     },
     "metadata": {}
    },
    {
     "output_type": "display_data",
     "data": {
      "text/html": "<img src=\"/upload/news/WhatsApp Image 2025-03-04 at 14.35.58_1741081231.jpeg?v=1.0.1.2\"/>",
      "text/plain": "<IPython.core.display.Image object>"
     },
     "metadata": {}
    },
    {
     "output_type": "display_data",
     "data": {
      "text/html": "<img src=\"/upload/news/WhatsApp Image 2025-03-03 at 15.36.17_1740999366.jpeg?v=1.0.1.2\"/>",
      "text/plain": "<IPython.core.display.Image object>"
     },
     "metadata": {}
    },
    {
     "output_type": "display_data",
     "data": {
      "text/html": "<img src=\"/upload/news/WhatsApp Image 2025-02-28 at 16.14.33 (1)_1740741960.jpeg?v=1.0.1.2\"/>",
      "text/plain": "<IPython.core.display.Image object>"
     },
     "metadata": {}
    },
    {
     "output_type": "display_data",
     "data": {
      "text/html": "<img src=\"/upload/news/WhatsApp Image 2025-02-28 at 16.21.02_1740742072.jpeg?v=1.0.1.2\"/>",
      "text/plain": "<IPython.core.display.Image object>"
     },
     "metadata": {}
    },
    {
     "output_type": "display_data",
     "data": {
      "text/html": "<img src=\"/upload/news/WhatsApp Image 2025-02-27 at 10.29.11_1740647868.jpeg?v=1.0.1.2\"/>",
      "text/plain": "<IPython.core.display.Image object>"
     },
     "metadata": {}
    },
    {
     "output_type": "display_data",
     "data": {
      "text/html": "<img src=\"/upload/news/WhatsApp Image 2025-02-26 at 16.27.54 (1)_1740569756.jpeg?v=1.0.1.2\"/>",
      "text/plain": "<IPython.core.display.Image object>"
     },
     "metadata": {}
    },
    {
     "output_type": "display_data",
     "data": {
      "text/html": "<img src=\"/upload/news/WhatsApp Image 2025-02-26 at 16.27.54_1740569845.jpeg?v=1.0.1.2\"/>",
      "text/plain": "<IPython.core.display.Image object>"
     },
     "metadata": {}
    },
    {
     "output_type": "display_data",
     "data": {
      "text/html": "<img src=\"/upload/news/WhatsApp Image 2025-02-27 at 15.40.06_1740653145.jpeg?v=1.0.1.2\"/>",
      "text/plain": "<IPython.core.display.Image object>"
     },
     "metadata": {}
    },
    {
     "output_type": "display_data",
     "data": {
      "text/html": "<img src=\"/upload/news/WhatsApp Image 2025-02-25 at 17.03.51_1740486630.jpeg?v=1.0.1.2\"/>",
      "text/plain": "<IPython.core.display.Image object>"
     },
     "metadata": {}
    },
    {
     "output_type": "display_data",
     "data": {
      "text/html": "<img src=\"/upload/news/WhatsApp Image 2025-02-25 at 17.03.51 (1)_1740486707.jpeg?v=1.0.1.2\"/>",
      "text/plain": "<IPython.core.display.Image object>"
     },
     "metadata": {}
    },
    {
     "output_type": "display_data",
     "data": {
      "text/html": "<img src=\"https://su.edu.pk/images/gallery/campus_at_glance.jpg\"/>",
      "text/plain": "<IPython.core.display.Image object>"
     },
     "metadata": {}
    },
    {
     "output_type": "display_data",
     "data": {
      "text/html": "<img src=\"https://su.edu.pk/images/bg/0017.jpg?ver=123\"/>",
      "text/plain": "<IPython.core.display.Image object>"
     },
     "metadata": {}
    },
    {
     "output_type": "display_data",
     "data": {
      "text/html": "<img src=\"https://su.edu.pk/images/facality-banners/1.png?v=1.0.1.2\"/>",
      "text/plain": "<IPython.core.display.Image object>"
     },
     "metadata": {}
    },
    {
     "output_type": "display_data",
     "data": {
      "text/html": "<img src=\"https://su.edu.pk/images/facality-banners/2.png?v=1.0.1.2\"/>",
      "text/plain": "<IPython.core.display.Image object>"
     },
     "metadata": {}
    },
    {
     "output_type": "display_data",
     "data": {
      "text/html": "<img src=\"https://su.edu.pk/images/facality-banners/3.png?v=1.0.1.2\"/>",
      "text/plain": "<IPython.core.display.Image object>"
     },
     "metadata": {}
    },
    {
     "output_type": "display_data",
     "data": {
      "text/html": "<img src=\"https://su.edu.pk/images/facality-banners/4.png?v=1.0.1.2\"/>",
      "text/plain": "<IPython.core.display.Image object>"
     },
     "metadata": {}
    },
    {
     "output_type": "display_data",
     "data": {
      "text/html": "<img src=\"https://su.edu.pk/images/facality-banners/5.png?v=1.0.1.2\"/>",
      "text/plain": "<IPython.core.display.Image object>"
     },
     "metadata": {}
    },
    {
     "output_type": "display_data",
     "data": {
      "text/html": "<img src=\"https://su.edu.pk/images/facality-banners/6.png?v=1.0.1.2\"/>",
      "text/plain": "<IPython.core.display.Image object>"
     },
     "metadata": {}
    },
    {
     "output_type": "display_data",
     "data": {
      "text/html": "<img src=\"https://su.edu.pk/images/facality-banners/7.png?v=1.0.1.2\"/>",
      "text/plain": "<IPython.core.display.Image object>"
     },
     "metadata": {}
    },
    {
     "output_type": "display_data",
     "data": {
      "text/html": "<img src=\"https://su.edu.pk/images/banners/12.png?v=1.0.1.2\"/>",
      "text/plain": "<IPython.core.display.Image object>"
     },
     "metadata": {}
    },
    {
     "output_type": "display_data",
     "data": {
      "text/html": "<img src=\"https://su.edu.pk/images/uos_footer_logo.png?v=1.0.1.2\"/>",
      "text/plain": "<IPython.core.display.Image object>"
     },
     "metadata": {}
    }
   ],
   "source": [
    "from IPython.display import Image, display\n",
    "\n",
    "for url in image_urls:\n",
    "    display(Image(url=url))"
   ]
  },
  {
   "cell_type": "code",
   "execution_count": 41,
   "metadata": {},
   "outputs": [
    {
     "output_type": "stream",
     "name": "stdout",
     "text": [
      "Found 0 tables.\n"
     ]
    }
   ],
   "source": [
    "# Find all tables\n",
    "tables = soup.find_all(\"table\")\n",
    "\n",
    "# Print the number of tables found\n",
    "print(f\"Found {len(tables)} tables.\")\n",
    "\n",
    "# Example: print the first table's rows and cells\n",
    "if tables:\n",
    "    table = tables[0]\n",
    "    rows = table.find_all(\"tr\")\n",
    "    for row in rows:\n",
    "        cols = row.find_all([\"td\", \"th\"])\n",
    "        print([col.text.strip() for col in cols])\n"
   ]
  },
  {
   "cell_type": "code",
   "execution_count": 43,
   "metadata": {},
   "outputs": [],
   "source": [
    "# Look for divs with a common grid-like class (inspect the site to get actual class name)\n",
    "grid_items = soup.find_all(\"div\", class_=\"grid-item\")  # Replace with actual class\n",
    "\n",
    "# Print the content of each grid item\n",
    "for item in grid_items:\n",
    "    print(item.text.strip())"
   ]
  },
  {
   "cell_type": "code",
   "execution_count": 50,
   "metadata": {},
   "outputs": [
    {
     "output_type": "stream",
     "name": "stdout",
     "text": [
      "No matching <div id='app-frontend'> found!\n"
     ]
    }
   ],
   "source": [
    "id_data = soup.find(\"div\",class_=\"col-12  pr-0 pl-0 pt-3 pb-3 m-0\")\n",
    "\n",
    "if id_data:\n",
    "    paragraphs = id_data.find_all(\"h2\")\n",
    "    for p in paragraphs:\n",
    "        print(p.text)\n",
    "else:\n",
    "    print(\"No matching <div id='app-frontend'> found!\")"
   ]
  },
  {
   "cell_type": "code",
   "execution_count": null,
   "metadata": {},
   "outputs": [],
   "source": []
  }
 ]
}
